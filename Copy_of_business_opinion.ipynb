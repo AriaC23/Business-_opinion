{
  "nbformat": 4,
  "nbformat_minor": 0,
  "metadata": {
    "colab": {
      "provenance": [],
      "toc_visible": true,
      "include_colab_link": true
    },
    "kernelspec": {
      "name": "python3",
      "display_name": "Python 3"
    },
    "language_info": {
      "name": "python"
    }
  },
  "cells": [
    {
      "cell_type": "markdown",
      "metadata": {
        "id": "view-in-github",
        "colab_type": "text"
      },
      "source": [
        "<a href=\"https://colab.research.google.com/github/AriaC23/Business-_opinion/blob/main/Copy_of_business_opinion.ipynb\" target=\"_parent\"><img src=\"https://colab.research.google.com/assets/colab-badge.svg\" alt=\"Open In Colab\"/></a>"
      ]
    },
    {
      "cell_type": "markdown",
      "source": [
        "# 1.Data Loading"
      ],
      "metadata": {
        "id": "w3YkIVpidd-d"
      }
    },
    {
      "cell_type": "code",
      "source": [
        "from google.colab import files\n",
        "uploaded = files.upload() # upload kaggle.json"
      ],
      "metadata": {
        "colab": {
          "base_uri": "https://localhost:8080/",
          "height": 39
        },
        "id": "-0NgZIgOdmSr",
        "outputId": "c3a35257-d48e-4522-89e7-14f857e43f0b"
      },
      "execution_count": 1,
      "outputs": [
        {
          "output_type": "display_data",
          "data": {
            "text/plain": [
              "<IPython.core.display.HTML object>"
            ],
            "text/html": [
              "\n",
              "     <input type=\"file\" id=\"files-2ec929a5-d41f-46fe-aa50-481d91ac960a\" name=\"files[]\" multiple disabled\n",
              "        style=\"border:none\" />\n",
              "     <output id=\"result-2ec929a5-d41f-46fe-aa50-481d91ac960a\">\n",
              "      Upload widget is only available when the cell has been executed in the\n",
              "      current browser session. Please rerun this cell to enable.\n",
              "      </output>\n",
              "      <script>// Copyright 2017 Google LLC\n",
              "//\n",
              "// Licensed under the Apache License, Version 2.0 (the \"License\");\n",
              "// you may not use this file except in compliance with the License.\n",
              "// You may obtain a copy of the License at\n",
              "//\n",
              "//      http://www.apache.org/licenses/LICENSE-2.0\n",
              "//\n",
              "// Unless required by applicable law or agreed to in writing, software\n",
              "// distributed under the License is distributed on an \"AS IS\" BASIS,\n",
              "// WITHOUT WARRANTIES OR CONDITIONS OF ANY KIND, either express or implied.\n",
              "// See the License for the specific language governing permissions and\n",
              "// limitations under the License.\n",
              "\n",
              "/**\n",
              " * @fileoverview Helpers for google.colab Python module.\n",
              " */\n",
              "(function(scope) {\n",
              "function span(text, styleAttributes = {}) {\n",
              "  const element = document.createElement('span');\n",
              "  element.textContent = text;\n",
              "  for (const key of Object.keys(styleAttributes)) {\n",
              "    element.style[key] = styleAttributes[key];\n",
              "  }\n",
              "  return element;\n",
              "}\n",
              "\n",
              "// Max number of bytes which will be uploaded at a time.\n",
              "const MAX_PAYLOAD_SIZE = 100 * 1024;\n",
              "\n",
              "function _uploadFiles(inputId, outputId) {\n",
              "  const steps = uploadFilesStep(inputId, outputId);\n",
              "  const outputElement = document.getElementById(outputId);\n",
              "  // Cache steps on the outputElement to make it available for the next call\n",
              "  // to uploadFilesContinue from Python.\n",
              "  outputElement.steps = steps;\n",
              "\n",
              "  return _uploadFilesContinue(outputId);\n",
              "}\n",
              "\n",
              "// This is roughly an async generator (not supported in the browser yet),\n",
              "// where there are multiple asynchronous steps and the Python side is going\n",
              "// to poll for completion of each step.\n",
              "// This uses a Promise to block the python side on completion of each step,\n",
              "// then passes the result of the previous step as the input to the next step.\n",
              "function _uploadFilesContinue(outputId) {\n",
              "  const outputElement = document.getElementById(outputId);\n",
              "  const steps = outputElement.steps;\n",
              "\n",
              "  const next = steps.next(outputElement.lastPromiseValue);\n",
              "  return Promise.resolve(next.value.promise).then((value) => {\n",
              "    // Cache the last promise value to make it available to the next\n",
              "    // step of the generator.\n",
              "    outputElement.lastPromiseValue = value;\n",
              "    return next.value.response;\n",
              "  });\n",
              "}\n",
              "\n",
              "/**\n",
              " * Generator function which is called between each async step of the upload\n",
              " * process.\n",
              " * @param {string} inputId Element ID of the input file picker element.\n",
              " * @param {string} outputId Element ID of the output display.\n",
              " * @return {!Iterable<!Object>} Iterable of next steps.\n",
              " */\n",
              "function* uploadFilesStep(inputId, outputId) {\n",
              "  const inputElement = document.getElementById(inputId);\n",
              "  inputElement.disabled = false;\n",
              "\n",
              "  const outputElement = document.getElementById(outputId);\n",
              "  outputElement.innerHTML = '';\n",
              "\n",
              "  const pickedPromise = new Promise((resolve) => {\n",
              "    inputElement.addEventListener('change', (e) => {\n",
              "      resolve(e.target.files);\n",
              "    });\n",
              "  });\n",
              "\n",
              "  const cancel = document.createElement('button');\n",
              "  inputElement.parentElement.appendChild(cancel);\n",
              "  cancel.textContent = 'Cancel upload';\n",
              "  const cancelPromise = new Promise((resolve) => {\n",
              "    cancel.onclick = () => {\n",
              "      resolve(null);\n",
              "    };\n",
              "  });\n",
              "\n",
              "  // Wait for the user to pick the files.\n",
              "  const files = yield {\n",
              "    promise: Promise.race([pickedPromise, cancelPromise]),\n",
              "    response: {\n",
              "      action: 'starting',\n",
              "    }\n",
              "  };\n",
              "\n",
              "  cancel.remove();\n",
              "\n",
              "  // Disable the input element since further picks are not allowed.\n",
              "  inputElement.disabled = true;\n",
              "\n",
              "  if (!files) {\n",
              "    return {\n",
              "      response: {\n",
              "        action: 'complete',\n",
              "      }\n",
              "    };\n",
              "  }\n",
              "\n",
              "  for (const file of files) {\n",
              "    const li = document.createElement('li');\n",
              "    li.append(span(file.name, {fontWeight: 'bold'}));\n",
              "    li.append(span(\n",
              "        `(${file.type || 'n/a'}) - ${file.size} bytes, ` +\n",
              "        `last modified: ${\n",
              "            file.lastModifiedDate ? file.lastModifiedDate.toLocaleDateString() :\n",
              "                                    'n/a'} - `));\n",
              "    const percent = span('0% done');\n",
              "    li.appendChild(percent);\n",
              "\n",
              "    outputElement.appendChild(li);\n",
              "\n",
              "    const fileDataPromise = new Promise((resolve) => {\n",
              "      const reader = new FileReader();\n",
              "      reader.onload = (e) => {\n",
              "        resolve(e.target.result);\n",
              "      };\n",
              "      reader.readAsArrayBuffer(file);\n",
              "    });\n",
              "    // Wait for the data to be ready.\n",
              "    let fileData = yield {\n",
              "      promise: fileDataPromise,\n",
              "      response: {\n",
              "        action: 'continue',\n",
              "      }\n",
              "    };\n",
              "\n",
              "    // Use a chunked sending to avoid message size limits. See b/62115660.\n",
              "    let position = 0;\n",
              "    do {\n",
              "      const length = Math.min(fileData.byteLength - position, MAX_PAYLOAD_SIZE);\n",
              "      const chunk = new Uint8Array(fileData, position, length);\n",
              "      position += length;\n",
              "\n",
              "      const base64 = btoa(String.fromCharCode.apply(null, chunk));\n",
              "      yield {\n",
              "        response: {\n",
              "          action: 'append',\n",
              "          file: file.name,\n",
              "          data: base64,\n",
              "        },\n",
              "      };\n",
              "\n",
              "      let percentDone = fileData.byteLength === 0 ?\n",
              "          100 :\n",
              "          Math.round((position / fileData.byteLength) * 100);\n",
              "      percent.textContent = `${percentDone}% done`;\n",
              "\n",
              "    } while (position < fileData.byteLength);\n",
              "  }\n",
              "\n",
              "  // All done.\n",
              "  yield {\n",
              "    response: {\n",
              "      action: 'complete',\n",
              "    }\n",
              "  };\n",
              "}\n",
              "\n",
              "scope.google = scope.google || {};\n",
              "scope.google.colab = scope.google.colab || {};\n",
              "scope.google.colab._files = {\n",
              "  _uploadFiles,\n",
              "  _uploadFilesContinue,\n",
              "};\n",
              "})(self);\n",
              "</script> "
            ]
          },
          "metadata": {}
        }
      ]
    },
    {
      "cell_type": "code",
      "metadata": {
        "id": "GmBw_ukzQsW6"
      },
      "source": [
        "! mkdir ~/.kaggle"
      ],
      "execution_count": null,
      "outputs": []
    },
    {
      "cell_type": "code",
      "metadata": {
        "id": "o2s0wz7BQsae"
      },
      "source": [
        "! cp kaggle.json ~/.kaggle/"
      ],
      "execution_count": null,
      "outputs": []
    },
    {
      "cell_type": "code",
      "metadata": {
        "id": "uCpAQfhYQsdZ"
      },
      "source": [
        "! chmod 600 ~/.kaggle/kaggle.json"
      ],
      "execution_count": null,
      "outputs": []
    },
    {
      "cell_type": "code",
      "source": [
        "!kaggle datasets download aashita/nyt-comments -f CommentsMarch2018.csv -p /content/"
      ],
      "metadata": {
        "colab": {
          "base_uri": "https://localhost:8080/"
        },
        "id": "QD7mJ9RleDeW",
        "outputId": "cc10c651-d15b-430b-aafa-b607f8e67ea1"
      },
      "execution_count": null,
      "outputs": [
        {
          "output_type": "stream",
          "name": "stdout",
          "text": [
            "Downloading CommentsMarch2018.csv.zip to /content\n",
            " 90% 49.0M/54.3M [00:00<00:00, 64.3MB/s]\n",
            "100% 54.3M/54.3M [00:00<00:00, 61.8MB/s]\n"
          ]
        }
      ]
    },
    {
      "cell_type": "code",
      "source": [
        "from zipfile import ZipFile\n",
        "with ZipFile(\"CommentsMarch2018.csv.zip\", 'r') as zip:\n",
        "  zip.extractall()"
      ],
      "metadata": {
        "id": "GLja5iOfdH1G"
      },
      "execution_count": null,
      "outputs": []
    },
    {
      "cell_type": "code",
      "source": [
        "import pandas as pd\n",
        "from collections import Counter, defaultdict"
      ],
      "metadata": {
        "id": "Paua2TRUgPkc"
      },
      "execution_count": null,
      "outputs": []
    },
    {
      "cell_type": "code",
      "source": [
        "data = pd.read_csv('/content/CommentsMarch2018.csv')"
      ],
      "metadata": {
        "colab": {
          "base_uri": "https://localhost:8080/"
        },
        "id": "0uSteIrnddAz",
        "outputId": "fe3cce6a-0813-48d3-9b0f-213e0ebff95c"
      },
      "execution_count": null,
      "outputs": [
        {
          "output_type": "stream",
          "name": "stderr",
          "text": [
            "/usr/local/lib/python3.8/dist-packages/IPython/core/interactiveshell.py:3326: DtypeWarning: Columns (14,15,31) have mixed types.Specify dtype option on import or set low_memory=False.\n",
            "  exec(code_obj, self.user_global_ns, self.user_ns)\n"
          ]
        }
      ]
    },
    {
      "cell_type": "code",
      "source": [
        "data"
      ],
      "metadata": {
        "colab": {
          "base_uri": "https://localhost:8080/",
          "height": 1000
        },
        "id": "7iPkE6QNnt-f",
        "outputId": "cc6f79af-007b-45ad-d276-c5af952ca0b9"
      },
      "execution_count": null,
      "outputs": [
        {
          "output_type": "execute_result",
          "data": {
            "text/plain": [
              "        approveDate                 articleID  articleWordCount  \\\n",
              "0        1520043821  5a974697410cf7000162e8a4              1207   \n",
              "1        1520043790  5a974697410cf7000162e8a4              1207   \n",
              "2        1520043789  5a974697410cf7000162e8a4              1207   \n",
              "3        1520043788  5a974697410cf7000162e8a4              1207   \n",
              "4        1520043787  5a974697410cf7000162e8a4              1207   \n",
              "...             ...                       ...               ...   \n",
              "246910   1522592385  5abfd3ae47de81a90121a8bf              1218   \n",
              "246911   1522597975  5abfd3ae47de81a90121a8bf              1218   \n",
              "246912   1522598023  5abfd3ae47de81a90121a8bf              1218   \n",
              "246913   1522634688  5ac0ea1647de81a90121abd6              1492   \n",
              "246914   1522639851  5ac0ea1647de81a90121abd6              1492   \n",
              "\n",
              "                                              commentBody   commentID  \\\n",
              "0       If the choice is between mining for bitcoin - ...  26188943.0   \n",
              "1       <br/>To me, Bitcoin (et al) appears to be an e...  26189292.0   \n",
              "2       Bitcoin is a pyramid scheme backed by nothing ...  26189645.0   \n",
              "3       What does it cost in energy to dig up and refi...  26189102.0   \n",
              "4                  You forgot to mention stock buybacks.   26189683.0   \n",
              "...                                                   ...         ...   \n",
              "246910          And so it goes, \"power concedes nothing\".  26559272.0   \n",
              "246911  The mere \"kvetches\" you malign need to be told...  26560717.0   \n",
              "246912  What you say sounds good, and intelligent. But...  26560789.0   \n",
              "246913  Actually, the US is not in the top ten for mas...  26563371.0   \n",
              "246914  To KBronson,<br/>Norway has had just one mass ...  26563722.0   \n",
              "\n",
              "        commentSequence commentTitle commentType  createDate  depth  ...  \\\n",
              "0            26188943.0        <br/>     comment  1520029445    1.0  ...   \n",
              "1            26189292.0        <br/>     comment  1520031265    1.0  ...   \n",
              "2            26189645.0        <br/>     comment  1520033172    1.0  ...   \n",
              "3            26189102.0        <br/>     comment  1520030291    1.0  ...   \n",
              "4            26189683.0        <br/>     comment  1520033404    1.0  ...   \n",
              "...                 ...          ...         ...         ...    ...  ...   \n",
              "246910       26559272.0        <br/>   userReply  1522573366    3.0  ...   \n",
              "246911       26560717.0        <br/>   userReply  1522593487    3.0  ...   \n",
              "246912       26560789.0        <br/>   userReply  1522594187    3.0  ...   \n",
              "246913       26563371.0        <br/>   userReply  1522634660    3.0  ...   \n",
              "246914       26563722.0        <br/>   userReply  1522639772    3.0  ...   \n",
              "\n",
              "          status  timespeople trusted  updateDate userDisplayName      userID  \\\n",
              "0       approved            1       0  1520043821           Steve  46903103.0   \n",
              "1       approved            1       0  1520043790       MyOpinion     82778.0   \n",
              "2       approved            1       0  1520043789       Bert Gold   3013548.0   \n",
              "3       approved            1       0  1520043788    James Demers  70245222.0   \n",
              "4       approved            1       0  1520043787            Bill  66424344.0   \n",
              "...          ...          ...     ...         ...             ...         ...   \n",
              "246910  approved            1       0  1522592385             fdc  67922378.0   \n",
              "246911  approved            1       0  1522597975   The way it is  59299382.0   \n",
              "246912  approved            1       0  1522598023             LFK  60787329.0   \n",
              "246913  approved            1       0  1522634688        KBronson  56503012.0   \n",
              "246914  approved            1       0  1522639851      Kirsten S.  46675463.0   \n",
              "\n",
              "               userLocation  userTitle  userURL  typeOfMaterial  \n",
              "0                   Florida        NaN      NaN            News  \n",
              "1                       NYC        NaN      NaN            News  \n",
              "2       Frederick, Maryland        NaN      NaN            News  \n",
              "3                  Brooklyn        NaN      NaN            News  \n",
              "4                California        NaN      NaN            News  \n",
              "...                     ...        ...      ...             ...  \n",
              "246910                  USA        NaN      NaN           Op-Ed  \n",
              "246911                   NC        NaN      NaN           Op-Ed  \n",
              "246912                   VA        NaN      NaN           Op-Ed  \n",
              "246913            Louisiana        NaN      NaN            News  \n",
              "246914              Midwest        NaN      NaN            News  \n",
              "\n",
              "[246915 rows x 34 columns]"
            ],
            "text/html": [
              "\n",
              "  <div id=\"df-5b30213f-dbee-4a5d-8c1f-3330b88940d5\">\n",
              "    <div class=\"colab-df-container\">\n",
              "      <div>\n",
              "<style scoped>\n",
              "    .dataframe tbody tr th:only-of-type {\n",
              "        vertical-align: middle;\n",
              "    }\n",
              "\n",
              "    .dataframe tbody tr th {\n",
              "        vertical-align: top;\n",
              "    }\n",
              "\n",
              "    .dataframe thead th {\n",
              "        text-align: right;\n",
              "    }\n",
              "</style>\n",
              "<table border=\"1\" class=\"dataframe\">\n",
              "  <thead>\n",
              "    <tr style=\"text-align: right;\">\n",
              "      <th></th>\n",
              "      <th>approveDate</th>\n",
              "      <th>articleID</th>\n",
              "      <th>articleWordCount</th>\n",
              "      <th>commentBody</th>\n",
              "      <th>commentID</th>\n",
              "      <th>commentSequence</th>\n",
              "      <th>commentTitle</th>\n",
              "      <th>commentType</th>\n",
              "      <th>createDate</th>\n",
              "      <th>depth</th>\n",
              "      <th>...</th>\n",
              "      <th>status</th>\n",
              "      <th>timespeople</th>\n",
              "      <th>trusted</th>\n",
              "      <th>updateDate</th>\n",
              "      <th>userDisplayName</th>\n",
              "      <th>userID</th>\n",
              "      <th>userLocation</th>\n",
              "      <th>userTitle</th>\n",
              "      <th>userURL</th>\n",
              "      <th>typeOfMaterial</th>\n",
              "    </tr>\n",
              "  </thead>\n",
              "  <tbody>\n",
              "    <tr>\n",
              "      <th>0</th>\n",
              "      <td>1520043821</td>\n",
              "      <td>5a974697410cf7000162e8a4</td>\n",
              "      <td>1207</td>\n",
              "      <td>If the choice is between mining for bitcoin - ...</td>\n",
              "      <td>26188943.0</td>\n",
              "      <td>26188943.0</td>\n",
              "      <td>&lt;br/&gt;</td>\n",
              "      <td>comment</td>\n",
              "      <td>1520029445</td>\n",
              "      <td>1.0</td>\n",
              "      <td>...</td>\n",
              "      <td>approved</td>\n",
              "      <td>1</td>\n",
              "      <td>0</td>\n",
              "      <td>1520043821</td>\n",
              "      <td>Steve</td>\n",
              "      <td>46903103.0</td>\n",
              "      <td>Florida</td>\n",
              "      <td>NaN</td>\n",
              "      <td>NaN</td>\n",
              "      <td>News</td>\n",
              "    </tr>\n",
              "    <tr>\n",
              "      <th>1</th>\n",
              "      <td>1520043790</td>\n",
              "      <td>5a974697410cf7000162e8a4</td>\n",
              "      <td>1207</td>\n",
              "      <td>&lt;br/&gt;To me, Bitcoin (et al) appears to be an e...</td>\n",
              "      <td>26189292.0</td>\n",
              "      <td>26189292.0</td>\n",
              "      <td>&lt;br/&gt;</td>\n",
              "      <td>comment</td>\n",
              "      <td>1520031265</td>\n",
              "      <td>1.0</td>\n",
              "      <td>...</td>\n",
              "      <td>approved</td>\n",
              "      <td>1</td>\n",
              "      <td>0</td>\n",
              "      <td>1520043790</td>\n",
              "      <td>MyOpinion</td>\n",
              "      <td>82778.0</td>\n",
              "      <td>NYC</td>\n",
              "      <td>NaN</td>\n",
              "      <td>NaN</td>\n",
              "      <td>News</td>\n",
              "    </tr>\n",
              "    <tr>\n",
              "      <th>2</th>\n",
              "      <td>1520043789</td>\n",
              "      <td>5a974697410cf7000162e8a4</td>\n",
              "      <td>1207</td>\n",
              "      <td>Bitcoin is a pyramid scheme backed by nothing ...</td>\n",
              "      <td>26189645.0</td>\n",
              "      <td>26189645.0</td>\n",
              "      <td>&lt;br/&gt;</td>\n",
              "      <td>comment</td>\n",
              "      <td>1520033172</td>\n",
              "      <td>1.0</td>\n",
              "      <td>...</td>\n",
              "      <td>approved</td>\n",
              "      <td>1</td>\n",
              "      <td>0</td>\n",
              "      <td>1520043789</td>\n",
              "      <td>Bert Gold</td>\n",
              "      <td>3013548.0</td>\n",
              "      <td>Frederick, Maryland</td>\n",
              "      <td>NaN</td>\n",
              "      <td>NaN</td>\n",
              "      <td>News</td>\n",
              "    </tr>\n",
              "    <tr>\n",
              "      <th>3</th>\n",
              "      <td>1520043788</td>\n",
              "      <td>5a974697410cf7000162e8a4</td>\n",
              "      <td>1207</td>\n",
              "      <td>What does it cost in energy to dig up and refi...</td>\n",
              "      <td>26189102.0</td>\n",
              "      <td>26189102.0</td>\n",
              "      <td>&lt;br/&gt;</td>\n",
              "      <td>comment</td>\n",
              "      <td>1520030291</td>\n",
              "      <td>1.0</td>\n",
              "      <td>...</td>\n",
              "      <td>approved</td>\n",
              "      <td>1</td>\n",
              "      <td>0</td>\n",
              "      <td>1520043788</td>\n",
              "      <td>James Demers</td>\n",
              "      <td>70245222.0</td>\n",
              "      <td>Brooklyn</td>\n",
              "      <td>NaN</td>\n",
              "      <td>NaN</td>\n",
              "      <td>News</td>\n",
              "    </tr>\n",
              "    <tr>\n",
              "      <th>4</th>\n",
              "      <td>1520043787</td>\n",
              "      <td>5a974697410cf7000162e8a4</td>\n",
              "      <td>1207</td>\n",
              "      <td>You forgot to mention stock buybacks.</td>\n",
              "      <td>26189683.0</td>\n",
              "      <td>26189683.0</td>\n",
              "      <td>&lt;br/&gt;</td>\n",
              "      <td>comment</td>\n",
              "      <td>1520033404</td>\n",
              "      <td>1.0</td>\n",
              "      <td>...</td>\n",
              "      <td>approved</td>\n",
              "      <td>1</td>\n",
              "      <td>0</td>\n",
              "      <td>1520043787</td>\n",
              "      <td>Bill</td>\n",
              "      <td>66424344.0</td>\n",
              "      <td>California</td>\n",
              "      <td>NaN</td>\n",
              "      <td>NaN</td>\n",
              "      <td>News</td>\n",
              "    </tr>\n",
              "    <tr>\n",
              "      <th>...</th>\n",
              "      <td>...</td>\n",
              "      <td>...</td>\n",
              "      <td>...</td>\n",
              "      <td>...</td>\n",
              "      <td>...</td>\n",
              "      <td>...</td>\n",
              "      <td>...</td>\n",
              "      <td>...</td>\n",
              "      <td>...</td>\n",
              "      <td>...</td>\n",
              "      <td>...</td>\n",
              "      <td>...</td>\n",
              "      <td>...</td>\n",
              "      <td>...</td>\n",
              "      <td>...</td>\n",
              "      <td>...</td>\n",
              "      <td>...</td>\n",
              "      <td>...</td>\n",
              "      <td>...</td>\n",
              "      <td>...</td>\n",
              "      <td>...</td>\n",
              "    </tr>\n",
              "    <tr>\n",
              "      <th>246910</th>\n",
              "      <td>1522592385</td>\n",
              "      <td>5abfd3ae47de81a90121a8bf</td>\n",
              "      <td>1218</td>\n",
              "      <td>And so it goes, \"power concedes nothing\".</td>\n",
              "      <td>26559272.0</td>\n",
              "      <td>26559272.0</td>\n",
              "      <td>&lt;br/&gt;</td>\n",
              "      <td>userReply</td>\n",
              "      <td>1522573366</td>\n",
              "      <td>3.0</td>\n",
              "      <td>...</td>\n",
              "      <td>approved</td>\n",
              "      <td>1</td>\n",
              "      <td>0</td>\n",
              "      <td>1522592385</td>\n",
              "      <td>fdc</td>\n",
              "      <td>67922378.0</td>\n",
              "      <td>USA</td>\n",
              "      <td>NaN</td>\n",
              "      <td>NaN</td>\n",
              "      <td>Op-Ed</td>\n",
              "    </tr>\n",
              "    <tr>\n",
              "      <th>246911</th>\n",
              "      <td>1522597975</td>\n",
              "      <td>5abfd3ae47de81a90121a8bf</td>\n",
              "      <td>1218</td>\n",
              "      <td>The mere \"kvetches\" you malign need to be told...</td>\n",
              "      <td>26560717.0</td>\n",
              "      <td>26560717.0</td>\n",
              "      <td>&lt;br/&gt;</td>\n",
              "      <td>userReply</td>\n",
              "      <td>1522593487</td>\n",
              "      <td>3.0</td>\n",
              "      <td>...</td>\n",
              "      <td>approved</td>\n",
              "      <td>1</td>\n",
              "      <td>0</td>\n",
              "      <td>1522597975</td>\n",
              "      <td>The way it is</td>\n",
              "      <td>59299382.0</td>\n",
              "      <td>NC</td>\n",
              "      <td>NaN</td>\n",
              "      <td>NaN</td>\n",
              "      <td>Op-Ed</td>\n",
              "    </tr>\n",
              "    <tr>\n",
              "      <th>246912</th>\n",
              "      <td>1522598023</td>\n",
              "      <td>5abfd3ae47de81a90121a8bf</td>\n",
              "      <td>1218</td>\n",
              "      <td>What you say sounds good, and intelligent. But...</td>\n",
              "      <td>26560789.0</td>\n",
              "      <td>26560789.0</td>\n",
              "      <td>&lt;br/&gt;</td>\n",
              "      <td>userReply</td>\n",
              "      <td>1522594187</td>\n",
              "      <td>3.0</td>\n",
              "      <td>...</td>\n",
              "      <td>approved</td>\n",
              "      <td>1</td>\n",
              "      <td>0</td>\n",
              "      <td>1522598023</td>\n",
              "      <td>LFK</td>\n",
              "      <td>60787329.0</td>\n",
              "      <td>VA</td>\n",
              "      <td>NaN</td>\n",
              "      <td>NaN</td>\n",
              "      <td>Op-Ed</td>\n",
              "    </tr>\n",
              "    <tr>\n",
              "      <th>246913</th>\n",
              "      <td>1522634688</td>\n",
              "      <td>5ac0ea1647de81a90121abd6</td>\n",
              "      <td>1492</td>\n",
              "      <td>Actually, the US is not in the top ten for mas...</td>\n",
              "      <td>26563371.0</td>\n",
              "      <td>26563371.0</td>\n",
              "      <td>&lt;br/&gt;</td>\n",
              "      <td>userReply</td>\n",
              "      <td>1522634660</td>\n",
              "      <td>3.0</td>\n",
              "      <td>...</td>\n",
              "      <td>approved</td>\n",
              "      <td>1</td>\n",
              "      <td>0</td>\n",
              "      <td>1522634688</td>\n",
              "      <td>KBronson</td>\n",
              "      <td>56503012.0</td>\n",
              "      <td>Louisiana</td>\n",
              "      <td>NaN</td>\n",
              "      <td>NaN</td>\n",
              "      <td>News</td>\n",
              "    </tr>\n",
              "    <tr>\n",
              "      <th>246914</th>\n",
              "      <td>1522639851</td>\n",
              "      <td>5ac0ea1647de81a90121abd6</td>\n",
              "      <td>1492</td>\n",
              "      <td>To KBronson,&lt;br/&gt;Norway has had just one mass ...</td>\n",
              "      <td>26563722.0</td>\n",
              "      <td>26563722.0</td>\n",
              "      <td>&lt;br/&gt;</td>\n",
              "      <td>userReply</td>\n",
              "      <td>1522639772</td>\n",
              "      <td>3.0</td>\n",
              "      <td>...</td>\n",
              "      <td>approved</td>\n",
              "      <td>1</td>\n",
              "      <td>0</td>\n",
              "      <td>1522639851</td>\n",
              "      <td>Kirsten S.</td>\n",
              "      <td>46675463.0</td>\n",
              "      <td>Midwest</td>\n",
              "      <td>NaN</td>\n",
              "      <td>NaN</td>\n",
              "      <td>News</td>\n",
              "    </tr>\n",
              "  </tbody>\n",
              "</table>\n",
              "<p>246915 rows × 34 columns</p>\n",
              "</div>\n",
              "      <button class=\"colab-df-convert\" onclick=\"convertToInteractive('df-5b30213f-dbee-4a5d-8c1f-3330b88940d5')\"\n",
              "              title=\"Convert this dataframe to an interactive table.\"\n",
              "              style=\"display:none;\">\n",
              "        \n",
              "  <svg xmlns=\"http://www.w3.org/2000/svg\" height=\"24px\"viewBox=\"0 0 24 24\"\n",
              "       width=\"24px\">\n",
              "    <path d=\"M0 0h24v24H0V0z\" fill=\"none\"/>\n",
              "    <path d=\"M18.56 5.44l.94 2.06.94-2.06 2.06-.94-2.06-.94-.94-2.06-.94 2.06-2.06.94zm-11 1L8.5 8.5l.94-2.06 2.06-.94-2.06-.94L8.5 2.5l-.94 2.06-2.06.94zm10 10l.94 2.06.94-2.06 2.06-.94-2.06-.94-.94-2.06-.94 2.06-2.06.94z\"/><path d=\"M17.41 7.96l-1.37-1.37c-.4-.4-.92-.59-1.43-.59-.52 0-1.04.2-1.43.59L10.3 9.45l-7.72 7.72c-.78.78-.78 2.05 0 2.83L4 21.41c.39.39.9.59 1.41.59.51 0 1.02-.2 1.41-.59l7.78-7.78 2.81-2.81c.8-.78.8-2.07 0-2.86zM5.41 20L4 18.59l7.72-7.72 1.47 1.35L5.41 20z\"/>\n",
              "  </svg>\n",
              "      </button>\n",
              "      \n",
              "  <style>\n",
              "    .colab-df-container {\n",
              "      display:flex;\n",
              "      flex-wrap:wrap;\n",
              "      gap: 12px;\n",
              "    }\n",
              "\n",
              "    .colab-df-convert {\n",
              "      background-color: #E8F0FE;\n",
              "      border: none;\n",
              "      border-radius: 50%;\n",
              "      cursor: pointer;\n",
              "      display: none;\n",
              "      fill: #1967D2;\n",
              "      height: 32px;\n",
              "      padding: 0 0 0 0;\n",
              "      width: 32px;\n",
              "    }\n",
              "\n",
              "    .colab-df-convert:hover {\n",
              "      background-color: #E2EBFA;\n",
              "      box-shadow: 0px 1px 2px rgba(60, 64, 67, 0.3), 0px 1px 3px 1px rgba(60, 64, 67, 0.15);\n",
              "      fill: #174EA6;\n",
              "    }\n",
              "\n",
              "    [theme=dark] .colab-df-convert {\n",
              "      background-color: #3B4455;\n",
              "      fill: #D2E3FC;\n",
              "    }\n",
              "\n",
              "    [theme=dark] .colab-df-convert:hover {\n",
              "      background-color: #434B5C;\n",
              "      box-shadow: 0px 1px 3px 1px rgba(0, 0, 0, 0.15);\n",
              "      filter: drop-shadow(0px 1px 2px rgba(0, 0, 0, 0.3));\n",
              "      fill: #FFFFFF;\n",
              "    }\n",
              "  </style>\n",
              "\n",
              "      <script>\n",
              "        const buttonEl =\n",
              "          document.querySelector('#df-5b30213f-dbee-4a5d-8c1f-3330b88940d5 button.colab-df-convert');\n",
              "        buttonEl.style.display =\n",
              "          google.colab.kernel.accessAllowed ? 'block' : 'none';\n",
              "\n",
              "        async function convertToInteractive(key) {\n",
              "          const element = document.querySelector('#df-5b30213f-dbee-4a5d-8c1f-3330b88940d5');\n",
              "          const dataTable =\n",
              "            await google.colab.kernel.invokeFunction('convertToInteractive',\n",
              "                                                     [key], {});\n",
              "          if (!dataTable) return;\n",
              "\n",
              "          const docLinkHtml = 'Like what you see? Visit the ' +\n",
              "            '<a target=\"_blank\" href=https://colab.research.google.com/notebooks/data_table.ipynb>data table notebook</a>'\n",
              "            + ' to learn more about interactive tables.';\n",
              "          element.innerHTML = '';\n",
              "          dataTable['output_type'] = 'display_data';\n",
              "          await google.colab.output.renderOutput(dataTable, element);\n",
              "          const docLink = document.createElement('div');\n",
              "          docLink.innerHTML = docLinkHtml;\n",
              "          element.appendChild(docLink);\n",
              "        }\n",
              "      </script>\n",
              "    </div>\n",
              "  </div>\n",
              "  "
            ]
          },
          "metadata": {},
          "execution_count": 9
        }
      ]
    },
    {
      "cell_type": "code",
      "source": [
        "data = data[['commentBody', 'newDesk', 'editorsSelection']]"
      ],
      "metadata": {
        "id": "bouNuSr3iPiG"
      },
      "execution_count": null,
      "outputs": []
    },
    {
      "cell_type": "code",
      "source": [
        "data"
      ],
      "metadata": {
        "colab": {
          "base_uri": "https://localhost:8080/",
          "height": 424
        },
        "id": "zDwXAEtMoH__",
        "outputId": "f5b1c158-5111-491c-8d6d-b3c4a9266bad"
      },
      "execution_count": null,
      "outputs": [
        {
          "output_type": "execute_result",
          "data": {
            "text/plain": [
              "                                              commentBody   newDesk  \\\n",
              "0       If the choice is between mining for bitcoin - ...  Business   \n",
              "1       <br/>To me, Bitcoin (et al) appears to be an e...  Business   \n",
              "2       Bitcoin is a pyramid scheme backed by nothing ...  Business   \n",
              "3       What does it cost in energy to dig up and refi...  Business   \n",
              "4                  You forgot to mention stock buybacks.   Business   \n",
              "...                                                   ...       ...   \n",
              "246910          And so it goes, \"power concedes nothing\".      OpEd   \n",
              "246911  The mere \"kvetches\" you malign need to be told...      OpEd   \n",
              "246912  What you say sounds good, and intelligent. But...      OpEd   \n",
              "246913  Actually, the US is not in the top ten for mas...  Politics   \n",
              "246914  To KBronson,<br/>Norway has had just one mass ...  Politics   \n",
              "\n",
              "        editorsSelection  \n",
              "0                      0  \n",
              "1                      0  \n",
              "2                      0  \n",
              "3                      0  \n",
              "4                      0  \n",
              "...                  ...  \n",
              "246910                 0  \n",
              "246911                 0  \n",
              "246912                 0  \n",
              "246913                 0  \n",
              "246914                 0  \n",
              "\n",
              "[246915 rows x 3 columns]"
            ],
            "text/html": [
              "\n",
              "  <div id=\"df-b3c8c57d-6693-4ac6-8732-6f3780319bf8\">\n",
              "    <div class=\"colab-df-container\">\n",
              "      <div>\n",
              "<style scoped>\n",
              "    .dataframe tbody tr th:only-of-type {\n",
              "        vertical-align: middle;\n",
              "    }\n",
              "\n",
              "    .dataframe tbody tr th {\n",
              "        vertical-align: top;\n",
              "    }\n",
              "\n",
              "    .dataframe thead th {\n",
              "        text-align: right;\n",
              "    }\n",
              "</style>\n",
              "<table border=\"1\" class=\"dataframe\">\n",
              "  <thead>\n",
              "    <tr style=\"text-align: right;\">\n",
              "      <th></th>\n",
              "      <th>commentBody</th>\n",
              "      <th>newDesk</th>\n",
              "      <th>editorsSelection</th>\n",
              "    </tr>\n",
              "  </thead>\n",
              "  <tbody>\n",
              "    <tr>\n",
              "      <th>0</th>\n",
              "      <td>If the choice is between mining for bitcoin - ...</td>\n",
              "      <td>Business</td>\n",
              "      <td>0</td>\n",
              "    </tr>\n",
              "    <tr>\n",
              "      <th>1</th>\n",
              "      <td>&lt;br/&gt;To me, Bitcoin (et al) appears to be an e...</td>\n",
              "      <td>Business</td>\n",
              "      <td>0</td>\n",
              "    </tr>\n",
              "    <tr>\n",
              "      <th>2</th>\n",
              "      <td>Bitcoin is a pyramid scheme backed by nothing ...</td>\n",
              "      <td>Business</td>\n",
              "      <td>0</td>\n",
              "    </tr>\n",
              "    <tr>\n",
              "      <th>3</th>\n",
              "      <td>What does it cost in energy to dig up and refi...</td>\n",
              "      <td>Business</td>\n",
              "      <td>0</td>\n",
              "    </tr>\n",
              "    <tr>\n",
              "      <th>4</th>\n",
              "      <td>You forgot to mention stock buybacks.</td>\n",
              "      <td>Business</td>\n",
              "      <td>0</td>\n",
              "    </tr>\n",
              "    <tr>\n",
              "      <th>...</th>\n",
              "      <td>...</td>\n",
              "      <td>...</td>\n",
              "      <td>...</td>\n",
              "    </tr>\n",
              "    <tr>\n",
              "      <th>246910</th>\n",
              "      <td>And so it goes, \"power concedes nothing\".</td>\n",
              "      <td>OpEd</td>\n",
              "      <td>0</td>\n",
              "    </tr>\n",
              "    <tr>\n",
              "      <th>246911</th>\n",
              "      <td>The mere \"kvetches\" you malign need to be told...</td>\n",
              "      <td>OpEd</td>\n",
              "      <td>0</td>\n",
              "    </tr>\n",
              "    <tr>\n",
              "      <th>246912</th>\n",
              "      <td>What you say sounds good, and intelligent. But...</td>\n",
              "      <td>OpEd</td>\n",
              "      <td>0</td>\n",
              "    </tr>\n",
              "    <tr>\n",
              "      <th>246913</th>\n",
              "      <td>Actually, the US is not in the top ten for mas...</td>\n",
              "      <td>Politics</td>\n",
              "      <td>0</td>\n",
              "    </tr>\n",
              "    <tr>\n",
              "      <th>246914</th>\n",
              "      <td>To KBronson,&lt;br/&gt;Norway has had just one mass ...</td>\n",
              "      <td>Politics</td>\n",
              "      <td>0</td>\n",
              "    </tr>\n",
              "  </tbody>\n",
              "</table>\n",
              "<p>246915 rows × 3 columns</p>\n",
              "</div>\n",
              "      <button class=\"colab-df-convert\" onclick=\"convertToInteractive('df-b3c8c57d-6693-4ac6-8732-6f3780319bf8')\"\n",
              "              title=\"Convert this dataframe to an interactive table.\"\n",
              "              style=\"display:none;\">\n",
              "        \n",
              "  <svg xmlns=\"http://www.w3.org/2000/svg\" height=\"24px\"viewBox=\"0 0 24 24\"\n",
              "       width=\"24px\">\n",
              "    <path d=\"M0 0h24v24H0V0z\" fill=\"none\"/>\n",
              "    <path d=\"M18.56 5.44l.94 2.06.94-2.06 2.06-.94-2.06-.94-.94-2.06-.94 2.06-2.06.94zm-11 1L8.5 8.5l.94-2.06 2.06-.94-2.06-.94L8.5 2.5l-.94 2.06-2.06.94zm10 10l.94 2.06.94-2.06 2.06-.94-2.06-.94-.94-2.06-.94 2.06-2.06.94z\"/><path d=\"M17.41 7.96l-1.37-1.37c-.4-.4-.92-.59-1.43-.59-.52 0-1.04.2-1.43.59L10.3 9.45l-7.72 7.72c-.78.78-.78 2.05 0 2.83L4 21.41c.39.39.9.59 1.41.59.51 0 1.02-.2 1.41-.59l7.78-7.78 2.81-2.81c.8-.78.8-2.07 0-2.86zM5.41 20L4 18.59l7.72-7.72 1.47 1.35L5.41 20z\"/>\n",
              "  </svg>\n",
              "      </button>\n",
              "      \n",
              "  <style>\n",
              "    .colab-df-container {\n",
              "      display:flex;\n",
              "      flex-wrap:wrap;\n",
              "      gap: 12px;\n",
              "    }\n",
              "\n",
              "    .colab-df-convert {\n",
              "      background-color: #E8F0FE;\n",
              "      border: none;\n",
              "      border-radius: 50%;\n",
              "      cursor: pointer;\n",
              "      display: none;\n",
              "      fill: #1967D2;\n",
              "      height: 32px;\n",
              "      padding: 0 0 0 0;\n",
              "      width: 32px;\n",
              "    }\n",
              "\n",
              "    .colab-df-convert:hover {\n",
              "      background-color: #E2EBFA;\n",
              "      box-shadow: 0px 1px 2px rgba(60, 64, 67, 0.3), 0px 1px 3px 1px rgba(60, 64, 67, 0.15);\n",
              "      fill: #174EA6;\n",
              "    }\n",
              "\n",
              "    [theme=dark] .colab-df-convert {\n",
              "      background-color: #3B4455;\n",
              "      fill: #D2E3FC;\n",
              "    }\n",
              "\n",
              "    [theme=dark] .colab-df-convert:hover {\n",
              "      background-color: #434B5C;\n",
              "      box-shadow: 0px 1px 3px 1px rgba(0, 0, 0, 0.15);\n",
              "      filter: drop-shadow(0px 1px 2px rgba(0, 0, 0, 0.3));\n",
              "      fill: #FFFFFF;\n",
              "    }\n",
              "  </style>\n",
              "\n",
              "      <script>\n",
              "        const buttonEl =\n",
              "          document.querySelector('#df-b3c8c57d-6693-4ac6-8732-6f3780319bf8 button.colab-df-convert');\n",
              "        buttonEl.style.display =\n",
              "          google.colab.kernel.accessAllowed ? 'block' : 'none';\n",
              "\n",
              "        async function convertToInteractive(key) {\n",
              "          const element = document.querySelector('#df-b3c8c57d-6693-4ac6-8732-6f3780319bf8');\n",
              "          const dataTable =\n",
              "            await google.colab.kernel.invokeFunction('convertToInteractive',\n",
              "                                                     [key], {});\n",
              "          if (!dataTable) return;\n",
              "\n",
              "          const docLinkHtml = 'Like what you see? Visit the ' +\n",
              "            '<a target=\"_blank\" href=https://colab.research.google.com/notebooks/data_table.ipynb>data table notebook</a>'\n",
              "            + ' to learn more about interactive tables.';\n",
              "          element.innerHTML = '';\n",
              "          dataTable['output_type'] = 'display_data';\n",
              "          await google.colab.output.renderOutput(dataTable, element);\n",
              "          const docLink = document.createElement('div');\n",
              "          docLink.innerHTML = docLinkHtml;\n",
              "          element.appendChild(docLink);\n",
              "        }\n",
              "      </script>\n",
              "    </div>\n",
              "  </div>\n",
              "  "
            ]
          },
          "metadata": {},
          "execution_count": 11
        }
      ]
    },
    {
      "cell_type": "code",
      "source": [
        "business = data.loc[data['newDesk']=='Business']"
      ],
      "metadata": {
        "id": "xAYjzrh7oCRx"
      },
      "execution_count": null,
      "outputs": []
    },
    {
      "cell_type": "code",
      "source": [
        "business"
      ],
      "metadata": {
        "colab": {
          "base_uri": "https://localhost:8080/",
          "height": 424
        },
        "id": "UXUkbrcOobO6",
        "outputId": "62c51352-78c8-4c3a-e8a0-a3da4bd22541"
      },
      "execution_count": null,
      "outputs": [
        {
          "output_type": "execute_result",
          "data": {
            "text/plain": [
              "                                              commentBody   newDesk  \\\n",
              "0       If the choice is between mining for bitcoin - ...  Business   \n",
              "1       <br/>To me, Bitcoin (et al) appears to be an e...  Business   \n",
              "2       Bitcoin is a pyramid scheme backed by nothing ...  Business   \n",
              "3       What does it cost in energy to dig up and refi...  Business   \n",
              "4                  You forgot to mention stock buybacks.   Business   \n",
              "...                                                   ...       ...   \n",
              "246678  Maybe you missed the fact that Chinatown was b...  Business   \n",
              "246679  I’m not rooting for anyone JP.<br/><br/>I just...  Business   \n",
              "246680  Then let’s just call it tone deaf.  After a ye...  Business   \n",
              "246681  Since he's made similar comments on other occa...  Business   \n",
              "246682  She was sincere, candid, confident, unwavering...  Business   \n",
              "\n",
              "        editorsSelection  \n",
              "0                      0  \n",
              "1                      0  \n",
              "2                      0  \n",
              "3                      0  \n",
              "4                      0  \n",
              "...                  ...  \n",
              "246678                 0  \n",
              "246679                 0  \n",
              "246680                 0  \n",
              "246681                 0  \n",
              "246682                 0  \n",
              "\n",
              "[20715 rows x 3 columns]"
            ],
            "text/html": [
              "\n",
              "  <div id=\"df-01b33f0e-101d-4a2e-b5e2-3005f47a607a\">\n",
              "    <div class=\"colab-df-container\">\n",
              "      <div>\n",
              "<style scoped>\n",
              "    .dataframe tbody tr th:only-of-type {\n",
              "        vertical-align: middle;\n",
              "    }\n",
              "\n",
              "    .dataframe tbody tr th {\n",
              "        vertical-align: top;\n",
              "    }\n",
              "\n",
              "    .dataframe thead th {\n",
              "        text-align: right;\n",
              "    }\n",
              "</style>\n",
              "<table border=\"1\" class=\"dataframe\">\n",
              "  <thead>\n",
              "    <tr style=\"text-align: right;\">\n",
              "      <th></th>\n",
              "      <th>commentBody</th>\n",
              "      <th>newDesk</th>\n",
              "      <th>editorsSelection</th>\n",
              "    </tr>\n",
              "  </thead>\n",
              "  <tbody>\n",
              "    <tr>\n",
              "      <th>0</th>\n",
              "      <td>If the choice is between mining for bitcoin - ...</td>\n",
              "      <td>Business</td>\n",
              "      <td>0</td>\n",
              "    </tr>\n",
              "    <tr>\n",
              "      <th>1</th>\n",
              "      <td>&lt;br/&gt;To me, Bitcoin (et al) appears to be an e...</td>\n",
              "      <td>Business</td>\n",
              "      <td>0</td>\n",
              "    </tr>\n",
              "    <tr>\n",
              "      <th>2</th>\n",
              "      <td>Bitcoin is a pyramid scheme backed by nothing ...</td>\n",
              "      <td>Business</td>\n",
              "      <td>0</td>\n",
              "    </tr>\n",
              "    <tr>\n",
              "      <th>3</th>\n",
              "      <td>What does it cost in energy to dig up and refi...</td>\n",
              "      <td>Business</td>\n",
              "      <td>0</td>\n",
              "    </tr>\n",
              "    <tr>\n",
              "      <th>4</th>\n",
              "      <td>You forgot to mention stock buybacks.</td>\n",
              "      <td>Business</td>\n",
              "      <td>0</td>\n",
              "    </tr>\n",
              "    <tr>\n",
              "      <th>...</th>\n",
              "      <td>...</td>\n",
              "      <td>...</td>\n",
              "      <td>...</td>\n",
              "    </tr>\n",
              "    <tr>\n",
              "      <th>246678</th>\n",
              "      <td>Maybe you missed the fact that Chinatown was b...</td>\n",
              "      <td>Business</td>\n",
              "      <td>0</td>\n",
              "    </tr>\n",
              "    <tr>\n",
              "      <th>246679</th>\n",
              "      <td>I’m not rooting for anyone JP.&lt;br/&gt;&lt;br/&gt;I just...</td>\n",
              "      <td>Business</td>\n",
              "      <td>0</td>\n",
              "    </tr>\n",
              "    <tr>\n",
              "      <th>246680</th>\n",
              "      <td>Then let’s just call it tone deaf.  After a ye...</td>\n",
              "      <td>Business</td>\n",
              "      <td>0</td>\n",
              "    </tr>\n",
              "    <tr>\n",
              "      <th>246681</th>\n",
              "      <td>Since he's made similar comments on other occa...</td>\n",
              "      <td>Business</td>\n",
              "      <td>0</td>\n",
              "    </tr>\n",
              "    <tr>\n",
              "      <th>246682</th>\n",
              "      <td>She was sincere, candid, confident, unwavering...</td>\n",
              "      <td>Business</td>\n",
              "      <td>0</td>\n",
              "    </tr>\n",
              "  </tbody>\n",
              "</table>\n",
              "<p>20715 rows × 3 columns</p>\n",
              "</div>\n",
              "      <button class=\"colab-df-convert\" onclick=\"convertToInteractive('df-01b33f0e-101d-4a2e-b5e2-3005f47a607a')\"\n",
              "              title=\"Convert this dataframe to an interactive table.\"\n",
              "              style=\"display:none;\">\n",
              "        \n",
              "  <svg xmlns=\"http://www.w3.org/2000/svg\" height=\"24px\"viewBox=\"0 0 24 24\"\n",
              "       width=\"24px\">\n",
              "    <path d=\"M0 0h24v24H0V0z\" fill=\"none\"/>\n",
              "    <path d=\"M18.56 5.44l.94 2.06.94-2.06 2.06-.94-2.06-.94-.94-2.06-.94 2.06-2.06.94zm-11 1L8.5 8.5l.94-2.06 2.06-.94-2.06-.94L8.5 2.5l-.94 2.06-2.06.94zm10 10l.94 2.06.94-2.06 2.06-.94-2.06-.94-.94-2.06-.94 2.06-2.06.94z\"/><path d=\"M17.41 7.96l-1.37-1.37c-.4-.4-.92-.59-1.43-.59-.52 0-1.04.2-1.43.59L10.3 9.45l-7.72 7.72c-.78.78-.78 2.05 0 2.83L4 21.41c.39.39.9.59 1.41.59.51 0 1.02-.2 1.41-.59l7.78-7.78 2.81-2.81c.8-.78.8-2.07 0-2.86zM5.41 20L4 18.59l7.72-7.72 1.47 1.35L5.41 20z\"/>\n",
              "  </svg>\n",
              "      </button>\n",
              "      \n",
              "  <style>\n",
              "    .colab-df-container {\n",
              "      display:flex;\n",
              "      flex-wrap:wrap;\n",
              "      gap: 12px;\n",
              "    }\n",
              "\n",
              "    .colab-df-convert {\n",
              "      background-color: #E8F0FE;\n",
              "      border: none;\n",
              "      border-radius: 50%;\n",
              "      cursor: pointer;\n",
              "      display: none;\n",
              "      fill: #1967D2;\n",
              "      height: 32px;\n",
              "      padding: 0 0 0 0;\n",
              "      width: 32px;\n",
              "    }\n",
              "\n",
              "    .colab-df-convert:hover {\n",
              "      background-color: #E2EBFA;\n",
              "      box-shadow: 0px 1px 2px rgba(60, 64, 67, 0.3), 0px 1px 3px 1px rgba(60, 64, 67, 0.15);\n",
              "      fill: #174EA6;\n",
              "    }\n",
              "\n",
              "    [theme=dark] .colab-df-convert {\n",
              "      background-color: #3B4455;\n",
              "      fill: #D2E3FC;\n",
              "    }\n",
              "\n",
              "    [theme=dark] .colab-df-convert:hover {\n",
              "      background-color: #434B5C;\n",
              "      box-shadow: 0px 1px 3px 1px rgba(0, 0, 0, 0.15);\n",
              "      filter: drop-shadow(0px 1px 2px rgba(0, 0, 0, 0.3));\n",
              "      fill: #FFFFFF;\n",
              "    }\n",
              "  </style>\n",
              "\n",
              "      <script>\n",
              "        const buttonEl =\n",
              "          document.querySelector('#df-01b33f0e-101d-4a2e-b5e2-3005f47a607a button.colab-df-convert');\n",
              "        buttonEl.style.display =\n",
              "          google.colab.kernel.accessAllowed ? 'block' : 'none';\n",
              "\n",
              "        async function convertToInteractive(key) {\n",
              "          const element = document.querySelector('#df-01b33f0e-101d-4a2e-b5e2-3005f47a607a');\n",
              "          const dataTable =\n",
              "            await google.colab.kernel.invokeFunction('convertToInteractive',\n",
              "                                                     [key], {});\n",
              "          if (!dataTable) return;\n",
              "\n",
              "          const docLinkHtml = 'Like what you see? Visit the ' +\n",
              "            '<a target=\"_blank\" href=https://colab.research.google.com/notebooks/data_table.ipynb>data table notebook</a>'\n",
              "            + ' to learn more about interactive tables.';\n",
              "          element.innerHTML = '';\n",
              "          dataTable['output_type'] = 'display_data';\n",
              "          await google.colab.output.renderOutput(dataTable, element);\n",
              "          const docLink = document.createElement('div');\n",
              "          docLink.innerHTML = docLinkHtml;\n",
              "          element.appendChild(docLink);\n",
              "        }\n",
              "      </script>\n",
              "    </div>\n",
              "  </div>\n",
              "  "
            ]
          },
          "metadata": {},
          "execution_count": 13
        }
      ]
    },
    {
      "cell_type": "code",
      "source": [
        "Counter(business['editorsSelection'])"
      ],
      "metadata": {
        "colab": {
          "base_uri": "https://localhost:8080/"
        },
        "id": "F86nXDM_cYBx",
        "outputId": "45a9a5f4-e160-47d9-e6fd-7fe1c094f2a5"
      },
      "execution_count": null,
      "outputs": [
        {
          "output_type": "execute_result",
          "data": {
            "text/plain": [
              "Counter({0: 20352, 1: 363})"
            ]
          },
          "metadata": {},
          "execution_count": 14
        }
      ]
    },
    {
      "cell_type": "markdown",
      "source": [
        "# 2.Text Cleaning"
      ],
      "metadata": {
        "id": "ZMdL1H1jfd0E"
      }
    },
    {
      "cell_type": "code",
      "source": [
        "!pip install nltk\n",
        "import nltk\n",
        "nltk.download(\"all\")\n",
        "from nltk import sent_tokenize"
      ],
      "metadata": {
        "id": "4hEqmOn5fhUX"
      },
      "execution_count": null,
      "outputs": []
    },
    {
      "cell_type": "code",
      "source": [
        "sentences = [] # each comment as a doc\n",
        "for i in business[\"commentBody\"]:\n",
        "    s=sent_tokenize(i)\n",
        "    sentences.append(s)\n",
        "sentences[0]"
      ],
      "metadata": {
        "colab": {
          "base_uri": "https://localhost:8080/"
        },
        "id": "2RWRFlqrgAQ-",
        "outputId": "4855fa7d-1ef7-4b4f-d06e-3c3e19aeddd0"
      },
      "execution_count": null,
      "outputs": [
        {
          "output_type": "execute_result",
          "data": {
            "text/plain": [
              "['If the choice is between mining for bitcoin - which wastes hydroelectric power and takes up empty office space -- or mining for gold &amp; diamonds - which is hugely destructive to people and the environment in developing countries - I think we can live with bitcoin mining.']"
            ]
          },
          "metadata": {},
          "execution_count": 16
        }
      ]
    },
    {
      "cell_type": "code",
      "source": [
        "# tokenization\n",
        "from nltk.tokenize import word_tokenize\n",
        "token_list= []\n",
        "for i in sentences: # i is comment level\n",
        "    for j in i:\n",
        "      tokens = word_tokenize(j)\n",
        "      words = [word for word in tokens if word.isalpha()]\n",
        "      words = [word.lower() for word in words]\n",
        "      token_list.append(words)"
      ],
      "metadata": {
        "id": "0eO-43DGgC01"
      },
      "execution_count": null,
      "outputs": []
    },
    {
      "cell_type": "code",
      "source": [
        "# lemmatization\n",
        "from nltk.stem import WordNetLemmatizer \n",
        "from nltk.corpus import wordnet \n",
        "lemmatizer = WordNetLemmatizer() \n",
        "def pos_tagger(nltk_tag): \n",
        "    if nltk_tag.startswith('J'): \n",
        "        return wordnet.ADJ \n",
        "    elif nltk_tag.startswith('V'): \n",
        "        return wordnet.VERB \n",
        "    elif nltk_tag.startswith('N'): \n",
        "        return wordnet.NOUN \n",
        "    elif nltk_tag.startswith('R'): \n",
        "        return wordnet.ADV \n",
        "    else:           \n",
        "        return None\n",
        "lemma_list = []\n",
        "for i in token_list:\n",
        "  pos_tagged = nltk.pos_tag(i)\n",
        "  wordnet_tagged = list(map(lambda x: (x[0], pos_tagger(x[1])), pos_tagged))\n",
        "  lemma = [] \n",
        "  for word, tag in wordnet_tagged:\n",
        "    if word == \"i\":\n",
        "      continue\n",
        "    if tag is None: \n",
        "      # if there is no available tag, append the token as is \n",
        "      lemma.append(word) \n",
        "    else:         \n",
        "      # else use the tag to lemmatize the token \n",
        "      lemma.append(lemmatizer.lemmatize(word, tag))\n",
        "  lemma_list.append(lemma)"
      ],
      "metadata": {
        "id": "AFOswh_tgFb9"
      },
      "execution_count": null,
      "outputs": []
    },
    {
      "cell_type": "markdown",
      "source": [
        "# 3.Aspect Extraction"
      ],
      "metadata": {
        "id": "kZm5jZbFgXAt"
      }
    },
    {
      "cell_type": "code",
      "source": [
        "bi = []\n",
        "for item in lemma_list:\n",
        "  grams = [item[i:i+2] for i in range(len(item)-2+1)]\n",
        "  bigrams = [' '.join(j) for j in grams]\n",
        "  bi.append(bigrams)"
      ],
      "metadata": {
        "id": "0eBKLPlygV5n"
      },
      "execution_count": null,
      "outputs": []
    },
    {
      "cell_type": "code",
      "source": [
        "bi_v = [bigram for i in bi for bigram in i]\n",
        "uni_v = [unigram for i in lemma_list for unigram in i]"
      ],
      "metadata": {
        "id": "-RbD1oTig8JP"
      },
      "execution_count": null,
      "outputs": []
    },
    {
      "cell_type": "code",
      "source": [
        "counter_uni = Counter(uni_v)\n",
        "counter_bi = Counter(bi_v)"
      ],
      "metadata": {
        "id": "DpL2BMkXg86j"
      },
      "execution_count": null,
      "outputs": []
    },
    {
      "cell_type": "code",
      "source": [
        "from nltk.corpus import stopwords"
      ],
      "metadata": {
        "id": "ohuvVWKWhANO"
      },
      "execution_count": null,
      "outputs": []
    },
    {
      "cell_type": "code",
      "source": [
        "# filter before computing for less noise\n",
        "for i in list(counter_bi.keys()):\n",
        "  if i.split()[0] in stopwords.words('english'):\n",
        "    if i.split()[1] in stopwords.words('english'):\n",
        "      counter_bi.pop(i)"
      ],
      "metadata": {
        "id": "OjvoVDaghBBw"
      },
      "execution_count": null,
      "outputs": []
    },
    {
      "cell_type": "code",
      "source": [
        "for i in list(counter_bi.keys()):\n",
        "  w,t = nltk.pos_tag(i.split())[0]\n",
        "  w1,t1 = nltk.pos_tag(i.split())[1]\n",
        "  if t[0] != \"N\":\n",
        "    if t1[0] != \"N\":\n",
        "      counter_bi.pop(i)"
      ],
      "metadata": {
        "id": "ErN-sij0hJCT"
      },
      "execution_count": null,
      "outputs": []
    },
    {
      "cell_type": "code",
      "source": [
        "import math\n",
        "def pmi_index(bigram):\n",
        "  a, b = bigram.split()\n",
        "  pmi = math.log(counter_bi[bigram]/((counter_uni[a]-counter_bi[bigram])*(counter_uni[b]-counter_bi[bigram])/(len(uni_v)-counter_bi[a])))\n",
        "  return pmi"
      ],
      "metadata": {
        "id": "NndjehfOhJ0w"
      },
      "execution_count": null,
      "outputs": []
    },
    {
      "cell_type": "code",
      "source": [
        "counter_b = counter_bi.most_common(100)"
      ],
      "metadata": {
        "id": "jeruFBGdhL4z"
      },
      "execution_count": null,
      "outputs": []
    },
    {
      "cell_type": "code",
      "source": [
        "bi_gram_list = [k for (k,v) in counter_b]"
      ],
      "metadata": {
        "id": "yKVrfiJfhOD2"
      },
      "execution_count": null,
      "outputs": []
    },
    {
      "cell_type": "code",
      "source": [
        "frequency = [v for (k,v) in counter_b]"
      ],
      "metadata": {
        "id": "sSqLODfQhPw-"
      },
      "execution_count": null,
      "outputs": []
    },
    {
      "cell_type": "code",
      "source": [
        "pmi = [pmi_index(k) for (k,v) in counter_b]"
      ],
      "metadata": {
        "id": "cytSRNgQhSsN"
      },
      "execution_count": null,
      "outputs": []
    },
    {
      "cell_type": "code",
      "source": [
        "fre_df = pd.DataFrame({\"bigram\":bi_gram_list, \"pmi\":pmi, \"frequency\": frequency})"
      ],
      "metadata": {
        "id": "Ek7Mr8P1hTqh"
      },
      "execution_count": null,
      "outputs": []
    },
    {
      "cell_type": "code",
      "source": [
        "fre_most = fre_df.sort_values(by=\"pmi\", ascending=False).head(50)\n",
        "fre_most"
      ],
      "metadata": {
        "colab": {
          "base_uri": "https://localhost:8080/",
          "height": 1000
        },
        "id": "AvBvZ_eRhV0e",
        "outputId": "d39d7c96-9aeb-4031-cfc3-b10926ef031e"
      },
      "execution_count": null,
      "outputs": [
        {
          "output_type": "execute_result",
          "data": {
            "text/plain": [
              "                 bigram        pmi  frequency\n",
              "74  cambridge analytica  12.390903        245\n",
              "90             new york  11.636614        221\n",
              "23         united state   8.833499        400\n",
              "18          white house   8.717257        460\n",
              "8             http http   8.503018        601\n",
              "95        stormy daniel   8.173998        209\n",
              "4         social medium   8.143883        852\n",
              "94            no longer   7.753680        210\n",
              "72    national security   7.703302        246\n",
              "69              tax cut   7.393058        249\n",
              "50             year ago   6.961723        329\n",
              "6             trade war   6.704815        657\n",
              "44         donald trump   5.780046        351\n",
              "64           talk about   5.549467        266\n",
              "16            of course   5.454253        476\n",
              "38             the rest   5.350879        361\n",
              "37              kind of   5.227552        364\n",
              "53              rest of   5.153590        315\n",
              "7                 a lot   4.867598        612\n",
              "26              look at   4.751719        393\n",
              "91           care about   4.634422        221\n",
              "86              lack of   4.550348        229\n",
              "5                try to   4.520468        710\n",
              "68              base on   4.480630        250\n",
              "21              part of   4.340423        421\n",
              "70        other country   4.322189        247\n",
              "83            deal with   4.301291        238\n",
              "11               lot of   4.298526        522\n",
              "30          continue to   4.244805        382\n",
              "40         and aluminum   4.216465        356\n",
              "92            look like   4.138396        218\n",
              "62         this article   4.103268        273\n",
              "78               the eu   4.093410        242\n",
              "81             vote for   4.004091        240\n",
              "33              live in   3.970338        375\n",
              "61            number of   3.852785        277\n",
              "96            access to   3.845943        208\n",
              "1               want to   3.823002       1195\n",
              "35               no one   3.704923        367\n",
              "66              the gop   3.664807        262\n",
              "17           people who   3.641452        475\n",
              "76              the usa   3.631668        244\n",
              "57            fact that   3.609055        293\n",
              "0               need to   3.581642       1243\n",
              "25            tariff on   3.542312        394\n",
              "9               seem to   3.500875        558\n",
              "2             the world   3.436486       1173\n",
              "60         the internet   3.390774        280\n",
              "87             the past   3.363771        229\n",
              "85              the nyt   3.288592        230"
            ],
            "text/html": [
              "\n",
              "  <div id=\"df-8f1f37e4-c8a8-442b-a7ff-f9877db734c4\">\n",
              "    <div class=\"colab-df-container\">\n",
              "      <div>\n",
              "<style scoped>\n",
              "    .dataframe tbody tr th:only-of-type {\n",
              "        vertical-align: middle;\n",
              "    }\n",
              "\n",
              "    .dataframe tbody tr th {\n",
              "        vertical-align: top;\n",
              "    }\n",
              "\n",
              "    .dataframe thead th {\n",
              "        text-align: right;\n",
              "    }\n",
              "</style>\n",
              "<table border=\"1\" class=\"dataframe\">\n",
              "  <thead>\n",
              "    <tr style=\"text-align: right;\">\n",
              "      <th></th>\n",
              "      <th>bigram</th>\n",
              "      <th>pmi</th>\n",
              "      <th>frequency</th>\n",
              "    </tr>\n",
              "  </thead>\n",
              "  <tbody>\n",
              "    <tr>\n",
              "      <th>74</th>\n",
              "      <td>cambridge analytica</td>\n",
              "      <td>12.390903</td>\n",
              "      <td>245</td>\n",
              "    </tr>\n",
              "    <tr>\n",
              "      <th>90</th>\n",
              "      <td>new york</td>\n",
              "      <td>11.636614</td>\n",
              "      <td>221</td>\n",
              "    </tr>\n",
              "    <tr>\n",
              "      <th>23</th>\n",
              "      <td>united state</td>\n",
              "      <td>8.833499</td>\n",
              "      <td>400</td>\n",
              "    </tr>\n",
              "    <tr>\n",
              "      <th>18</th>\n",
              "      <td>white house</td>\n",
              "      <td>8.717257</td>\n",
              "      <td>460</td>\n",
              "    </tr>\n",
              "    <tr>\n",
              "      <th>8</th>\n",
              "      <td>http http</td>\n",
              "      <td>8.503018</td>\n",
              "      <td>601</td>\n",
              "    </tr>\n",
              "    <tr>\n",
              "      <th>95</th>\n",
              "      <td>stormy daniel</td>\n",
              "      <td>8.173998</td>\n",
              "      <td>209</td>\n",
              "    </tr>\n",
              "    <tr>\n",
              "      <th>4</th>\n",
              "      <td>social medium</td>\n",
              "      <td>8.143883</td>\n",
              "      <td>852</td>\n",
              "    </tr>\n",
              "    <tr>\n",
              "      <th>94</th>\n",
              "      <td>no longer</td>\n",
              "      <td>7.753680</td>\n",
              "      <td>210</td>\n",
              "    </tr>\n",
              "    <tr>\n",
              "      <th>72</th>\n",
              "      <td>national security</td>\n",
              "      <td>7.703302</td>\n",
              "      <td>246</td>\n",
              "    </tr>\n",
              "    <tr>\n",
              "      <th>69</th>\n",
              "      <td>tax cut</td>\n",
              "      <td>7.393058</td>\n",
              "      <td>249</td>\n",
              "    </tr>\n",
              "    <tr>\n",
              "      <th>50</th>\n",
              "      <td>year ago</td>\n",
              "      <td>6.961723</td>\n",
              "      <td>329</td>\n",
              "    </tr>\n",
              "    <tr>\n",
              "      <th>6</th>\n",
              "      <td>trade war</td>\n",
              "      <td>6.704815</td>\n",
              "      <td>657</td>\n",
              "    </tr>\n",
              "    <tr>\n",
              "      <th>44</th>\n",
              "      <td>donald trump</td>\n",
              "      <td>5.780046</td>\n",
              "      <td>351</td>\n",
              "    </tr>\n",
              "    <tr>\n",
              "      <th>64</th>\n",
              "      <td>talk about</td>\n",
              "      <td>5.549467</td>\n",
              "      <td>266</td>\n",
              "    </tr>\n",
              "    <tr>\n",
              "      <th>16</th>\n",
              "      <td>of course</td>\n",
              "      <td>5.454253</td>\n",
              "      <td>476</td>\n",
              "    </tr>\n",
              "    <tr>\n",
              "      <th>38</th>\n",
              "      <td>the rest</td>\n",
              "      <td>5.350879</td>\n",
              "      <td>361</td>\n",
              "    </tr>\n",
              "    <tr>\n",
              "      <th>37</th>\n",
              "      <td>kind of</td>\n",
              "      <td>5.227552</td>\n",
              "      <td>364</td>\n",
              "    </tr>\n",
              "    <tr>\n",
              "      <th>53</th>\n",
              "      <td>rest of</td>\n",
              "      <td>5.153590</td>\n",
              "      <td>315</td>\n",
              "    </tr>\n",
              "    <tr>\n",
              "      <th>7</th>\n",
              "      <td>a lot</td>\n",
              "      <td>4.867598</td>\n",
              "      <td>612</td>\n",
              "    </tr>\n",
              "    <tr>\n",
              "      <th>26</th>\n",
              "      <td>look at</td>\n",
              "      <td>4.751719</td>\n",
              "      <td>393</td>\n",
              "    </tr>\n",
              "    <tr>\n",
              "      <th>91</th>\n",
              "      <td>care about</td>\n",
              "      <td>4.634422</td>\n",
              "      <td>221</td>\n",
              "    </tr>\n",
              "    <tr>\n",
              "      <th>86</th>\n",
              "      <td>lack of</td>\n",
              "      <td>4.550348</td>\n",
              "      <td>229</td>\n",
              "    </tr>\n",
              "    <tr>\n",
              "      <th>5</th>\n",
              "      <td>try to</td>\n",
              "      <td>4.520468</td>\n",
              "      <td>710</td>\n",
              "    </tr>\n",
              "    <tr>\n",
              "      <th>68</th>\n",
              "      <td>base on</td>\n",
              "      <td>4.480630</td>\n",
              "      <td>250</td>\n",
              "    </tr>\n",
              "    <tr>\n",
              "      <th>21</th>\n",
              "      <td>part of</td>\n",
              "      <td>4.340423</td>\n",
              "      <td>421</td>\n",
              "    </tr>\n",
              "    <tr>\n",
              "      <th>70</th>\n",
              "      <td>other country</td>\n",
              "      <td>4.322189</td>\n",
              "      <td>247</td>\n",
              "    </tr>\n",
              "    <tr>\n",
              "      <th>83</th>\n",
              "      <td>deal with</td>\n",
              "      <td>4.301291</td>\n",
              "      <td>238</td>\n",
              "    </tr>\n",
              "    <tr>\n",
              "      <th>11</th>\n",
              "      <td>lot of</td>\n",
              "      <td>4.298526</td>\n",
              "      <td>522</td>\n",
              "    </tr>\n",
              "    <tr>\n",
              "      <th>30</th>\n",
              "      <td>continue to</td>\n",
              "      <td>4.244805</td>\n",
              "      <td>382</td>\n",
              "    </tr>\n",
              "    <tr>\n",
              "      <th>40</th>\n",
              "      <td>and aluminum</td>\n",
              "      <td>4.216465</td>\n",
              "      <td>356</td>\n",
              "    </tr>\n",
              "    <tr>\n",
              "      <th>92</th>\n",
              "      <td>look like</td>\n",
              "      <td>4.138396</td>\n",
              "      <td>218</td>\n",
              "    </tr>\n",
              "    <tr>\n",
              "      <th>62</th>\n",
              "      <td>this article</td>\n",
              "      <td>4.103268</td>\n",
              "      <td>273</td>\n",
              "    </tr>\n",
              "    <tr>\n",
              "      <th>78</th>\n",
              "      <td>the eu</td>\n",
              "      <td>4.093410</td>\n",
              "      <td>242</td>\n",
              "    </tr>\n",
              "    <tr>\n",
              "      <th>81</th>\n",
              "      <td>vote for</td>\n",
              "      <td>4.004091</td>\n",
              "      <td>240</td>\n",
              "    </tr>\n",
              "    <tr>\n",
              "      <th>33</th>\n",
              "      <td>live in</td>\n",
              "      <td>3.970338</td>\n",
              "      <td>375</td>\n",
              "    </tr>\n",
              "    <tr>\n",
              "      <th>61</th>\n",
              "      <td>number of</td>\n",
              "      <td>3.852785</td>\n",
              "      <td>277</td>\n",
              "    </tr>\n",
              "    <tr>\n",
              "      <th>96</th>\n",
              "      <td>access to</td>\n",
              "      <td>3.845943</td>\n",
              "      <td>208</td>\n",
              "    </tr>\n",
              "    <tr>\n",
              "      <th>1</th>\n",
              "      <td>want to</td>\n",
              "      <td>3.823002</td>\n",
              "      <td>1195</td>\n",
              "    </tr>\n",
              "    <tr>\n",
              "      <th>35</th>\n",
              "      <td>no one</td>\n",
              "      <td>3.704923</td>\n",
              "      <td>367</td>\n",
              "    </tr>\n",
              "    <tr>\n",
              "      <th>66</th>\n",
              "      <td>the gop</td>\n",
              "      <td>3.664807</td>\n",
              "      <td>262</td>\n",
              "    </tr>\n",
              "    <tr>\n",
              "      <th>17</th>\n",
              "      <td>people who</td>\n",
              "      <td>3.641452</td>\n",
              "      <td>475</td>\n",
              "    </tr>\n",
              "    <tr>\n",
              "      <th>76</th>\n",
              "      <td>the usa</td>\n",
              "      <td>3.631668</td>\n",
              "      <td>244</td>\n",
              "    </tr>\n",
              "    <tr>\n",
              "      <th>57</th>\n",
              "      <td>fact that</td>\n",
              "      <td>3.609055</td>\n",
              "      <td>293</td>\n",
              "    </tr>\n",
              "    <tr>\n",
              "      <th>0</th>\n",
              "      <td>need to</td>\n",
              "      <td>3.581642</td>\n",
              "      <td>1243</td>\n",
              "    </tr>\n",
              "    <tr>\n",
              "      <th>25</th>\n",
              "      <td>tariff on</td>\n",
              "      <td>3.542312</td>\n",
              "      <td>394</td>\n",
              "    </tr>\n",
              "    <tr>\n",
              "      <th>9</th>\n",
              "      <td>seem to</td>\n",
              "      <td>3.500875</td>\n",
              "      <td>558</td>\n",
              "    </tr>\n",
              "    <tr>\n",
              "      <th>2</th>\n",
              "      <td>the world</td>\n",
              "      <td>3.436486</td>\n",
              "      <td>1173</td>\n",
              "    </tr>\n",
              "    <tr>\n",
              "      <th>60</th>\n",
              "      <td>the internet</td>\n",
              "      <td>3.390774</td>\n",
              "      <td>280</td>\n",
              "    </tr>\n",
              "    <tr>\n",
              "      <th>87</th>\n",
              "      <td>the past</td>\n",
              "      <td>3.363771</td>\n",
              "      <td>229</td>\n",
              "    </tr>\n",
              "    <tr>\n",
              "      <th>85</th>\n",
              "      <td>the nyt</td>\n",
              "      <td>3.288592</td>\n",
              "      <td>230</td>\n",
              "    </tr>\n",
              "  </tbody>\n",
              "</table>\n",
              "</div>\n",
              "      <button class=\"colab-df-convert\" onclick=\"convertToInteractive('df-8f1f37e4-c8a8-442b-a7ff-f9877db734c4')\"\n",
              "              title=\"Convert this dataframe to an interactive table.\"\n",
              "              style=\"display:none;\">\n",
              "        \n",
              "  <svg xmlns=\"http://www.w3.org/2000/svg\" height=\"24px\"viewBox=\"0 0 24 24\"\n",
              "       width=\"24px\">\n",
              "    <path d=\"M0 0h24v24H0V0z\" fill=\"none\"/>\n",
              "    <path d=\"M18.56 5.44l.94 2.06.94-2.06 2.06-.94-2.06-.94-.94-2.06-.94 2.06-2.06.94zm-11 1L8.5 8.5l.94-2.06 2.06-.94-2.06-.94L8.5 2.5l-.94 2.06-2.06.94zm10 10l.94 2.06.94-2.06 2.06-.94-2.06-.94-.94-2.06-.94 2.06-2.06.94z\"/><path d=\"M17.41 7.96l-1.37-1.37c-.4-.4-.92-.59-1.43-.59-.52 0-1.04.2-1.43.59L10.3 9.45l-7.72 7.72c-.78.78-.78 2.05 0 2.83L4 21.41c.39.39.9.59 1.41.59.51 0 1.02-.2 1.41-.59l7.78-7.78 2.81-2.81c.8-.78.8-2.07 0-2.86zM5.41 20L4 18.59l7.72-7.72 1.47 1.35L5.41 20z\"/>\n",
              "  </svg>\n",
              "      </button>\n",
              "      \n",
              "  <style>\n",
              "    .colab-df-container {\n",
              "      display:flex;\n",
              "      flex-wrap:wrap;\n",
              "      gap: 12px;\n",
              "    }\n",
              "\n",
              "    .colab-df-convert {\n",
              "      background-color: #E8F0FE;\n",
              "      border: none;\n",
              "      border-radius: 50%;\n",
              "      cursor: pointer;\n",
              "      display: none;\n",
              "      fill: #1967D2;\n",
              "      height: 32px;\n",
              "      padding: 0 0 0 0;\n",
              "      width: 32px;\n",
              "    }\n",
              "\n",
              "    .colab-df-convert:hover {\n",
              "      background-color: #E2EBFA;\n",
              "      box-shadow: 0px 1px 2px rgba(60, 64, 67, 0.3), 0px 1px 3px 1px rgba(60, 64, 67, 0.15);\n",
              "      fill: #174EA6;\n",
              "    }\n",
              "\n",
              "    [theme=dark] .colab-df-convert {\n",
              "      background-color: #3B4455;\n",
              "      fill: #D2E3FC;\n",
              "    }\n",
              "\n",
              "    [theme=dark] .colab-df-convert:hover {\n",
              "      background-color: #434B5C;\n",
              "      box-shadow: 0px 1px 3px 1px rgba(0, 0, 0, 0.15);\n",
              "      filter: drop-shadow(0px 1px 2px rgba(0, 0, 0, 0.3));\n",
              "      fill: #FFFFFF;\n",
              "    }\n",
              "  </style>\n",
              "\n",
              "      <script>\n",
              "        const buttonEl =\n",
              "          document.querySelector('#df-8f1f37e4-c8a8-442b-a7ff-f9877db734c4 button.colab-df-convert');\n",
              "        buttonEl.style.display =\n",
              "          google.colab.kernel.accessAllowed ? 'block' : 'none';\n",
              "\n",
              "        async function convertToInteractive(key) {\n",
              "          const element = document.querySelector('#df-8f1f37e4-c8a8-442b-a7ff-f9877db734c4');\n",
              "          const dataTable =\n",
              "            await google.colab.kernel.invokeFunction('convertToInteractive',\n",
              "                                                     [key], {});\n",
              "          if (!dataTable) return;\n",
              "\n",
              "          const docLinkHtml = 'Like what you see? Visit the ' +\n",
              "            '<a target=\"_blank\" href=https://colab.research.google.com/notebooks/data_table.ipynb>data table notebook</a>'\n",
              "            + ' to learn more about interactive tables.';\n",
              "          element.innerHTML = '';\n",
              "          dataTable['output_type'] = 'display_data';\n",
              "          await google.colab.output.renderOutput(dataTable, element);\n",
              "          const docLink = document.createElement('div');\n",
              "          docLink.innerHTML = docLinkHtml;\n",
              "          element.appendChild(docLink);\n",
              "        }\n",
              "      </script>\n",
              "    </div>\n",
              "  </div>\n",
              "  "
            ]
          },
          "metadata": {},
          "execution_count": 33
        }
      ]
    },
    {
      "cell_type": "code",
      "source": [
        "select = fre_most.drop([8, 94, 50, 64, 37, 53, 7, 26, 86, 5, 68, 21, 70, 83, 11, 30, 40, 92, 62, 81, 33, 61, 96, 1, 35, 17, 57, 0, 25, 9, 87], axis = 0)\n",
        "select_bi = select[\"bigram\"]"
      ],
      "metadata": {
        "id": "PLk781N3hZES"
      },
      "execution_count": null,
      "outputs": []
    },
    {
      "cell_type": "code",
      "source": [
        "len(select_bi)"
      ],
      "metadata": {
        "colab": {
          "base_uri": "https://localhost:8080/"
        },
        "id": "0y8cfyJCtixu",
        "outputId": "f7bd3195-4386-44fa-c283-388685e6741f"
      },
      "execution_count": null,
      "outputs": [
        {
          "output_type": "execute_result",
          "data": {
            "text/plain": [
              "19"
            ]
          },
          "metadata": {},
          "execution_count": 35
        }
      ]
    },
    {
      "cell_type": "code",
      "source": [
        "bi_dict = defaultdict(list)\n",
        "for bi in select_bi:\n",
        "  f,s = bi.split()\n",
        "  bi_dict[f].append(s)"
      ],
      "metadata": {
        "id": "3jnJQlCat71V"
      },
      "execution_count": null,
      "outputs": []
    },
    {
      "cell_type": "code",
      "source": [
        "sent_c = []\n",
        "for sent in lemma_list: \n",
        "  if len(sent) > 1:\n",
        "    sent_list = []\n",
        "    for i in range(len(sent)-1):\n",
        "      if sent[i] in list(bi_dict.keys()):\n",
        "        if sent[i+1] in bi_dict[sent[i]]:\n",
        "          bi = sent[i] + \" \" + sent[i+1]\n",
        "          sent_list.append(bi)\n",
        "        else:\n",
        "          if sent[i] not in stopwords.words('english'):\n",
        "            sent_list.append(sent[i])  \n",
        "      else:\n",
        "        if sent[i] not in stopwords.words('english'):\n",
        "          sent_list.append(sent[i]) \n",
        "    sent_c.append(sent_list)\n",
        "  elif len(sent) == 1:\n",
        "    if sent[0] not in stopwords.words('english'):\n",
        "      sent_c.append(sent)\n",
        "    else:\n",
        "      sent_c.append([])\n",
        "  else:\n",
        "    sent_c.append([])"
      ],
      "metadata": {
        "id": "uC1eaQSKuWUs"
      },
      "execution_count": null,
      "outputs": []
    },
    {
      "cell_type": "code",
      "source": [
        "sent1 = [] # comment level\n",
        "for c in sentences:\n",
        "  ll = []\n",
        "  for s in c:\n",
        "    tokens = word_tokenize(s)\n",
        "    words = [word for word in tokens if word.isalpha()]\n",
        "    words = [word.lower() for word in words]\n",
        "    words = [word for word in words if word != 'i']\n",
        "    ll.append(words)\n",
        "  sent1.append(ll)"
      ],
      "metadata": {
        "id": "nKNtzBiIuZC1"
      },
      "execution_count": null,
      "outputs": []
    },
    {
      "cell_type": "code",
      "source": [
        "num_com = len(sentences)"
      ],
      "metadata": {
        "id": "U2O95JraubJO"
      },
      "execution_count": null,
      "outputs": []
    },
    {
      "cell_type": "code",
      "source": [
        "com_sent = [] # basic list is sentence\n",
        "count = 0\n",
        "for i in range(num_com):\n",
        "  end = count + len(sent1[i])\n",
        "  cc = sent_c[count:end]\n",
        "  com_sent.append(cc)\n",
        "  count = end"
      ],
      "metadata": {
        "id": "0eOI-AgxudCF"
      },
      "execution_count": null,
      "outputs": []
    },
    {
      "cell_type": "code",
      "source": [
        "comment = [] # basic list is comment\n",
        "for com in com_sent:\n",
        "  c = []\n",
        "  for sent in com:\n",
        "    for wor in sent:\n",
        "      c.append(wor)\n",
        "  comment.append(c)"
      ],
      "metadata": {
        "id": "5QfxNI1VufAG"
      },
      "execution_count": null,
      "outputs": []
    },
    {
      "cell_type": "code",
      "source": [
        "noun = []\n",
        "for com in comment:\n",
        "  c = []\n",
        "  for wor in com:\n",
        "    if wor in select_bi:\n",
        "      c.append(wor)\n",
        "    else:\n",
        "      w, t = nltk.pos_tag([wor])[0]\n",
        "      if t[0] == \"N\":\n",
        "        c.append(wor)\n",
        "  noun.append(c)"
      ],
      "metadata": {
        "id": "RETLTr6cuguP"
      },
      "execution_count": null,
      "outputs": []
    },
    {
      "cell_type": "code",
      "source": [
        "words = [wor for c in noun for wor in c]\n",
        "v_n = [n for n,c in Counter(words).most_common(500)]"
      ],
      "metadata": {
        "id": "SnWkzB3tuimI"
      },
      "execution_count": null,
      "outputs": []
    },
    {
      "cell_type": "code",
      "source": [
        "!pip install sklearn\n",
        "from sklearn.feature_extraction.text import TfidfVectorizer\n",
        "df = pd.DataFrame({\"text\":comment})\n",
        "df['text'] = df['text'].apply(lambda x: ' '.join([word for word in x]))\n",
        "vectorizer = TfidfVectorizer(vocabulary=v_n, ngram_range=(1,2))\n",
        "TF_IDF = vectorizer.fit_transform(df['text'].values)\n",
        "TF_IDF_array = TF_IDF.toarray()"
      ],
      "metadata": {
        "colab": {
          "base_uri": "https://localhost:8080/"
        },
        "id": "kiLIddVvuoJj",
        "outputId": "217cd2f8-7589-4647-f28a-ef1281c0c4bd"
      },
      "execution_count": null,
      "outputs": [
        {
          "output_type": "stream",
          "name": "stdout",
          "text": [
            "Looking in indexes: https://pypi.org/simple, https://us-python.pkg.dev/colab-wheels/public/simple/\n",
            "Collecting sklearn\n",
            "  Downloading sklearn-0.0.post1.tar.gz (3.6 kB)\n",
            "  Preparing metadata (setup.py) ... \u001b[?25l\u001b[?25hdone\n",
            "Building wheels for collected packages: sklearn\n",
            "  Building wheel for sklearn (setup.py) ... \u001b[?25l\u001b[?25hdone\n",
            "  Created wheel for sklearn: filename=sklearn-0.0.post1-py3-none-any.whl size=2344 sha256=72dfba092927793048a3e9c21524c63626162c09649b272a444d690dedb4c895\n",
            "  Stored in directory: /root/.cache/pip/wheels/14/25/f7/1cc0956978ae479e75140219088deb7a36f60459df242b1a72\n",
            "Successfully built sklearn\n",
            "Installing collected packages: sklearn\n",
            "Successfully installed sklearn-0.0.post1\n"
          ]
        }
      ]
    },
    {
      "cell_type": "code",
      "source": [
        "import numpy as np\n",
        "sum = np.sum(TF_IDF_array,axis=0).tolist()"
      ],
      "metadata": {
        "id": "Wqs7cHxTusb-"
      },
      "execution_count": null,
      "outputs": []
    },
    {
      "cell_type": "code",
      "source": [
        "rank = pd.DataFrame({\"feature\":vectorizer.get_feature_names(),\"index\": sum}).sort_values(\"index\", ascending=False)\n",
        "rank.head(50)"
      ],
      "metadata": {
        "colab": {
          "base_uri": "https://localhost:8080/",
          "height": 1000
        },
        "id": "BPpmeR1Yuzrm",
        "outputId": "c189e0d5-60fb-495a-ad18-b8cbb740c7e8"
      },
      "execution_count": null,
      "outputs": [
        {
          "output_type": "stream",
          "name": "stderr",
          "text": [
            "/usr/local/lib/python3.8/dist-packages/sklearn/utils/deprecation.py:87: FutureWarning: Function get_feature_names is deprecated; get_feature_names is deprecated in 1.0 and will be removed in 1.2. Please use get_feature_names_out instead.\n",
            "  warnings.warn(msg, category=FutureWarning)\n"
          ]
        },
        {
          "output_type": "execute_result",
          "data": {
            "text/plain": [
              "        feature        index\n",
              "0         trump  1086.997435\n",
              "2      facebook   626.001501\n",
              "1        people   588.400886\n",
              "5         think   478.121676\n",
              "4          time   466.440016\n",
              "3           use   444.865095\n",
              "16        world   438.489382\n",
              "6          need   409.879351\n",
              "28       medium   362.200350\n",
              "8          want   357.476758\n",
              "17        trade   356.673746\n",
              "7       company   346.314758\n",
              "10          way   336.397958\n",
              "9        tariff   335.346193\n",
              "15          car   329.871509\n",
              "37          war   315.283538\n",
              "11         year   310.688137\n",
              "14          pay   307.055403\n",
              "12      country   300.215934\n",
              "25    president   299.176535\n",
              "23         look   298.912166\n",
              "21        thing   296.447265\n",
              "19         work   295.488927\n",
              "24        money   290.014122\n",
              "13        steel   285.961457\n",
              "27        right   283.560627\n",
              "31        state   278.342283\n",
              "22     business   276.161455\n",
              "18         data   272.656652\n",
              "20        china   270.194071\n",
              "26          job   250.584945\n",
              "39   zuckerberg   247.317878\n",
              "29         news   244.702053\n",
              "32         seem   241.271936\n",
              "99        house   237.961671\n",
              "34        human   226.003553\n",
              "36           fb   219.700223\n",
              "33         read   216.341487\n",
              "38          put   214.256796\n",
              "46      nothing   208.950564\n",
              "35         sell   208.830635\n",
              "40          try   206.504020\n",
              "126      course   201.129765\n",
              "30    the world   199.956697\n",
              "64        woman   194.625451\n",
              "82         hope   194.063211\n",
              "45          day   193.436501\n",
              "68          tax   192.040387\n",
              "60       anyone   189.750390\n",
              "56         tell   189.130017"
            ],
            "text/html": [
              "\n",
              "  <div id=\"df-bb579dfd-8cc4-40ab-ac47-7cbf8528180c\">\n",
              "    <div class=\"colab-df-container\">\n",
              "      <div>\n",
              "<style scoped>\n",
              "    .dataframe tbody tr th:only-of-type {\n",
              "        vertical-align: middle;\n",
              "    }\n",
              "\n",
              "    .dataframe tbody tr th {\n",
              "        vertical-align: top;\n",
              "    }\n",
              "\n",
              "    .dataframe thead th {\n",
              "        text-align: right;\n",
              "    }\n",
              "</style>\n",
              "<table border=\"1\" class=\"dataframe\">\n",
              "  <thead>\n",
              "    <tr style=\"text-align: right;\">\n",
              "      <th></th>\n",
              "      <th>feature</th>\n",
              "      <th>index</th>\n",
              "    </tr>\n",
              "  </thead>\n",
              "  <tbody>\n",
              "    <tr>\n",
              "      <th>0</th>\n",
              "      <td>trump</td>\n",
              "      <td>1086.997435</td>\n",
              "    </tr>\n",
              "    <tr>\n",
              "      <th>2</th>\n",
              "      <td>facebook</td>\n",
              "      <td>626.001501</td>\n",
              "    </tr>\n",
              "    <tr>\n",
              "      <th>1</th>\n",
              "      <td>people</td>\n",
              "      <td>588.400886</td>\n",
              "    </tr>\n",
              "    <tr>\n",
              "      <th>5</th>\n",
              "      <td>think</td>\n",
              "      <td>478.121676</td>\n",
              "    </tr>\n",
              "    <tr>\n",
              "      <th>4</th>\n",
              "      <td>time</td>\n",
              "      <td>466.440016</td>\n",
              "    </tr>\n",
              "    <tr>\n",
              "      <th>3</th>\n",
              "      <td>use</td>\n",
              "      <td>444.865095</td>\n",
              "    </tr>\n",
              "    <tr>\n",
              "      <th>16</th>\n",
              "      <td>world</td>\n",
              "      <td>438.489382</td>\n",
              "    </tr>\n",
              "    <tr>\n",
              "      <th>6</th>\n",
              "      <td>need</td>\n",
              "      <td>409.879351</td>\n",
              "    </tr>\n",
              "    <tr>\n",
              "      <th>28</th>\n",
              "      <td>medium</td>\n",
              "      <td>362.200350</td>\n",
              "    </tr>\n",
              "    <tr>\n",
              "      <th>8</th>\n",
              "      <td>want</td>\n",
              "      <td>357.476758</td>\n",
              "    </tr>\n",
              "    <tr>\n",
              "      <th>17</th>\n",
              "      <td>trade</td>\n",
              "      <td>356.673746</td>\n",
              "    </tr>\n",
              "    <tr>\n",
              "      <th>7</th>\n",
              "      <td>company</td>\n",
              "      <td>346.314758</td>\n",
              "    </tr>\n",
              "    <tr>\n",
              "      <th>10</th>\n",
              "      <td>way</td>\n",
              "      <td>336.397958</td>\n",
              "    </tr>\n",
              "    <tr>\n",
              "      <th>9</th>\n",
              "      <td>tariff</td>\n",
              "      <td>335.346193</td>\n",
              "    </tr>\n",
              "    <tr>\n",
              "      <th>15</th>\n",
              "      <td>car</td>\n",
              "      <td>329.871509</td>\n",
              "    </tr>\n",
              "    <tr>\n",
              "      <th>37</th>\n",
              "      <td>war</td>\n",
              "      <td>315.283538</td>\n",
              "    </tr>\n",
              "    <tr>\n",
              "      <th>11</th>\n",
              "      <td>year</td>\n",
              "      <td>310.688137</td>\n",
              "    </tr>\n",
              "    <tr>\n",
              "      <th>14</th>\n",
              "      <td>pay</td>\n",
              "      <td>307.055403</td>\n",
              "    </tr>\n",
              "    <tr>\n",
              "      <th>12</th>\n",
              "      <td>country</td>\n",
              "      <td>300.215934</td>\n",
              "    </tr>\n",
              "    <tr>\n",
              "      <th>25</th>\n",
              "      <td>president</td>\n",
              "      <td>299.176535</td>\n",
              "    </tr>\n",
              "    <tr>\n",
              "      <th>23</th>\n",
              "      <td>look</td>\n",
              "      <td>298.912166</td>\n",
              "    </tr>\n",
              "    <tr>\n",
              "      <th>21</th>\n",
              "      <td>thing</td>\n",
              "      <td>296.447265</td>\n",
              "    </tr>\n",
              "    <tr>\n",
              "      <th>19</th>\n",
              "      <td>work</td>\n",
              "      <td>295.488927</td>\n",
              "    </tr>\n",
              "    <tr>\n",
              "      <th>24</th>\n",
              "      <td>money</td>\n",
              "      <td>290.014122</td>\n",
              "    </tr>\n",
              "    <tr>\n",
              "      <th>13</th>\n",
              "      <td>steel</td>\n",
              "      <td>285.961457</td>\n",
              "    </tr>\n",
              "    <tr>\n",
              "      <th>27</th>\n",
              "      <td>right</td>\n",
              "      <td>283.560627</td>\n",
              "    </tr>\n",
              "    <tr>\n",
              "      <th>31</th>\n",
              "      <td>state</td>\n",
              "      <td>278.342283</td>\n",
              "    </tr>\n",
              "    <tr>\n",
              "      <th>22</th>\n",
              "      <td>business</td>\n",
              "      <td>276.161455</td>\n",
              "    </tr>\n",
              "    <tr>\n",
              "      <th>18</th>\n",
              "      <td>data</td>\n",
              "      <td>272.656652</td>\n",
              "    </tr>\n",
              "    <tr>\n",
              "      <th>20</th>\n",
              "      <td>china</td>\n",
              "      <td>270.194071</td>\n",
              "    </tr>\n",
              "    <tr>\n",
              "      <th>26</th>\n",
              "      <td>job</td>\n",
              "      <td>250.584945</td>\n",
              "    </tr>\n",
              "    <tr>\n",
              "      <th>39</th>\n",
              "      <td>zuckerberg</td>\n",
              "      <td>247.317878</td>\n",
              "    </tr>\n",
              "    <tr>\n",
              "      <th>29</th>\n",
              "      <td>news</td>\n",
              "      <td>244.702053</td>\n",
              "    </tr>\n",
              "    <tr>\n",
              "      <th>32</th>\n",
              "      <td>seem</td>\n",
              "      <td>241.271936</td>\n",
              "    </tr>\n",
              "    <tr>\n",
              "      <th>99</th>\n",
              "      <td>house</td>\n",
              "      <td>237.961671</td>\n",
              "    </tr>\n",
              "    <tr>\n",
              "      <th>34</th>\n",
              "      <td>human</td>\n",
              "      <td>226.003553</td>\n",
              "    </tr>\n",
              "    <tr>\n",
              "      <th>36</th>\n",
              "      <td>fb</td>\n",
              "      <td>219.700223</td>\n",
              "    </tr>\n",
              "    <tr>\n",
              "      <th>33</th>\n",
              "      <td>read</td>\n",
              "      <td>216.341487</td>\n",
              "    </tr>\n",
              "    <tr>\n",
              "      <th>38</th>\n",
              "      <td>put</td>\n",
              "      <td>214.256796</td>\n",
              "    </tr>\n",
              "    <tr>\n",
              "      <th>46</th>\n",
              "      <td>nothing</td>\n",
              "      <td>208.950564</td>\n",
              "    </tr>\n",
              "    <tr>\n",
              "      <th>35</th>\n",
              "      <td>sell</td>\n",
              "      <td>208.830635</td>\n",
              "    </tr>\n",
              "    <tr>\n",
              "      <th>40</th>\n",
              "      <td>try</td>\n",
              "      <td>206.504020</td>\n",
              "    </tr>\n",
              "    <tr>\n",
              "      <th>126</th>\n",
              "      <td>course</td>\n",
              "      <td>201.129765</td>\n",
              "    </tr>\n",
              "    <tr>\n",
              "      <th>30</th>\n",
              "      <td>the world</td>\n",
              "      <td>199.956697</td>\n",
              "    </tr>\n",
              "    <tr>\n",
              "      <th>64</th>\n",
              "      <td>woman</td>\n",
              "      <td>194.625451</td>\n",
              "    </tr>\n",
              "    <tr>\n",
              "      <th>82</th>\n",
              "      <td>hope</td>\n",
              "      <td>194.063211</td>\n",
              "    </tr>\n",
              "    <tr>\n",
              "      <th>45</th>\n",
              "      <td>day</td>\n",
              "      <td>193.436501</td>\n",
              "    </tr>\n",
              "    <tr>\n",
              "      <th>68</th>\n",
              "      <td>tax</td>\n",
              "      <td>192.040387</td>\n",
              "    </tr>\n",
              "    <tr>\n",
              "      <th>60</th>\n",
              "      <td>anyone</td>\n",
              "      <td>189.750390</td>\n",
              "    </tr>\n",
              "    <tr>\n",
              "      <th>56</th>\n",
              "      <td>tell</td>\n",
              "      <td>189.130017</td>\n",
              "    </tr>\n",
              "  </tbody>\n",
              "</table>\n",
              "</div>\n",
              "      <button class=\"colab-df-convert\" onclick=\"convertToInteractive('df-bb579dfd-8cc4-40ab-ac47-7cbf8528180c')\"\n",
              "              title=\"Convert this dataframe to an interactive table.\"\n",
              "              style=\"display:none;\">\n",
              "        \n",
              "  <svg xmlns=\"http://www.w3.org/2000/svg\" height=\"24px\"viewBox=\"0 0 24 24\"\n",
              "       width=\"24px\">\n",
              "    <path d=\"M0 0h24v24H0V0z\" fill=\"none\"/>\n",
              "    <path d=\"M18.56 5.44l.94 2.06.94-2.06 2.06-.94-2.06-.94-.94-2.06-.94 2.06-2.06.94zm-11 1L8.5 8.5l.94-2.06 2.06-.94-2.06-.94L8.5 2.5l-.94 2.06-2.06.94zm10 10l.94 2.06.94-2.06 2.06-.94-2.06-.94-.94-2.06-.94 2.06-2.06.94z\"/><path d=\"M17.41 7.96l-1.37-1.37c-.4-.4-.92-.59-1.43-.59-.52 0-1.04.2-1.43.59L10.3 9.45l-7.72 7.72c-.78.78-.78 2.05 0 2.83L4 21.41c.39.39.9.59 1.41.59.51 0 1.02-.2 1.41-.59l7.78-7.78 2.81-2.81c.8-.78.8-2.07 0-2.86zM5.41 20L4 18.59l7.72-7.72 1.47 1.35L5.41 20z\"/>\n",
              "  </svg>\n",
              "      </button>\n",
              "      \n",
              "  <style>\n",
              "    .colab-df-container {\n",
              "      display:flex;\n",
              "      flex-wrap:wrap;\n",
              "      gap: 12px;\n",
              "    }\n",
              "\n",
              "    .colab-df-convert {\n",
              "      background-color: #E8F0FE;\n",
              "      border: none;\n",
              "      border-radius: 50%;\n",
              "      cursor: pointer;\n",
              "      display: none;\n",
              "      fill: #1967D2;\n",
              "      height: 32px;\n",
              "      padding: 0 0 0 0;\n",
              "      width: 32px;\n",
              "    }\n",
              "\n",
              "    .colab-df-convert:hover {\n",
              "      background-color: #E2EBFA;\n",
              "      box-shadow: 0px 1px 2px rgba(60, 64, 67, 0.3), 0px 1px 3px 1px rgba(60, 64, 67, 0.15);\n",
              "      fill: #174EA6;\n",
              "    }\n",
              "\n",
              "    [theme=dark] .colab-df-convert {\n",
              "      background-color: #3B4455;\n",
              "      fill: #D2E3FC;\n",
              "    }\n",
              "\n",
              "    [theme=dark] .colab-df-convert:hover {\n",
              "      background-color: #434B5C;\n",
              "      box-shadow: 0px 1px 3px 1px rgba(0, 0, 0, 0.15);\n",
              "      filter: drop-shadow(0px 1px 2px rgba(0, 0, 0, 0.3));\n",
              "      fill: #FFFFFF;\n",
              "    }\n",
              "  </style>\n",
              "\n",
              "      <script>\n",
              "        const buttonEl =\n",
              "          document.querySelector('#df-bb579dfd-8cc4-40ab-ac47-7cbf8528180c button.colab-df-convert');\n",
              "        buttonEl.style.display =\n",
              "          google.colab.kernel.accessAllowed ? 'block' : 'none';\n",
              "\n",
              "        async function convertToInteractive(key) {\n",
              "          const element = document.querySelector('#df-bb579dfd-8cc4-40ab-ac47-7cbf8528180c');\n",
              "          const dataTable =\n",
              "            await google.colab.kernel.invokeFunction('convertToInteractive',\n",
              "                                                     [key], {});\n",
              "          if (!dataTable) return;\n",
              "\n",
              "          const docLinkHtml = 'Like what you see? Visit the ' +\n",
              "            '<a target=\"_blank\" href=https://colab.research.google.com/notebooks/data_table.ipynb>data table notebook</a>'\n",
              "            + ' to learn more about interactive tables.';\n",
              "          element.innerHTML = '';\n",
              "          dataTable['output_type'] = 'display_data';\n",
              "          await google.colab.output.renderOutput(dataTable, element);\n",
              "          const docLink = document.createElement('div');\n",
              "          docLink.innerHTML = docLinkHtml;\n",
              "          element.appendChild(docLink);\n",
              "        }\n",
              "      </script>\n",
              "    </div>\n",
              "  </div>\n",
              "  "
            ]
          },
          "metadata": {},
          "execution_count": 46
        }
      ]
    },
    {
      "cell_type": "code",
      "source": [
        "aspects = rank.head(20)[\"feature\"]\n",
        "aspects"
      ],
      "metadata": {
        "colab": {
          "base_uri": "https://localhost:8080/"
        },
        "id": "OprZYlqNu59X",
        "outputId": "3033055a-b3c7-407a-f38c-960e508487d4"
      },
      "execution_count": null,
      "outputs": [
        {
          "output_type": "execute_result",
          "data": {
            "text/plain": [
              "0         trump\n",
              "2      facebook\n",
              "1        people\n",
              "5         think\n",
              "4          time\n",
              "3           use\n",
              "16        world\n",
              "6          need\n",
              "28       medium\n",
              "8          want\n",
              "17        trade\n",
              "7       company\n",
              "10          way\n",
              "9        tariff\n",
              "15          car\n",
              "37          war\n",
              "11         year\n",
              "14          pay\n",
              "12      country\n",
              "25    president\n",
              "Name: feature, dtype: object"
            ]
          },
          "metadata": {},
          "execution_count": 47
        }
      ]
    },
    {
      "cell_type": "markdown",
      "source": [
        "# 4.Aspect Categorization"
      ],
      "metadata": {
        "id": "F_y9KDeju869"
      }
    },
    {
      "cell_type": "code",
      "source": [
        "!pip install gensim\n",
        "import gensim"
      ],
      "metadata": {
        "id": "6uN97axnv7Hg"
      },
      "execution_count": null,
      "outputs": []
    },
    {
      "cell_type": "code",
      "source": [
        "from gensim.models import Word2Vec"
      ],
      "metadata": {
        "id": "rnsm4Xlyz5-f"
      },
      "execution_count": null,
      "outputs": []
    },
    {
      "cell_type": "code",
      "source": [
        "www = [word for item in sent_c for word in item]"
      ],
      "metadata": {
        "id": "2xDz58pNz7qB"
      },
      "execution_count": null,
      "outputs": []
    },
    {
      "cell_type": "code",
      "source": [
        "len(Counter(www).keys())"
      ],
      "metadata": {
        "colab": {
          "base_uri": "https://localhost:8080/"
        },
        "id": "MefwR_Jdz9p6",
        "outputId": "efba378c-8f56-4d7c-e9a8-db01b15b0f1e"
      },
      "execution_count": null,
      "outputs": [
        {
          "output_type": "execute_result",
          "data": {
            "text/plain": [
              "23355"
            ]
          },
          "metadata": {},
          "execution_count": 59
        }
      ]
    },
    {
      "cell_type": "code",
      "source": [
        "def skip(sent, n=3, s=2):\n",
        "  k_grams = []\n",
        "  for i in range(len(sent)):\n",
        "    for z in range(s):\n",
        "      seq = [sent[i]] + sent[i+z+1:i+z+n]\n",
        "      if len(seq) == n and seq not in k_grams:\n",
        "        k_grams.append(list(seq))\n",
        "  return k_grams  "
      ],
      "metadata": {
        "id": "nPZnUWVCz-U2"
      },
      "execution_count": null,
      "outputs": []
    },
    {
      "cell_type": "code",
      "source": [
        "sent_c1 = [sent for sent in sent_c if sent != []]"
      ],
      "metadata": {
        "id": "A42j29rD0BV6"
      },
      "execution_count": null,
      "outputs": []
    },
    {
      "cell_type": "code",
      "source": [
        "sequences = []\n",
        "for i in sent_c1:\n",
        "  l = skip(i)\n",
        "  sequences.append(l)"
      ],
      "metadata": {
        "id": "9V4kfxmx0DPc"
      },
      "execution_count": null,
      "outputs": []
    },
    {
      "cell_type": "code",
      "source": [
        "sequences = [sent for sent in sequences if sent != []]\n",
        "seq = [s for sent in sequences for s in sent]"
      ],
      "metadata": {
        "id": "SRqJp1Fp0E-F"
      },
      "execution_count": null,
      "outputs": []
    },
    {
      "cell_type": "code",
      "source": [
        "seq[:10]"
      ],
      "metadata": {
        "colab": {
          "base_uri": "https://localhost:8080/"
        },
        "id": "M_BMolH20Kon",
        "outputId": "6c400031-0d3b-4897-fff9-a90e3d783021"
      },
      "execution_count": null,
      "outputs": [
        {
          "output_type": "execute_result",
          "data": {
            "text/plain": [
              "[['choice', 'mine', 'bitcoin'],\n",
              " ['choice', 'bitcoin', 'waste'],\n",
              " ['mine', 'bitcoin', 'waste'],\n",
              " ['mine', 'waste', 'hydroelectric'],\n",
              " ['bitcoin', 'waste', 'hydroelectric'],\n",
              " ['bitcoin', 'hydroelectric', 'power'],\n",
              " ['waste', 'hydroelectric', 'power'],\n",
              " ['waste', 'power', 'take'],\n",
              " ['hydroelectric', 'power', 'take'],\n",
              " ['hydroelectric', 'take', 'empty']]"
            ]
          },
          "metadata": {},
          "execution_count": 64
        }
      ]
    },
    {
      "cell_type": "code",
      "source": [
        "model = Word2Vec(seq, min_count=50)"
      ],
      "metadata": {
        "id": "Ib0W1q0i0NZJ"
      },
      "execution_count": null,
      "outputs": []
    },
    {
      "cell_type": "code",
      "source": [
        "word = 'tariff'\n",
        "model.wv.most_similar(positive=word)"
      ],
      "metadata": {
        "colab": {
          "base_uri": "https://localhost:8080/"
        },
        "id": "Z4SDXASW0Pxx",
        "outputId": "bd6e977f-93af-4911-be5d-ed67665c5639"
      },
      "execution_count": null,
      "outputs": [
        {
          "output_type": "execute_result",
          "data": {
            "text/plain": [
              "[('tarriffs', 0.6223598718643188),\n",
              " ('duty', 0.6117249727249146),\n",
              " ('punitive', 0.5410205125808716),\n",
              " ('restriction', 0.537692129611969),\n",
              " ('impose', 0.5253567099571228),\n",
              " ('davidson', 0.5221260786056519),\n",
              " ('retaliation', 0.5190413594245911),\n",
              " ('propose', 0.5159823894500732),\n",
              " ('unilaterally', 0.5138119459152222),\n",
              " ('sanction', 0.5009950399398804)]"
            ]
          },
          "metadata": {},
          "execution_count": 69
        }
      ]
    },
    {
      "cell_type": "code",
      "source": [
        "aspects = aspects.drop([1,5,4,3,6,8,10,11])"
      ],
      "metadata": {
        "id": "dBaiUAI53A_c"
      },
      "execution_count": null,
      "outputs": []
    },
    {
      "cell_type": "code",
      "source": [
        "aspect_c = defaultdict(list)\n",
        "for i in aspects:\n",
        "  similar = model.wv.most_similar(positive=i)\n",
        "  for w, s in similar:\n",
        "    aspect_c[i].append(w)"
      ],
      "metadata": {
        "id": "qq0nH4-12jkJ"
      },
      "execution_count": null,
      "outputs": []
    },
    {
      "cell_type": "code",
      "source": [
        "aspect_c"
      ],
      "metadata": {
        "colab": {
          "base_uri": "https://localhost:8080/"
        },
        "collapsed": true,
        "id": "s_WVVLhX2ozh",
        "outputId": "5e56b157-4a0c-45af-cab6-e2693c6a253f"
      },
      "execution_count": null,
      "outputs": [
        {
          "output_type": "execute_result",
          "data": {
            "text/plain": [
              "defaultdict(list,\n",
              "            {'trump': ['potus',\n",
              "              'dt',\n",
              "              'djt',\n",
              "              'donald',\n",
              "              'rhetoric',\n",
              "              'trumps',\n",
              "              'obama',\n",
              "              'resignation',\n",
              "              'thug',\n",
              "              'dennison'],\n",
              "             'facebook': ['fb',\n",
              "              'platform',\n",
              "              'snapchat',\n",
              "              'linkedin',\n",
              "              'yahoo',\n",
              "              'instagram',\n",
              "              'gmail',\n",
              "              'whatsapp',\n",
              "              'app',\n",
              "              'apps'],\n",
              "             'world': ['mission',\n",
              "              'standing',\n",
              "              'civilization',\n",
              "              'global',\n",
              "              'jeopardize',\n",
              "              'wallow',\n",
              "              'the world',\n",
              "              'mud',\n",
              "              'planet',\n",
              "              'unleash'],\n",
              "             'medium': ['social medium',\n",
              "              'insidious',\n",
              "              'shine',\n",
              "              'web',\n",
              "              'addictive',\n",
              "              'commentary',\n",
              "              'addict',\n",
              "              'habit',\n",
              "              'twitter',\n",
              "              'disseminate'],\n",
              "             'trade': ['trading',\n",
              "              'nafta',\n",
              "              'unfair',\n",
              "              'currency',\n",
              "              'wto',\n",
              "              'reign',\n",
              "              'resolution',\n",
              "              'procedure',\n",
              "              'geopolitical',\n",
              "              'negotiation'],\n",
              "             'company': ['firm',\n",
              "              'corporation',\n",
              "              'manufacturer',\n",
              "              'broadcom',\n",
              "              'shareholder',\n",
              "              'patent',\n",
              "              'portfolio',\n",
              "              'holder',\n",
              "              'maker',\n",
              "              'broker'],\n",
              "             'tariff': ['tarriffs',\n",
              "              'duty',\n",
              "              'punitive',\n",
              "              'restriction',\n",
              "              'impose',\n",
              "              'davidson',\n",
              "              'retaliation',\n",
              "              'propose',\n",
              "              'unilaterally',\n",
              "              'sanction'],\n",
              "             'car': ['vehicle',\n",
              "              'autonomous',\n",
              "              'road',\n",
              "              'driving',\n",
              "              'autopilot',\n",
              "              'driver',\n",
              "              'motor',\n",
              "              'mode',\n",
              "              'roadway',\n",
              "              'uber'],\n",
              "             'war': ['wwii',\n",
              "              'trade war',\n",
              "              'ww',\n",
              "              'afghanistan',\n",
              "              'loser',\n",
              "              'prepare',\n",
              "              'missile',\n",
              "              'iran',\n",
              "              'loom',\n",
              "              'peace'],\n",
              "             'pay': ['earn',\n",
              "              'sue',\n",
              "              'span',\n",
              "              'jack',\n",
              "              'sacrifice',\n",
              "              'extra',\n",
              "              'owe',\n",
              "              'dividend',\n",
              "              'payroll',\n",
              "              'bonus'],\n",
              "             'country': ['nation',\n",
              "              'britain',\n",
              "              'africa',\n",
              "              'unfair',\n",
              "              'europe',\n",
              "              'italy',\n",
              "              'quota',\n",
              "              'alliance',\n",
              "              'agricultural',\n",
              "              'pacific'],\n",
              "             'president': ['presidency',\n",
              "              'potus',\n",
              "              'traitor',\n",
              "              'administration',\n",
              "              'unfit',\n",
              "              'david',\n",
              "              'donald trump',\n",
              "              'jinping',\n",
              "              'bolton',\n",
              "              'barack']})"
            ]
          },
          "metadata": {},
          "execution_count": 85
        }
      ]
    },
    {
      "cell_type": "code",
      "source": [
        "category = {'trump': ['potus', 'dt', 'djt', 'donald', 'rhetoric', 'trumps', 'obama','resignation', 'thug','dennison'],\n",
        "            'facebook': ['fb', 'platform', 'snapchat', 'linkedin', 'yahoo', 'instagram', 'gmail', 'whatsapp', 'app', 'apps'],\n",
        "            'world': ['mission', 'standing', 'civilization', 'global', 'jeopardize', 'wallow', 'the world', 'mud', 'planet', 'unleash'],\n",
        "            'medium': ['social medium', 'insidious', 'shine', 'web', 'addictive', 'commentary', 'addict', 'habit', 'twitter','disseminate'],\n",
        "            'trade': ['trading', 'nafta', 'unfair', 'currency', 'wto', 'reign', 'resolution', 'procedure', 'geopolitical','negotiation'],\n",
        "            'company': ['firm', 'corporation', 'manufacturer', 'broadcom', 'shareholder', 'patent', 'portfolio', 'holder', 'maker', 'broker'],\n",
        "            'tariff': ['tarriffs', 'duty','punitive', 'restriction','impose', 'davidson','retaliation', 'propose', 'unilaterally','sanction'],\n",
        "            'car': ['vehicle', 'autonomous', 'road', 'driving', 'autopilot', 'driver', 'motor', 'mode', 'roadway', 'uber'],\n",
        "            'war': ['wwii', 'trade war', 'ww', 'afghanistan', 'loser', 'prepare', 'missile', 'iran', 'loom', 'peace'],\n",
        "            'pay': ['earn', 'sue', 'span', 'jack', 'sacrifice', 'extra', 'owe', 'dividend', 'payroll', 'bonus'],\n",
        "            'country': ['nation', 'britain', 'africa', 'unfair', 'europe', 'italy', 'quota', 'alliance', 'agricultural', 'pacific'],\n",
        "            'president': ['presidency','potus', 'traitor', 'administration', 'unfit', 'david', 'donald trump','jinping', 'bolton', 'barack']}"
      ],
      "metadata": {
        "id": "nK4BkCD84eUA"
      },
      "execution_count": null,
      "outputs": []
    },
    {
      "cell_type": "code",
      "source": [
        "for (a, s) in category.items():\n",
        "  for wor in s:\n",
        "    w,t = nltk.pos_tag([wor])[0]\n",
        "    if t[0] != 'N':\n",
        "      category[a].remove(wor)"
      ],
      "metadata": {
        "id": "9ttk9lAz4aE7"
      },
      "execution_count": null,
      "outputs": []
    },
    {
      "cell_type": "code",
      "source": [
        "category"
      ],
      "metadata": {
        "colab": {
          "base_uri": "https://localhost:8080/"
        },
        "id": "llZcAbvGAjrW",
        "outputId": "acfff51a-f388-4a27-a142-d5a544338a44"
      },
      "execution_count": null,
      "outputs": [
        {
          "output_type": "execute_result",
          "data": {
            "text/plain": [
              "{'trump': ['potus',\n",
              "  'dt',\n",
              "  'djt',\n",
              "  'donald',\n",
              "  'rhetoric',\n",
              "  'trumps',\n",
              "  'obama',\n",
              "  'resignation',\n",
              "  'thug',\n",
              "  'dennison'],\n",
              " 'facebook': ['fb',\n",
              "  'platform',\n",
              "  'snapchat',\n",
              "  'linkedin',\n",
              "  'yahoo',\n",
              "  'instagram',\n",
              "  'gmail',\n",
              "  'whatsapp',\n",
              "  'app',\n",
              "  'apps'],\n",
              " 'world': ['mission',\n",
              "  'civilization',\n",
              "  'jeopardize',\n",
              "  'wallow',\n",
              "  'the world',\n",
              "  'mud',\n",
              "  'planet',\n",
              "  'unleash'],\n",
              " 'medium': ['social medium',\n",
              "  'shine',\n",
              "  'web',\n",
              "  'commentary',\n",
              "  'addict',\n",
              "  'habit',\n",
              "  'twitter',\n",
              "  'disseminate'],\n",
              " 'trade': ['trading',\n",
              "  'nafta',\n",
              "  'unfair',\n",
              "  'currency',\n",
              "  'wto',\n",
              "  'reign',\n",
              "  'resolution',\n",
              "  'procedure',\n",
              "  'negotiation'],\n",
              " 'company': ['firm',\n",
              "  'corporation',\n",
              "  'manufacturer',\n",
              "  'broadcom',\n",
              "  'shareholder',\n",
              "  'patent',\n",
              "  'portfolio',\n",
              "  'holder',\n",
              "  'maker',\n",
              "  'broker'],\n",
              " 'tariff': ['tarriffs',\n",
              "  'duty',\n",
              "  'restriction',\n",
              "  'davidson',\n",
              "  'retaliation',\n",
              "  'propose',\n",
              "  'sanction'],\n",
              " 'car': ['vehicle',\n",
              "  'road',\n",
              "  'autopilot',\n",
              "  'driver',\n",
              "  'motor',\n",
              "  'mode',\n",
              "  'roadway',\n",
              "  'uber'],\n",
              " 'war': ['wwii',\n",
              "  'trade war',\n",
              "  'ww',\n",
              "  'afghanistan',\n",
              "  'loser',\n",
              "  'prepare',\n",
              "  'missile',\n",
              "  'iran',\n",
              "  'loom',\n",
              "  'peace'],\n",
              " 'pay': ['earn',\n",
              "  'sue',\n",
              "  'span',\n",
              "  'jack',\n",
              "  'sacrifice',\n",
              "  'owe',\n",
              "  'dividend',\n",
              "  'payroll',\n",
              "  'bonus'],\n",
              " 'country': ['nation',\n",
              "  'britain',\n",
              "  'africa',\n",
              "  'unfair',\n",
              "  'europe',\n",
              "  'italy',\n",
              "  'quota',\n",
              "  'alliance',\n",
              "  'pacific'],\n",
              " 'president': ['presidency',\n",
              "  'potus',\n",
              "  'traitor',\n",
              "  'administration',\n",
              "  'unfit',\n",
              "  'david',\n",
              "  'donald trump',\n",
              "  'jinping',\n",
              "  'bolton',\n",
              "  'barack']}"
            ]
          },
          "metadata": {},
          "execution_count": 91
        }
      ]
    },
    {
      "cell_type": "code",
      "source": [
        "category = {'trump': ['potus', 'dt', 'djt', 'donald', 'rhetoric', 'trumps', 'obama', 'resignation', 'thug', 'dennison'],\n",
        "            'facebook': ['fb', 'platform', 'snapchat', 'linkedin', 'yahoo', 'instagram', 'gmail', 'whatsapp', 'app', 'apps'],\n",
        "            'world': ['mission', 'civilization', 'jeopardize', 'wallow', 'the world', 'mud', 'planet', 'unleash'], \n",
        "            'medium': ['social medium', 'shine', 'web', 'commentary', 'addict', 'habit', 'twitter', 'disseminate'],\n",
        "            'trade': ['trading', 'nafta', 'unfair', 'currency', 'wto', 'reign', 'resolution', 'procedure', 'negotiation'],\n",
        "            'company': ['firm', 'corporation', 'manufacturer', 'broadcom', 'shareholder', 'patent', 'portfolio', 'holder', 'maker', 'broker'],\n",
        "            'tariff': ['tarriffs', 'duty', 'restriction', 'davidson', 'retaliation', 'propose', 'sanction'],\n",
        "            'car': ['vehicle', 'road', 'autopilot', 'driver', 'motor', 'mode', 'roadway', 'uber'],\n",
        "            'war': ['wwii', 'trade war', 'ww', 'afghanistan', 'loser', 'prepare', 'missile', 'iran', 'loom', 'peace'],\n",
        "            'pay': ['earn', 'sue', 'span', 'jack', 'sacrifice', 'owe', 'dividend', 'payroll', 'bonus'],\n",
        "            'country': ['nation', 'britain', 'africa', 'unfair', 'europe', 'italy', 'quota', 'alliance', 'pacific'],\n",
        "            'president': ['presidency', 'potus', 'traitor', 'administration', 'unfit', 'david','donald trump', 'jinping', 'bolton','barack']}"
      ],
      "metadata": {
        "id": "819qdb0WCQQk"
      },
      "execution_count": null,
      "outputs": []
    },
    {
      "cell_type": "code",
      "source": [
        "category = {'trump': ['potus', 'dt', 'djt', 'donald', 'rhetoric', 'trumps', 'obama', 'resignation', 'thug', 'dennison', 'president', 'david', 'donald trump', 'presidency', 'traitor', 'administration', 'bolton','barack'],\n",
        "            'facebook': ['fb', 'platform', 'snapchat', 'linkedin', 'yahoo', 'instagram', 'gmail', 'whatsapp', 'app', 'apps'],\n",
        "            'world': ['mission', 'civilization', 'jeopardize', 'wallow', 'the world', 'mud', 'planet', 'unleash'], \n",
        "            'medium': ['social medium', 'shine', 'web', 'commentary', 'addict', 'habit', 'twitter', 'disseminate'],\n",
        "            'trade': ['trading', 'nafta', 'currency', 'wto', 'reign', 'resolution', 'procedure', 'negotiation', 'wwii', 'trade war', 'ww', 'afghanistan', 'loser', 'prepare', 'missile', 'iran', 'loom', 'peace', 'war'],\n",
        "            'tariff': ['tarriffs', 'duty', 'restriction', 'davidson', 'retaliation', 'propose', 'sanction'],\n",
        "            'car': ['vehicle', 'road', 'autopilot', 'driver', 'motor', 'mode', 'roadway', 'uber'],\n",
        "            'pay': ['earn', 'sue', 'span', 'jack', 'sacrifice', 'owe', 'dividend', 'payroll', 'bonus'],\n",
        "            'country': ['nation', 'britain', 'africa', 'europe', 'italy', 'quota', 'alliance', 'pacific']}"
      ],
      "metadata": {
        "id": "1MBJklH-DfBY"
      },
      "execution_count": null,
      "outputs": []
    },
    {
      "cell_type": "code",
      "source": [
        "for k in category.keys():\n",
        "  category[k].append(k)"
      ],
      "metadata": {
        "id": "l42OcXhEETuy"
      },
      "execution_count": null,
      "outputs": []
    },
    {
      "cell_type": "code",
      "source": [
        "c_v = [wor for k,v in category.items() for wor in v]"
      ],
      "metadata": {
        "id": "I1L3tW9ZEWDv"
      },
      "execution_count": null,
      "outputs": []
    },
    {
      "cell_type": "code",
      "source": [
        "cc = []\n",
        "for com in com_sent:\n",
        "  ccc = []\n",
        "  for sent in com:\n",
        "    ss = []\n",
        "    for wor in sent:\n",
        "      if wor not in c_v:\n",
        "        ss.append(wor)\n",
        "      else:\n",
        "        for k in category.keys():\n",
        "          if wor in category[k]:\n",
        "            ss.append(k)\n",
        "    ccc.append(ss)\n",
        "  cc.append(ccc)"
      ],
      "metadata": {
        "id": "VrqwOo1rHaFF"
      },
      "execution_count": null,
      "outputs": []
    },
    {
      "cell_type": "code",
      "source": [
        "opinion_d = []\n",
        "for com in cc:\n",
        "  com_d = defaultdict(list)\n",
        "  for s in com:\n",
        "    for k in category.keys():\n",
        "      if any(w in s for w in category[k]) is True:\n",
        "        com_d[k].append(s)\n",
        "  opinion_d.append(dict(com_d))"
      ],
      "metadata": {
        "id": "dWeXZhioH9Jp"
      },
      "execution_count": null,
      "outputs": []
    },
    {
      "cell_type": "code",
      "source": [
        "opinion = pd.DataFrame({\"opinion sentences\": opinion_d, \"editor selection\": business[\"editorsSelection\"]})"
      ],
      "metadata": {
        "id": "9Mtk11A1IMuz"
      },
      "execution_count": null,
      "outputs": []
    },
    {
      "cell_type": "code",
      "source": [
        "opinion.drop(opinion[opinion['opinion sentences'] == {}].index, inplace = True)"
      ],
      "metadata": {
        "id": "00wpoq7aIbGb"
      },
      "execution_count": null,
      "outputs": []
    },
    {
      "cell_type": "code",
      "source": [
        "opinion"
      ],
      "metadata": {
        "colab": {
          "base_uri": "https://localhost:8080/",
          "height": 424
        },
        "id": "0tnZIB09If0a",
        "outputId": "27f2527e-257d-41ff-ea82-7cdaa60dcc3d"
      },
      "execution_count": null,
      "outputs": [
        {
          "output_type": "execute_result",
          "data": {
            "text/plain": [
              "                                        opinion sentences  editor selection\n",
              "0       {'country': [['choice', 'mine', 'bitcoin', 'wa...                 0\n",
              "2       {'trade': [['generally', 'accept', 'form', 'tr...                 0\n",
              "3       {'world': [['important', 'realize', 'virtual',...                 0\n",
              "5       {'trade': [['unquestioned', 'value', 'crypto',...                 0\n",
              "6       {'pay': [['bitcoin', 'people', 'choice', 'want...                 0\n",
              "...                                                   ...               ...\n",
              "246463  {'country': [['excellent', 'point', 'always', ...                 0\n",
              "246607       {'car': [['happen', 'next', 'time', 'car']]}                 0\n",
              "246608  {'car': [['however', 'automated', 'car', 'go',...                 0\n",
              "246609  {'car': [['article', 'say', 'automated', 'car'...                 0\n",
              "246643  {'car': [['reason', 'speed', 'limit', 'set', '...                 0\n",
              "\n",
              "[12710 rows x 2 columns]"
            ],
            "text/html": [
              "\n",
              "  <div id=\"df-b56efcf5-c9e2-450d-8541-731f868d5673\">\n",
              "    <div class=\"colab-df-container\">\n",
              "      <div>\n",
              "<style scoped>\n",
              "    .dataframe tbody tr th:only-of-type {\n",
              "        vertical-align: middle;\n",
              "    }\n",
              "\n",
              "    .dataframe tbody tr th {\n",
              "        vertical-align: top;\n",
              "    }\n",
              "\n",
              "    .dataframe thead th {\n",
              "        text-align: right;\n",
              "    }\n",
              "</style>\n",
              "<table border=\"1\" class=\"dataframe\">\n",
              "  <thead>\n",
              "    <tr style=\"text-align: right;\">\n",
              "      <th></th>\n",
              "      <th>opinion sentences</th>\n",
              "      <th>editor selection</th>\n",
              "    </tr>\n",
              "  </thead>\n",
              "  <tbody>\n",
              "    <tr>\n",
              "      <th>0</th>\n",
              "      <td>{'country': [['choice', 'mine', 'bitcoin', 'wa...</td>\n",
              "      <td>0</td>\n",
              "    </tr>\n",
              "    <tr>\n",
              "      <th>2</th>\n",
              "      <td>{'trade': [['generally', 'accept', 'form', 'tr...</td>\n",
              "      <td>0</td>\n",
              "    </tr>\n",
              "    <tr>\n",
              "      <th>3</th>\n",
              "      <td>{'world': [['important', 'realize', 'virtual',...</td>\n",
              "      <td>0</td>\n",
              "    </tr>\n",
              "    <tr>\n",
              "      <th>5</th>\n",
              "      <td>{'trade': [['unquestioned', 'value', 'crypto',...</td>\n",
              "      <td>0</td>\n",
              "    </tr>\n",
              "    <tr>\n",
              "      <th>6</th>\n",
              "      <td>{'pay': [['bitcoin', 'people', 'choice', 'want...</td>\n",
              "      <td>0</td>\n",
              "    </tr>\n",
              "    <tr>\n",
              "      <th>...</th>\n",
              "      <td>...</td>\n",
              "      <td>...</td>\n",
              "    </tr>\n",
              "    <tr>\n",
              "      <th>246463</th>\n",
              "      <td>{'country': [['excellent', 'point', 'always', ...</td>\n",
              "      <td>0</td>\n",
              "    </tr>\n",
              "    <tr>\n",
              "      <th>246607</th>\n",
              "      <td>{'car': [['happen', 'next', 'time', 'car']]}</td>\n",
              "      <td>0</td>\n",
              "    </tr>\n",
              "    <tr>\n",
              "      <th>246608</th>\n",
              "      <td>{'car': [['however', 'automated', 'car', 'go',...</td>\n",
              "      <td>0</td>\n",
              "    </tr>\n",
              "    <tr>\n",
              "      <th>246609</th>\n",
              "      <td>{'car': [['article', 'say', 'automated', 'car'...</td>\n",
              "      <td>0</td>\n",
              "    </tr>\n",
              "    <tr>\n",
              "      <th>246643</th>\n",
              "      <td>{'car': [['reason', 'speed', 'limit', 'set', '...</td>\n",
              "      <td>0</td>\n",
              "    </tr>\n",
              "  </tbody>\n",
              "</table>\n",
              "<p>12710 rows × 2 columns</p>\n",
              "</div>\n",
              "      <button class=\"colab-df-convert\" onclick=\"convertToInteractive('df-b56efcf5-c9e2-450d-8541-731f868d5673')\"\n",
              "              title=\"Convert this dataframe to an interactive table.\"\n",
              "              style=\"display:none;\">\n",
              "        \n",
              "  <svg xmlns=\"http://www.w3.org/2000/svg\" height=\"24px\"viewBox=\"0 0 24 24\"\n",
              "       width=\"24px\">\n",
              "    <path d=\"M0 0h24v24H0V0z\" fill=\"none\"/>\n",
              "    <path d=\"M18.56 5.44l.94 2.06.94-2.06 2.06-.94-2.06-.94-.94-2.06-.94 2.06-2.06.94zm-11 1L8.5 8.5l.94-2.06 2.06-.94-2.06-.94L8.5 2.5l-.94 2.06-2.06.94zm10 10l.94 2.06.94-2.06 2.06-.94-2.06-.94-.94-2.06-.94 2.06-2.06.94z\"/><path d=\"M17.41 7.96l-1.37-1.37c-.4-.4-.92-.59-1.43-.59-.52 0-1.04.2-1.43.59L10.3 9.45l-7.72 7.72c-.78.78-.78 2.05 0 2.83L4 21.41c.39.39.9.59 1.41.59.51 0 1.02-.2 1.41-.59l7.78-7.78 2.81-2.81c.8-.78.8-2.07 0-2.86zM5.41 20L4 18.59l7.72-7.72 1.47 1.35L5.41 20z\"/>\n",
              "  </svg>\n",
              "      </button>\n",
              "      \n",
              "  <style>\n",
              "    .colab-df-container {\n",
              "      display:flex;\n",
              "      flex-wrap:wrap;\n",
              "      gap: 12px;\n",
              "    }\n",
              "\n",
              "    .colab-df-convert {\n",
              "      background-color: #E8F0FE;\n",
              "      border: none;\n",
              "      border-radius: 50%;\n",
              "      cursor: pointer;\n",
              "      display: none;\n",
              "      fill: #1967D2;\n",
              "      height: 32px;\n",
              "      padding: 0 0 0 0;\n",
              "      width: 32px;\n",
              "    }\n",
              "\n",
              "    .colab-df-convert:hover {\n",
              "      background-color: #E2EBFA;\n",
              "      box-shadow: 0px 1px 2px rgba(60, 64, 67, 0.3), 0px 1px 3px 1px rgba(60, 64, 67, 0.15);\n",
              "      fill: #174EA6;\n",
              "    }\n",
              "\n",
              "    [theme=dark] .colab-df-convert {\n",
              "      background-color: #3B4455;\n",
              "      fill: #D2E3FC;\n",
              "    }\n",
              "\n",
              "    [theme=dark] .colab-df-convert:hover {\n",
              "      background-color: #434B5C;\n",
              "      box-shadow: 0px 1px 3px 1px rgba(0, 0, 0, 0.15);\n",
              "      filter: drop-shadow(0px 1px 2px rgba(0, 0, 0, 0.3));\n",
              "      fill: #FFFFFF;\n",
              "    }\n",
              "  </style>\n",
              "\n",
              "      <script>\n",
              "        const buttonEl =\n",
              "          document.querySelector('#df-b56efcf5-c9e2-450d-8541-731f868d5673 button.colab-df-convert');\n",
              "        buttonEl.style.display =\n",
              "          google.colab.kernel.accessAllowed ? 'block' : 'none';\n",
              "\n",
              "        async function convertToInteractive(key) {\n",
              "          const element = document.querySelector('#df-b56efcf5-c9e2-450d-8541-731f868d5673');\n",
              "          const dataTable =\n",
              "            await google.colab.kernel.invokeFunction('convertToInteractive',\n",
              "                                                     [key], {});\n",
              "          if (!dataTable) return;\n",
              "\n",
              "          const docLinkHtml = 'Like what you see? Visit the ' +\n",
              "            '<a target=\"_blank\" href=https://colab.research.google.com/notebooks/data_table.ipynb>data table notebook</a>'\n",
              "            + ' to learn more about interactive tables.';\n",
              "          element.innerHTML = '';\n",
              "          dataTable['output_type'] = 'display_data';\n",
              "          await google.colab.output.renderOutput(dataTable, element);\n",
              "          const docLink = document.createElement('div');\n",
              "          docLink.innerHTML = docLinkHtml;\n",
              "          element.appendChild(docLink);\n",
              "        }\n",
              "      </script>\n",
              "    </div>\n",
              "  </div>\n",
              "  "
            ]
          },
          "metadata": {},
          "execution_count": 55
        }
      ]
    },
    {
      "cell_type": "markdown",
      "source": [
        "# 5.Sentiment Orientation"
      ],
      "metadata": {
        "id": "8j4opIAOIjve"
      }
    },
    {
      "cell_type": "code",
      "source": [
        "def split_sentence(o_p, k):\n",
        "  if k in o_p.keys():\n",
        "    list_s = o_p[k]\n",
        "  else:\n",
        "    list_s = []\n",
        "  return list_s"
      ],
      "metadata": {
        "id": "X0zTCG61IjI2"
      },
      "execution_count": null,
      "outputs": []
    },
    {
      "cell_type": "code",
      "source": [
        "for k in category.keys():\n",
        "  m = []\n",
        "  for i in opinion['opinion sentences']:\n",
        "    x = split_sentence(i, k)\n",
        "    m.append(x)\n",
        "  opinion[k] = m"
      ],
      "metadata": {
        "id": "q-F0st1vIxKo"
      },
      "execution_count": null,
      "outputs": []
    },
    {
      "cell_type": "code",
      "source": [
        "opinion"
      ],
      "metadata": {
        "colab": {
          "base_uri": "https://localhost:8080/",
          "height": 780
        },
        "id": "vM9lJNJ2yLaM",
        "outputId": "fc3a132e-012d-4a0d-e644-69636570e4ef"
      },
      "execution_count": null,
      "outputs": [
        {
          "output_type": "execute_result",
          "data": {
            "text/plain": [
              "                                        opinion sentences  editor selection  \\\n",
              "0       {'country': [['choice', 'mine', 'bitcoin', 'wa...                 0   \n",
              "2       {'trade': [['generally', 'accept', 'form', 'tr...                 0   \n",
              "3       {'world': [['important', 'realize', 'virtual',...                 0   \n",
              "5       {'trade': [['unquestioned', 'value', 'crypto',...                 0   \n",
              "6       {'pay': [['bitcoin', 'people', 'choice', 'want...                 0   \n",
              "...                                                   ...               ...   \n",
              "246463  {'country': [['excellent', 'point', 'always', ...                 0   \n",
              "246607       {'car': [['happen', 'next', 'time', 'car']]}                 0   \n",
              "246608  {'car': [['however', 'automated', 'car', 'go',...                 0   \n",
              "246609  {'car': [['article', 'say', 'automated', 'car'...                 0   \n",
              "246643  {'car': [['reason', 'speed', 'limit', 'set', '...                 0   \n",
              "\n",
              "       trump facebook                                              world  \\\n",
              "0         []       []                                                 []   \n",
              "2         []       []                                                 []   \n",
              "3         []       []  [[important, realize, virtual, dollar, rather,...   \n",
              "5         []       []                                                 []   \n",
              "6         []       []                                                 []   \n",
              "...      ...      ...                                                ...   \n",
              "246463    []       []                                                 []   \n",
              "246607    []       []                                                 []   \n",
              "246608    []       []                                                 []   \n",
              "246609    []       []                                                 []   \n",
              "246643    []       []                                                 []   \n",
              "\n",
              "                                                   medium  \\\n",
              "0                                                      []   \n",
              "2                                                      []   \n",
              "3       [[pretty, sure, biggie, right, although, happy...   \n",
              "5                                                      []   \n",
              "6                                                      []   \n",
              "...                                                   ...   \n",
              "246463                                                 []   \n",
              "246607                                                 []   \n",
              "246608                                                 []   \n",
              "246609                                                 []   \n",
              "246643                                                 []   \n",
              "\n",
              "                                                    trade tariff  \\\n",
              "0                                                      []     []   \n",
              "2               [[generally, accept, form, trade, never]]     []   \n",
              "3                                                      []     []   \n",
              "5       [[unquestioned, value, crypto, trade, provide,...     []   \n",
              "6                                                      []     []   \n",
              "...                                                   ...    ...   \n",
              "246463                                                 []     []   \n",
              "246607                                                 []     []   \n",
              "246608                                                 []     []   \n",
              "246609                                                 []     []   \n",
              "246643                                                 []     []   \n",
              "\n",
              "                                                      car  \\\n",
              "0                                                      []   \n",
              "2                                                      []   \n",
              "3                                                      []   \n",
              "5                                                      []   \n",
              "6                                                      []   \n",
              "...                                                   ...   \n",
              "246463                                                 []   \n",
              "246607                        [[happen, next, time, car]]   \n",
              "246608  [[however, automated, car, go, mile, speed, li...   \n",
              "246609  [[article, say, automated, car, go, mile, per,...   \n",
              "246643  [[reason, speed, limit, set, level, reflect, f...   \n",
              "\n",
              "                                                      pay  \\\n",
              "0                                                      []   \n",
              "2                                                      []   \n",
              "3       [[important, realize, virtual, dollar, rather,...   \n",
              "5                                                      []   \n",
              "6       [[bitcoin, people, choice, want, pay, tax, inc...   \n",
              "...                                                   ...   \n",
              "246463                                                 []   \n",
              "246607                                                 []   \n",
              "246608                                                 []   \n",
              "246609                                                 []   \n",
              "246643                                                 []   \n",
              "\n",
              "                                                  country  \n",
              "0       [[choice, mine, bitcoin, waste, hydroelectric,...  \n",
              "2                                                      []  \n",
              "3                                                      []  \n",
              "5                                                      []  \n",
              "6                                                      []  \n",
              "...                                                   ...  \n",
              "246463  [[excellent, point, always, use, example, know...  \n",
              "246607                                                 []  \n",
              "246608                                                 []  \n",
              "246609                                                 []  \n",
              "246643                                                 []  \n",
              "\n",
              "[12710 rows x 11 columns]"
            ],
            "text/html": [
              "\n",
              "  <div id=\"df-8ced8a38-1a1b-4f5b-8927-1ef9c98e6b3b\">\n",
              "    <div class=\"colab-df-container\">\n",
              "      <div>\n",
              "<style scoped>\n",
              "    .dataframe tbody tr th:only-of-type {\n",
              "        vertical-align: middle;\n",
              "    }\n",
              "\n",
              "    .dataframe tbody tr th {\n",
              "        vertical-align: top;\n",
              "    }\n",
              "\n",
              "    .dataframe thead th {\n",
              "        text-align: right;\n",
              "    }\n",
              "</style>\n",
              "<table border=\"1\" class=\"dataframe\">\n",
              "  <thead>\n",
              "    <tr style=\"text-align: right;\">\n",
              "      <th></th>\n",
              "      <th>opinion sentences</th>\n",
              "      <th>editor selection</th>\n",
              "      <th>trump</th>\n",
              "      <th>facebook</th>\n",
              "      <th>world</th>\n",
              "      <th>medium</th>\n",
              "      <th>trade</th>\n",
              "      <th>tariff</th>\n",
              "      <th>car</th>\n",
              "      <th>pay</th>\n",
              "      <th>country</th>\n",
              "    </tr>\n",
              "  </thead>\n",
              "  <tbody>\n",
              "    <tr>\n",
              "      <th>0</th>\n",
              "      <td>{'country': [['choice', 'mine', 'bitcoin', 'wa...</td>\n",
              "      <td>0</td>\n",
              "      <td>[]</td>\n",
              "      <td>[]</td>\n",
              "      <td>[]</td>\n",
              "      <td>[]</td>\n",
              "      <td>[]</td>\n",
              "      <td>[]</td>\n",
              "      <td>[]</td>\n",
              "      <td>[]</td>\n",
              "      <td>[[choice, mine, bitcoin, waste, hydroelectric,...</td>\n",
              "    </tr>\n",
              "    <tr>\n",
              "      <th>2</th>\n",
              "      <td>{'trade': [['generally', 'accept', 'form', 'tr...</td>\n",
              "      <td>0</td>\n",
              "      <td>[]</td>\n",
              "      <td>[]</td>\n",
              "      <td>[]</td>\n",
              "      <td>[]</td>\n",
              "      <td>[[generally, accept, form, trade, never]]</td>\n",
              "      <td>[]</td>\n",
              "      <td>[]</td>\n",
              "      <td>[]</td>\n",
              "      <td>[]</td>\n",
              "    </tr>\n",
              "    <tr>\n",
              "      <th>3</th>\n",
              "      <td>{'world': [['important', 'realize', 'virtual',...</td>\n",
              "      <td>0</td>\n",
              "      <td>[]</td>\n",
              "      <td>[]</td>\n",
              "      <td>[[important, realize, virtual, dollar, rather,...</td>\n",
              "      <td>[[pretty, sure, biggie, right, although, happy...</td>\n",
              "      <td>[]</td>\n",
              "      <td>[]</td>\n",
              "      <td>[]</td>\n",
              "      <td>[[important, realize, virtual, dollar, rather,...</td>\n",
              "      <td>[]</td>\n",
              "    </tr>\n",
              "    <tr>\n",
              "      <th>5</th>\n",
              "      <td>{'trade': [['unquestioned', 'value', 'crypto',...</td>\n",
              "      <td>0</td>\n",
              "      <td>[]</td>\n",
              "      <td>[]</td>\n",
              "      <td>[]</td>\n",
              "      <td>[]</td>\n",
              "      <td>[[unquestioned, value, crypto, trade, provide,...</td>\n",
              "      <td>[]</td>\n",
              "      <td>[]</td>\n",
              "      <td>[]</td>\n",
              "      <td>[]</td>\n",
              "    </tr>\n",
              "    <tr>\n",
              "      <th>6</th>\n",
              "      <td>{'pay': [['bitcoin', 'people', 'choice', 'want...</td>\n",
              "      <td>0</td>\n",
              "      <td>[]</td>\n",
              "      <td>[]</td>\n",
              "      <td>[]</td>\n",
              "      <td>[]</td>\n",
              "      <td>[]</td>\n",
              "      <td>[]</td>\n",
              "      <td>[]</td>\n",
              "      <td>[[bitcoin, people, choice, want, pay, tax, inc...</td>\n",
              "      <td>[]</td>\n",
              "    </tr>\n",
              "    <tr>\n",
              "      <th>...</th>\n",
              "      <td>...</td>\n",
              "      <td>...</td>\n",
              "      <td>...</td>\n",
              "      <td>...</td>\n",
              "      <td>...</td>\n",
              "      <td>...</td>\n",
              "      <td>...</td>\n",
              "      <td>...</td>\n",
              "      <td>...</td>\n",
              "      <td>...</td>\n",
              "      <td>...</td>\n",
              "    </tr>\n",
              "    <tr>\n",
              "      <th>246463</th>\n",
              "      <td>{'country': [['excellent', 'point', 'always', ...</td>\n",
              "      <td>0</td>\n",
              "      <td>[]</td>\n",
              "      <td>[]</td>\n",
              "      <td>[]</td>\n",
              "      <td>[]</td>\n",
              "      <td>[]</td>\n",
              "      <td>[]</td>\n",
              "      <td>[]</td>\n",
              "      <td>[]</td>\n",
              "      <td>[[excellent, point, always, use, example, know...</td>\n",
              "    </tr>\n",
              "    <tr>\n",
              "      <th>246607</th>\n",
              "      <td>{'car': [['happen', 'next', 'time', 'car']]}</td>\n",
              "      <td>0</td>\n",
              "      <td>[]</td>\n",
              "      <td>[]</td>\n",
              "      <td>[]</td>\n",
              "      <td>[]</td>\n",
              "      <td>[]</td>\n",
              "      <td>[]</td>\n",
              "      <td>[[happen, next, time, car]]</td>\n",
              "      <td>[]</td>\n",
              "      <td>[]</td>\n",
              "    </tr>\n",
              "    <tr>\n",
              "      <th>246608</th>\n",
              "      <td>{'car': [['however', 'automated', 'car', 'go',...</td>\n",
              "      <td>0</td>\n",
              "      <td>[]</td>\n",
              "      <td>[]</td>\n",
              "      <td>[]</td>\n",
              "      <td>[]</td>\n",
              "      <td>[]</td>\n",
              "      <td>[]</td>\n",
              "      <td>[[however, automated, car, go, mile, speed, li...</td>\n",
              "      <td>[]</td>\n",
              "      <td>[]</td>\n",
              "    </tr>\n",
              "    <tr>\n",
              "      <th>246609</th>\n",
              "      <td>{'car': [['article', 'say', 'automated', 'car'...</td>\n",
              "      <td>0</td>\n",
              "      <td>[]</td>\n",
              "      <td>[]</td>\n",
              "      <td>[]</td>\n",
              "      <td>[]</td>\n",
              "      <td>[]</td>\n",
              "      <td>[]</td>\n",
              "      <td>[[article, say, automated, car, go, mile, per,...</td>\n",
              "      <td>[]</td>\n",
              "      <td>[]</td>\n",
              "    </tr>\n",
              "    <tr>\n",
              "      <th>246643</th>\n",
              "      <td>{'car': [['reason', 'speed', 'limit', 'set', '...</td>\n",
              "      <td>0</td>\n",
              "      <td>[]</td>\n",
              "      <td>[]</td>\n",
              "      <td>[]</td>\n",
              "      <td>[]</td>\n",
              "      <td>[]</td>\n",
              "      <td>[]</td>\n",
              "      <td>[[reason, speed, limit, set, level, reflect, f...</td>\n",
              "      <td>[]</td>\n",
              "      <td>[]</td>\n",
              "    </tr>\n",
              "  </tbody>\n",
              "</table>\n",
              "<p>12710 rows × 11 columns</p>\n",
              "</div>\n",
              "      <button class=\"colab-df-convert\" onclick=\"convertToInteractive('df-8ced8a38-1a1b-4f5b-8927-1ef9c98e6b3b')\"\n",
              "              title=\"Convert this dataframe to an interactive table.\"\n",
              "              style=\"display:none;\">\n",
              "        \n",
              "  <svg xmlns=\"http://www.w3.org/2000/svg\" height=\"24px\"viewBox=\"0 0 24 24\"\n",
              "       width=\"24px\">\n",
              "    <path d=\"M0 0h24v24H0V0z\" fill=\"none\"/>\n",
              "    <path d=\"M18.56 5.44l.94 2.06.94-2.06 2.06-.94-2.06-.94-.94-2.06-.94 2.06-2.06.94zm-11 1L8.5 8.5l.94-2.06 2.06-.94-2.06-.94L8.5 2.5l-.94 2.06-2.06.94zm10 10l.94 2.06.94-2.06 2.06-.94-2.06-.94-.94-2.06-.94 2.06-2.06.94z\"/><path d=\"M17.41 7.96l-1.37-1.37c-.4-.4-.92-.59-1.43-.59-.52 0-1.04.2-1.43.59L10.3 9.45l-7.72 7.72c-.78.78-.78 2.05 0 2.83L4 21.41c.39.39.9.59 1.41.59.51 0 1.02-.2 1.41-.59l7.78-7.78 2.81-2.81c.8-.78.8-2.07 0-2.86zM5.41 20L4 18.59l7.72-7.72 1.47 1.35L5.41 20z\"/>\n",
              "  </svg>\n",
              "      </button>\n",
              "      \n",
              "  <style>\n",
              "    .colab-df-container {\n",
              "      display:flex;\n",
              "      flex-wrap:wrap;\n",
              "      gap: 12px;\n",
              "    }\n",
              "\n",
              "    .colab-df-convert {\n",
              "      background-color: #E8F0FE;\n",
              "      border: none;\n",
              "      border-radius: 50%;\n",
              "      cursor: pointer;\n",
              "      display: none;\n",
              "      fill: #1967D2;\n",
              "      height: 32px;\n",
              "      padding: 0 0 0 0;\n",
              "      width: 32px;\n",
              "    }\n",
              "\n",
              "    .colab-df-convert:hover {\n",
              "      background-color: #E2EBFA;\n",
              "      box-shadow: 0px 1px 2px rgba(60, 64, 67, 0.3), 0px 1px 3px 1px rgba(60, 64, 67, 0.15);\n",
              "      fill: #174EA6;\n",
              "    }\n",
              "\n",
              "    [theme=dark] .colab-df-convert {\n",
              "      background-color: #3B4455;\n",
              "      fill: #D2E3FC;\n",
              "    }\n",
              "\n",
              "    [theme=dark] .colab-df-convert:hover {\n",
              "      background-color: #434B5C;\n",
              "      box-shadow: 0px 1px 3px 1px rgba(0, 0, 0, 0.15);\n",
              "      filter: drop-shadow(0px 1px 2px rgba(0, 0, 0, 0.3));\n",
              "      fill: #FFFFFF;\n",
              "    }\n",
              "  </style>\n",
              "\n",
              "      <script>\n",
              "        const buttonEl =\n",
              "          document.querySelector('#df-8ced8a38-1a1b-4f5b-8927-1ef9c98e6b3b button.colab-df-convert');\n",
              "        buttonEl.style.display =\n",
              "          google.colab.kernel.accessAllowed ? 'block' : 'none';\n",
              "\n",
              "        async function convertToInteractive(key) {\n",
              "          const element = document.querySelector('#df-8ced8a38-1a1b-4f5b-8927-1ef9c98e6b3b');\n",
              "          const dataTable =\n",
              "            await google.colab.kernel.invokeFunction('convertToInteractive',\n",
              "                                                     [key], {});\n",
              "          if (!dataTable) return;\n",
              "\n",
              "          const docLinkHtml = 'Like what you see? Visit the ' +\n",
              "            '<a target=\"_blank\" href=https://colab.research.google.com/notebooks/data_table.ipynb>data table notebook</a>'\n",
              "            + ' to learn more about interactive tables.';\n",
              "          element.innerHTML = '';\n",
              "          dataTable['output_type'] = 'display_data';\n",
              "          await google.colab.output.renderOutput(dataTable, element);\n",
              "          const docLink = document.createElement('div');\n",
              "          docLink.innerHTML = docLinkHtml;\n",
              "          element.appendChild(docLink);\n",
              "        }\n",
              "      </script>\n",
              "    </div>\n",
              "  </div>\n",
              "  "
            ]
          },
          "metadata": {},
          "execution_count": 61
        }
      ]
    },
    {
      "cell_type": "code",
      "source": [
        "# trump\n",
        "trump = pd.DataFrame({\"trump\": opinion['trump']})\n",
        "trump = trump[trump['trump'].apply(lambda x: len(x)) > 0]\n",
        "trump_index = list(trump.index)"
      ],
      "metadata": {
        "id": "ef_6wVvQIzj-"
      },
      "execution_count": null,
      "outputs": []
    },
    {
      "cell_type": "code",
      "source": [
        "trump = pd.DataFrame({\"trump\": opinion['trump']})"
      ],
      "metadata": {
        "id": "EhsHTbUDzzyn"
      },
      "execution_count": null,
      "outputs": []
    },
    {
      "cell_type": "code",
      "source": [
        "trump = trump[trump['trump'].apply(lambda x: len(x)) > 0]"
      ],
      "metadata": {
        "id": "_oSrNfpqz1NP"
      },
      "execution_count": null,
      "outputs": []
    },
    {
      "cell_type": "code",
      "source": [
        "trump_index = list(trump.index)"
      ],
      "metadata": {
        "id": "AIQTw5taz4qD"
      },
      "execution_count": null,
      "outputs": []
    },
    {
      "cell_type": "code",
      "source": [
        "def word_list(l):\n",
        "  ll = []\n",
        "  for i in list(l):\n",
        "    w = []\n",
        "    for s in i:\n",
        "      for word in s:\n",
        "        w.append(word)\n",
        "    ll.append(w)\n",
        "  return ll"
      ],
      "metadata": {
        "id": "Q1uMpK9sIjTC"
      },
      "execution_count": null,
      "outputs": []
    },
    {
      "cell_type": "code",
      "source": [
        "def get_v(list_p):\n",
        "  v = [w for s in list_p for w in s]\n",
        "  feature = [k for k, v in Counter(v).most_common() if v > 5]\n",
        "  return feature"
      ],
      "metadata": {
        "id": "i6EmPfR1b14g"
      },
      "execution_count": null,
      "outputs": []
    },
    {
      "cell_type": "code",
      "source": [
        "trump_list = word_list(trump[\"trump\"])\n",
        "feature1 = get_v(trump_list)\n",
        "trump_list = pd.DataFrame({\"trump\":trump_list})\n",
        "trump_list['trump'] = trump_list['trump'].apply(lambda x: ' '.join([word for word in x]))"
      ],
      "metadata": {
        "id": "nR6nngbtb3zc"
      },
      "execution_count": null,
      "outputs": []
    },
    {
      "cell_type": "code",
      "source": [
        "vectorizer = TfidfVectorizer(vocabulary=feature1, ngram_range=(1,2))\n",
        "TF_IDF1 = vectorizer.fit_transform(trump_list['trump'].values)\n",
        "TF_IDF_array1 = TF_IDF1.toarray()"
      ],
      "metadata": {
        "id": "rAZex9bBcEqE"
      },
      "execution_count": null,
      "outputs": []
    },
    {
      "cell_type": "code",
      "source": [
        "from sklearn.cluster import KMeans\n",
        "kmeans1 = KMeans(n_clusters=2, random_state=0).fit(TF_IDF1)"
      ],
      "metadata": {
        "id": "Uh4SL2JLcKMw"
      },
      "execution_count": null,
      "outputs": []
    },
    {
      "cell_type": "code",
      "source": [
        "from sklearn.metrics import pairwise_distances_argmin_min\n",
        "closest1, _ = pairwise_distances_argmin_min(kmeans1.cluster_centers_, TF_IDF1)"
      ],
      "metadata": {
        "id": "IyDLE0xhcM0g"
      },
      "execution_count": null,
      "outputs": []
    },
    {
      "cell_type": "code",
      "source": [
        "business.loc[trump_index[closest1[0]], 'commentBody'] # negative"
      ],
      "metadata": {
        "colab": {
          "base_uri": "https://localhost:8080/",
          "height": 122
        },
        "id": "zcE-9I_I4zPM",
        "outputId": "74dac426-63dc-4924-9db3-43d073c282f8"
      },
      "execution_count": null,
      "outputs": [
        {
          "output_type": "execute_result",
          "data": {
            "text/plain": [
              "\"This administration sickens me. These people are nothing but crooks and grifters. First of all, federal office (public service) is not and should not be an avenue for self-enrichment. Naivete will undoubtedly be used as an excuse by Kushner, et al. but ignorance of the law does not negate the law. Although, I have no doubt these people are not ignorant of the law. In reality, they've been crooks for so long this is the only behavior they know. So they continue with it. <br/><br/>It's my hope that Robert Mueller will take a very close look at Jared Kushner and his shenanigans and apparent abuse of position. It may also be illuminating for Mueller to arrange a meeting with Joshua Harris and Michael Corbat as well.<br/><br/>This has to stop. If crimes have been committed, lengthy jail sentences are warranted and should be expected. It is not only the abuse of office and defrauding of the American people, but the damage these activities have done and continue to do to the integrity of our institutions and the stability of our democracy. Justice must be served. \""
            ],
            "application/vnd.google.colaboratory.intrinsic+json": {
              "type": "string"
            }
          },
          "metadata": {},
          "execution_count": 72
        }
      ]
    },
    {
      "cell_type": "code",
      "source": [
        "business.loc[trump_index[closest1[1]], 'commentBody'] # positive"
      ],
      "metadata": {
        "colab": {
          "base_uri": "https://localhost:8080/",
          "height": 53
        },
        "id": "Mx-svH2C5JjV",
        "outputId": "5b6143e9-b296-4bd2-9022-095e72e83d53"
      },
      "execution_count": null,
      "outputs": [
        {
          "output_type": "execute_result",
          "data": {
            "text/plain": [
              "'trump has been itching for some kind of war and a trade war is better than a war war. no reason for a hissy fit; maybe he can actually achieve something beneficial to the working class with this.'"
            ],
            "application/vnd.google.colaboratory.intrinsic+json": {
              "type": "string"
            }
          },
          "metadata": {},
          "execution_count": 73
        }
      ]
    },
    {
      "cell_type": "code",
      "source": [
        "label1 = kmeans1.labels_"
      ],
      "metadata": {
        "id": "migpOHLTcPxj"
      },
      "execution_count": null,
      "outputs": []
    },
    {
      "cell_type": "code",
      "source": [
        "opinion[\"senti1\"] = np.zeros(len(opinion))"
      ],
      "metadata": {
        "id": "9siptJ6HdFmz"
      },
      "execution_count": null,
      "outputs": []
    },
    {
      "cell_type": "code",
      "source": [
        "opinion[\"senti1\"] = np.zeros(len(opinion))\n",
        "for i in range(len(label1)):\n",
        "  if label1[i] == 0:\n",
        "    opinion[\"senti1\"][trump_index[i]] = -1\n",
        "  if label1[i] == 1:\n",
        "    opinion[\"senti1\"][trump_index[i]] = 1"
      ],
      "metadata": {
        "colab": {
          "base_uri": "https://localhost:8080/"
        },
        "id": "B3u74wOOcP0K",
        "outputId": "81164282-702a-40f1-b4ea-128dfbaea007"
      },
      "execution_count": null,
      "outputs": [
        {
          "output_type": "stream",
          "name": "stderr",
          "text": [
            "<ipython-input-76-9b5b53c43fa0>:4: SettingWithCopyWarning: \n",
            "A value is trying to be set on a copy of a slice from a DataFrame\n",
            "\n",
            "See the caveats in the documentation: https://pandas.pydata.org/pandas-docs/stable/user_guide/indexing.html#returning-a-view-versus-a-copy\n",
            "  opinion[\"senti1\"][trump_index[i]] = -1\n",
            "<ipython-input-76-9b5b53c43fa0>:6: SettingWithCopyWarning: \n",
            "A value is trying to be set on a copy of a slice from a DataFrame\n",
            "\n",
            "See the caveats in the documentation: https://pandas.pydata.org/pandas-docs/stable/user_guide/indexing.html#returning-a-view-versus-a-copy\n",
            "  opinion[\"senti1\"][trump_index[i]] = 1\n"
          ]
        }
      ]
    },
    {
      "cell_type": "code",
      "source": [
        "# facebook\n",
        "facebook = pd.DataFrame({\"facebook\": opinion['facebook']})\n",
        "facebook = facebook[facebook['facebook'].apply(lambda x: len(x)) > 0]\n",
        "facebook_index = list(facebook.index)"
      ],
      "metadata": {
        "id": "atmc5cudcQAc"
      },
      "execution_count": null,
      "outputs": []
    },
    {
      "cell_type": "code",
      "source": [
        "facebook_list = word_list(facebook[\"facebook\"])\n",
        "feature2 = get_v(facebook_list)\n",
        "facebook_list = pd.DataFrame({\"facebook\":facebook_list})\n",
        "facebook_list['facebook'] = facebook_list['facebook'].apply(lambda x: ' '.join([word for word in x]))"
      ],
      "metadata": {
        "id": "PIlNqzvKcQDC"
      },
      "execution_count": null,
      "outputs": []
    },
    {
      "cell_type": "code",
      "source": [
        "vectorizer2 = TfidfVectorizer(vocabulary=feature2, ngram_range=(1,2))\n",
        "TF_IDF2 = vectorizer2.fit_transform(facebook_list['facebook'].values)\n",
        "kmeans2 = KMeans(n_clusters=2, random_state=0).fit(TF_IDF2)\n",
        "closest2, _ = pairwise_distances_argmin_min(kmeans2.cluster_centers_, TF_IDF2)"
      ],
      "metadata": {
        "id": "1W5Qyp_VcQF4"
      },
      "execution_count": null,
      "outputs": []
    },
    {
      "cell_type": "code",
      "source": [
        "business.loc[facebook_index[closest2[0]], 'commentBody'] # negative"
      ],
      "metadata": {
        "colab": {
          "base_uri": "https://localhost:8080/",
          "height": 70
        },
        "id": "XoIA2XeZ5Yde",
        "outputId": "c46c8437-fe93-4adf-e628-f3668077ba6a"
      },
      "execution_count": null,
      "outputs": [
        {
          "output_type": "execute_result",
          "data": {
            "text/plain": [
              "'The word \"social\" has become its own antonym. Nuts to Facebook, Twitter, and all the other antisocial  media. I feel sorry for people who are addicted to these opioids of modern technology. I lead a very fulfilling life, thank you, using old-fashioned, truly social media: face-to-face, the telephone (speaking, not texting) and email (\"good\" technology). Oh, and \"snail mail\" for greeting cards. '"
            ],
            "application/vnd.google.colaboratory.intrinsic+json": {
              "type": "string"
            }
          },
          "metadata": {},
          "execution_count": 80
        }
      ]
    },
    {
      "cell_type": "code",
      "source": [
        "business.loc[facebook_index[closest2[1]], 'commentBody'] # positive"
      ],
      "metadata": {
        "colab": {
          "base_uri": "https://localhost:8080/",
          "height": 53
        },
        "id": "P7QeBpgm5dhJ",
        "outputId": "65b48bb7-340b-4e2a-ac6d-3e46d1b69b56"
      },
      "execution_count": null,
      "outputs": [
        {
          "output_type": "execute_result",
          "data": {
            "text/plain": [
              "'Oh, boy. This is better than Facebook. I really want politicians and advertisers to know I’m angry and sad.<br/><br/>Does anyone else feel like they’re losing their mind with this constant prodding to reveal their inner monologue? Is there an app for that?'"
            ],
            "application/vnd.google.colaboratory.intrinsic+json": {
              "type": "string"
            }
          },
          "metadata": {},
          "execution_count": 81
        }
      ]
    },
    {
      "cell_type": "code",
      "source": [
        "label2 = kmeans2.labels_\n",
        "opinion[\"senti2\"] = np.zeros(len(opinion))\n",
        "for i in range(len(label2)):\n",
        "  if label2[i] == 0:\n",
        "    opinion[\"senti2\"][facebook_index[i]] = -1\n",
        "  if label2[i] == 1:\n",
        "    opinion[\"senti2\"][facebook_index[i]] = 1"
      ],
      "metadata": {
        "colab": {
          "base_uri": "https://localhost:8080/"
        },
        "id": "idJSNBar5my5",
        "outputId": "366d8cc3-c0d6-4c1c-b044-c706fe0f2d42"
      },
      "execution_count": null,
      "outputs": [
        {
          "output_type": "stream",
          "name": "stderr",
          "text": [
            "<ipython-input-82-140eb8ca8fde>:7: SettingWithCopyWarning: \n",
            "A value is trying to be set on a copy of a slice from a DataFrame\n",
            "\n",
            "See the caveats in the documentation: https://pandas.pydata.org/pandas-docs/stable/user_guide/indexing.html#returning-a-view-versus-a-copy\n",
            "  opinion[\"senti2\"][facebook_index[i]] = 1\n",
            "<ipython-input-82-140eb8ca8fde>:5: SettingWithCopyWarning: \n",
            "A value is trying to be set on a copy of a slice from a DataFrame\n",
            "\n",
            "See the caveats in the documentation: https://pandas.pydata.org/pandas-docs/stable/user_guide/indexing.html#returning-a-view-versus-a-copy\n",
            "  opinion[\"senti2\"][facebook_index[i]] = -1\n"
          ]
        }
      ]
    },
    {
      "cell_type": "code",
      "metadata": {
        "id": "cj8zOF9dRrSB"
      },
      "source": [
        "# world\n",
        "world = pd.DataFrame({\"world\": opinion['world']})\n",
        "world = world[world['world'].apply(lambda x: len(x)) > 0]\n",
        "world_index = list(world.index)"
      ],
      "execution_count": null,
      "outputs": []
    },
    {
      "cell_type": "code",
      "metadata": {
        "id": "C-6h2DgtRrx4"
      },
      "source": [
        "world_list = word_list(world[\"world\"])\n",
        "feature3 = get_v(world_list)\n",
        "world_list = pd.DataFrame({\"world\":world_list})\n",
        "world_list['world'] = world_list['world'].apply(lambda x: ' '.join([word for word in x]))"
      ],
      "execution_count": null,
      "outputs": []
    },
    {
      "cell_type": "code",
      "metadata": {
        "id": "6HrQEPt8Rr65"
      },
      "source": [
        "vectorizer3 = TfidfVectorizer(vocabulary=feature3, ngram_range=(1,2))\n",
        "TF_IDF3 = vectorizer3.fit_transform(world_list['world'].values)\n",
        "kmeans3 = KMeans(n_clusters=2, random_state=0).fit(TF_IDF3)\n",
        "closest3, _ = pairwise_distances_argmin_min(kmeans3.cluster_centers_, TF_IDF3)"
      ],
      "execution_count": null,
      "outputs": []
    },
    {
      "cell_type": "code",
      "metadata": {
        "colab": {
          "base_uri": "https://localhost:8080/",
          "height": 122
        },
        "id": "_J-qXus2RsBP",
        "outputId": "a2d5e682-0008-45fb-cd26-a826c8838229"
      },
      "source": [
        "business.loc[world_index[closest3[0]], 'commentBody'] # negative"
      ],
      "execution_count": null,
      "outputs": [
        {
          "output_type": "execute_result",
          "data": {
            "text/plain": [
              "'Trump cannot get past the days of his youth, when coal mining and steel production were big business.  He continually looks backward instead of forward into the economies of the future like alternative energy and new technologies.<br/><br/>Coal and steel?  Really? <br/><br/>And the worst part of it is that people that remember those days want to believe he can bring them back.  Just like farriers wanted believe horses would be the favored mode of transportation forever.<br/><br/>Mr. Trump, the genie is out of the bottle.  You cannot take us backwards, we must go toward the future, boldly, with all the money and resources and brains and expertise we have.<br/><br/>Or we will be left in the dust, like the farrier.  Every day you delay, we fall further behind.<br/><br/>China has 39 factories producing batteries for electric cars.  The rest of the world has 6.  Get it?'"
            ],
            "application/vnd.google.colaboratory.intrinsic+json": {
              "type": "string"
            }
          },
          "metadata": {},
          "execution_count": 86
        }
      ]
    },
    {
      "cell_type": "code",
      "metadata": {
        "colab": {
          "base_uri": "https://localhost:8080/",
          "height": 122
        },
        "id": "qnHPo32oTXSb",
        "outputId": "32a05907-5fe6-4398-c717-57e4a39a2a0f"
      },
      "source": [
        "business.loc[world_index[closest3[1]], 'commentBody']  # positive"
      ],
      "execution_count": null,
      "outputs": [
        {
          "output_type": "execute_result",
          "data": {
            "text/plain": [
              "\"Tariff is a weapon of economical warfare.  No matter how you want to look at it.  But above all else, the biggest losers are the consumers because all will be affected with an increase in price on everything domestic or foreign.  This is done without consultation or ratioanal intent.  This kind of decision should not be dictated by one individual particularly if we are still a democracy.  The ignorance of this is colossal; why can't we compete?!  Protecting inefficiency does not make a stronger nation or better nation.  America is a nation of commerce on a global scale.  We entered into trade treaties because the stability under which trade can occur without fearing the kind of action just happened in the WH.  Trade need stability and long range planning, the basis of a successful business.  One in five jobs in US are directly tied to foreign trade; any turbulence in trade will affect jobs and companies traded with foreign nations.  A tariff war will not hurt just these companies and workers but also domestic induxtries which may be tied to these companies and their job securities.  This is a cascade that will ultimately be transmitted down to the American consumers in higher bills to pay and higher prices for goods of every kind.  Other nations are banding together for stability with their trading partners.  We are just isolating ourselves from the world community.  As the largest trading nation, we can't afford trade wars.  We must meet competition.\""
            ],
            "application/vnd.google.colaboratory.intrinsic+json": {
              "type": "string"
            }
          },
          "metadata": {},
          "execution_count": 87
        }
      ]
    },
    {
      "cell_type": "code",
      "source": [
        "label3 = kmeans3.labels_\n",
        "opinion[\"senti3\"] = np.zeros(len(opinion))\n",
        "for i in range(len(label3)):\n",
        "  if label3[i] == 1:\n",
        "    opinion[\"senti3\"][world_index[i]] = -1\n",
        "  if label3[i] == 0:\n",
        "    opinion[\"senti3\"][world_index[i]] = 1"
      ],
      "metadata": {
        "colab": {
          "base_uri": "https://localhost:8080/"
        },
        "id": "-D0qiWfdiAaP",
        "outputId": "d0d452eb-3484-4ae5-e30d-418f73f61de3"
      },
      "execution_count": null,
      "outputs": [
        {
          "output_type": "stream",
          "name": "stderr",
          "text": [
            "<ipython-input-126-f5ac47783c44>:5: SettingWithCopyWarning: \n",
            "A value is trying to be set on a copy of a slice from a DataFrame\n",
            "\n",
            "See the caveats in the documentation: https://pandas.pydata.org/pandas-docs/stable/user_guide/indexing.html#returning-a-view-versus-a-copy\n",
            "  opinion[\"senti3\"][world_index[i]] = -1\n",
            "<ipython-input-126-f5ac47783c44>:7: SettingWithCopyWarning: \n",
            "A value is trying to be set on a copy of a slice from a DataFrame\n",
            "\n",
            "See the caveats in the documentation: https://pandas.pydata.org/pandas-docs/stable/user_guide/indexing.html#returning-a-view-versus-a-copy\n",
            "  opinion[\"senti3\"][world_index[i]] = 1\n"
          ]
        }
      ]
    },
    {
      "cell_type": "code",
      "metadata": {
        "id": "fhZdC8EXw3rk"
      },
      "source": [
        "# medium\n",
        "medium = pd.DataFrame({\"medium\": opinion['medium']})\n",
        "medium = medium[medium['medium'].apply(lambda x: len(x)) > 0]\n",
        "medium_index = list(medium.index)"
      ],
      "execution_count": null,
      "outputs": []
    },
    {
      "cell_type": "code",
      "metadata": {
        "id": "B2VvagGXw3us"
      },
      "source": [
        "medium_list = word_list(medium[\"medium\"])\n",
        "feature4 = get_v(medium_list)\n",
        "medium_list = pd.DataFrame({\"medium\":medium_list})\n",
        "medium_list['medium'] = medium_list['medium'].apply(lambda x: ' '.join([word for word in x]))"
      ],
      "execution_count": null,
      "outputs": []
    },
    {
      "cell_type": "code",
      "metadata": {
        "id": "QDLBsBagw3yV"
      },
      "source": [
        "vectorizer4 = TfidfVectorizer(vocabulary=feature4, ngram_range=(1,2))\n",
        "TF_IDF4 = vectorizer4.fit_transform(medium_list['medium'].values)\n",
        "kmeans4 = KMeans(n_clusters=2, random_state=0).fit(TF_IDF4)\n",
        "closest4, _ = pairwise_distances_argmin_min(kmeans4.cluster_centers_, TF_IDF4)"
      ],
      "execution_count": null,
      "outputs": []
    },
    {
      "cell_type": "code",
      "metadata": {
        "colab": {
          "base_uri": "https://localhost:8080/",
          "height": 35
        },
        "id": "1TQ7oeTdw30u",
        "outputId": "5db1b11f-4206-4b83-d9d4-a6ab3a6a2887"
      },
      "source": [
        "business.loc[medium_index[closest4[0]], 'commentBody']  # positive"
      ],
      "execution_count": null,
      "outputs": [
        {
          "output_type": "execute_result",
          "data": {
            "text/plain": [
              "'Facebook, and all other social media platforms, are media companies. Period. Advertising rules need to be applied. '"
            ],
            "application/vnd.google.colaboratory.intrinsic+json": {
              "type": "string"
            }
          },
          "metadata": {},
          "execution_count": 92
        }
      ]
    },
    {
      "cell_type": "code",
      "metadata": {
        "colab": {
          "base_uri": "https://localhost:8080/",
          "height": 70
        },
        "id": "sv5xoKvIw33I",
        "outputId": "b5ce5821-269d-4dd1-f5c7-b90aa565c6dc"
      },
      "source": [
        "business.loc[medium_index[closest4[1]], 'commentBody']  # negative"
      ],
      "execution_count": null,
      "outputs": [
        {
          "output_type": "execute_result",
          "data": {
            "text/plain": [
              "'Hmmm . . .<br/><br/>Cryptocurrency i.e. Bitcoins<br/><br/>Social Media  i.e. Facebook<br/><br/>The Winklevoss brothers<br/><br/>Mark Zuckerberg<br/><br/>Harvard\\'s \"Best &amp; Brightest\" ?  <br/><br/>I urge Harvard University\\'s incoming president to consider a heightened standard for undergraduate applicants :  the betterment of the planet and mankind.'"
            ],
            "application/vnd.google.colaboratory.intrinsic+json": {
              "type": "string"
            }
          },
          "metadata": {},
          "execution_count": 93
        }
      ]
    },
    {
      "cell_type": "code",
      "metadata": {
        "id": "6pJMqAoow36m",
        "colab": {
          "base_uri": "https://localhost:8080/"
        },
        "outputId": "3cfff04f-4f7d-4956-821d-06c567e81a94"
      },
      "source": [
        "label4 = kmeans4.labels_\n",
        "opinion[\"senti4\"] = np.zeros(len(opinion))\n",
        "for i in range(len(label4)):\n",
        "  if label4[i] == 0:\n",
        "    opinion[\"senti4\"][medium_index[i]] = 1\n",
        "  if label4[i] == 1:\n",
        "    opinion[\"senti4\"][medium_index[i]] = -1"
      ],
      "execution_count": null,
      "outputs": [
        {
          "output_type": "stream",
          "name": "stderr",
          "text": [
            "<ipython-input-94-e5fe02c87eb1>:7: SettingWithCopyWarning: \n",
            "A value is trying to be set on a copy of a slice from a DataFrame\n",
            "\n",
            "See the caveats in the documentation: https://pandas.pydata.org/pandas-docs/stable/user_guide/indexing.html#returning-a-view-versus-a-copy\n",
            "  opinion[\"senti4\"][medium_index[i]] = -1\n",
            "<ipython-input-94-e5fe02c87eb1>:5: SettingWithCopyWarning: \n",
            "A value is trying to be set on a copy of a slice from a DataFrame\n",
            "\n",
            "See the caveats in the documentation: https://pandas.pydata.org/pandas-docs/stable/user_guide/indexing.html#returning-a-view-versus-a-copy\n",
            "  opinion[\"senti4\"][medium_index[i]] = 1\n"
          ]
        }
      ]
    },
    {
      "cell_type": "code",
      "metadata": {
        "id": "D8wdLlqNymCu"
      },
      "source": [
        "# trade\n",
        "trade = pd.DataFrame({\"trade\": opinion['trade']})\n",
        "trade = trade[trade['trade'].apply(lambda x: len(x)) > 0]\n",
        "trade_index = list(trade.index)"
      ],
      "execution_count": null,
      "outputs": []
    },
    {
      "cell_type": "code",
      "metadata": {
        "id": "JzdLCkmDzH6w"
      },
      "source": [
        "trade_list = word_list(trade[\"trade\"])\n",
        "feature5 = get_v(trade_list)\n",
        "trade_list = pd.DataFrame({\"trade\":trade_list})\n",
        "trade_list['trade'] = trade_list['trade'].apply(lambda x: ' '.join([word for word in x]))"
      ],
      "execution_count": null,
      "outputs": []
    },
    {
      "cell_type": "code",
      "metadata": {
        "id": "AaAW_sO3zge_"
      },
      "source": [
        "vectorizer5 = TfidfVectorizer(vocabulary=feature5, ngram_range=(1,2))\n",
        "TF_IDF5 = vectorizer5.fit_transform(trade_list['trade'].values)\n",
        "kmeans5 = KMeans(n_clusters=2, random_state=0).fit(TF_IDF5)\n",
        "closest5, _ = pairwise_distances_argmin_min(kmeans5.cluster_centers_, TF_IDF5)"
      ],
      "execution_count": null,
      "outputs": []
    },
    {
      "cell_type": "code",
      "metadata": {
        "colab": {
          "base_uri": "https://localhost:8080/",
          "height": 35
        },
        "id": "A-b4n3Yhzgj0",
        "outputId": "9d41a33a-67f4-4b9d-c21c-de76c1ad3685"
      },
      "source": [
        "business.loc[trade_index[closest5[0]], 'commentBody'] # negative"
      ],
      "execution_count": null,
      "outputs": [
        {
          "output_type": "execute_result",
          "data": {
            "text/plain": [
              "'Bunker mentality. Gearing up for what, World War III? Or is it just a bully move? And what gives him the right to impose tariffs all by himself? This is nuts. '"
            ],
            "application/vnd.google.colaboratory.intrinsic+json": {
              "type": "string"
            }
          },
          "metadata": {},
          "execution_count": 98
        }
      ]
    },
    {
      "cell_type": "code",
      "metadata": {
        "colab": {
          "base_uri": "https://localhost:8080/",
          "height": 87
        },
        "id": "VD9vRjpNzgoA",
        "outputId": "485b31de-3136-42cd-89b7-5e03a89eb931"
      },
      "source": [
        "business.loc[trade_index[closest5[1]], 'commentBody'] # positive"
      ],
      "execution_count": null,
      "outputs": [
        {
          "output_type": "execute_result",
          "data": {
            "text/plain": [
              "\"Trade War is bad.  But shouldn't we impose environmental tax on products made in countries which don't have environmental regulations?  What's the point of strict environmental guidelines for American industries if they are allowed to move manufacturing to countries with no environmental regulations and then bring the products here?  Isn't that one of the reasons China's manufacturing costs are low?  No EPA regulations, no OSHA?  Add to the fact that China was dumping goods here by subsidizing their loss making steel and other industries. \""
            ],
            "application/vnd.google.colaboratory.intrinsic+json": {
              "type": "string"
            }
          },
          "metadata": {},
          "execution_count": 99
        }
      ]
    },
    {
      "cell_type": "code",
      "metadata": {
        "id": "6IS7ZU7o3C7p",
        "colab": {
          "base_uri": "https://localhost:8080/"
        },
        "outputId": "5912be30-3e77-46d9-8f4a-fc89e562388d"
      },
      "source": [
        "label5 = kmeans5.labels_\n",
        "opinion[\"senti5\"] = np.zeros(len(opinion))\n",
        "for i in range(len(label5)):\n",
        "  if label5[i] == 0:\n",
        "    opinion[\"senti5\"][trade_index[i]] = -1\n",
        "  if label5[i] == 1:\n",
        "    opinion[\"senti5\"][trade_index[i]] = 1"
      ],
      "execution_count": null,
      "outputs": [
        {
          "output_type": "stream",
          "name": "stderr",
          "text": [
            "<ipython-input-100-a164a78072a0>:7: SettingWithCopyWarning: \n",
            "A value is trying to be set on a copy of a slice from a DataFrame\n",
            "\n",
            "See the caveats in the documentation: https://pandas.pydata.org/pandas-docs/stable/user_guide/indexing.html#returning-a-view-versus-a-copy\n",
            "  opinion[\"senti5\"][trade_index[i]] = 1\n",
            "<ipython-input-100-a164a78072a0>:5: SettingWithCopyWarning: \n",
            "A value is trying to be set on a copy of a slice from a DataFrame\n",
            "\n",
            "See the caveats in the documentation: https://pandas.pydata.org/pandas-docs/stable/user_guide/indexing.html#returning-a-view-versus-a-copy\n",
            "  opinion[\"senti5\"][trade_index[i]] = -1\n"
          ]
        }
      ]
    },
    {
      "cell_type": "code",
      "metadata": {
        "id": "USC2QvaazhD5"
      },
      "source": [
        "# tariff\n",
        "tariff = pd.DataFrame({\"tariff\": opinion['tariff']})\n",
        "tariff = tariff[tariff['tariff'].apply(lambda x: len(x)) > 0]\n",
        "tariff_index = list(tariff.index)"
      ],
      "execution_count": null,
      "outputs": []
    },
    {
      "cell_type": "code",
      "metadata": {
        "id": "qVQZOxNnzhGs"
      },
      "source": [
        "tariff_list = word_list(tariff[\"tariff\"])\n",
        "feature7 = get_v(tariff_list)\n",
        "tariff_list = pd.DataFrame({\"tariff\":tariff_list})\n",
        "tariff_list['tariff'] = tariff_list['tariff'].apply(lambda x: ' '.join([word for word in x]))"
      ],
      "execution_count": null,
      "outputs": []
    },
    {
      "cell_type": "code",
      "metadata": {
        "id": "UzvQQz_PzhJS"
      },
      "source": [
        "vectorizer7 = TfidfVectorizer(vocabulary=feature7, ngram_range=(1,2))\n",
        "TF_IDF7 = vectorizer7.fit_transform(tariff_list['tariff'].values)\n",
        "kmeans7 = KMeans(n_clusters=2, random_state=0).fit(TF_IDF7)\n",
        "closest7, _ = pairwise_distances_argmin_min(kmeans7.cluster_centers_, TF_IDF7)"
      ],
      "execution_count": null,
      "outputs": []
    },
    {
      "cell_type": "code",
      "metadata": {
        "colab": {
          "base_uri": "https://localhost:8080/",
          "height": 53
        },
        "id": "S2sSsWgbzhM8",
        "outputId": "003e2358-919e-49ca-c873-5d754a487c2e"
      },
      "source": [
        "business.loc[tariff_index[closest7[0]], 'commentBody'] # negative"
      ],
      "execution_count": null,
      "outputs": [
        {
          "output_type": "execute_result",
          "data": {
            "text/plain": [
              "'Not many of us may like it, and many of us have serious issues we wish would be raised.<br/><br/>But at least we understand, this is not how free trade works in the age of globalization. Tariffs??? Someone needs to tell the stable genius this is 2018, not 1818.'"
            ],
            "application/vnd.google.colaboratory.intrinsic+json": {
              "type": "string"
            }
          },
          "metadata": {},
          "execution_count": 104
        }
      ]
    },
    {
      "cell_type": "code",
      "metadata": {
        "colab": {
          "base_uri": "https://localhost:8080/",
          "height": 35
        },
        "id": "PgNZ6BWEzhQ_",
        "outputId": "5170b1fd-8019-4a1a-8ae7-1320f4cb1f31"
      },
      "source": [
        "business.loc[tariff_index[closest7[1]], 'commentBody'] # positive"
      ],
      "execution_count": null,
      "outputs": [
        {
          "output_type": "execute_result",
          "data": {
            "text/plain": [
              "'But, but the tariffs are being imposed because of national security issues.'"
            ],
            "application/vnd.google.colaboratory.intrinsic+json": {
              "type": "string"
            }
          },
          "metadata": {},
          "execution_count": 105
        }
      ]
    },
    {
      "cell_type": "code",
      "metadata": {
        "id": "4G6Crsd-_bx4",
        "colab": {
          "base_uri": "https://localhost:8080/"
        },
        "outputId": "be6aca83-c63a-42d6-a804-64391bcde8de"
      },
      "source": [
        "label7 = kmeans7.labels_\n",
        "opinion[\"senti7\"] = np.zeros(len(opinion))\n",
        "for i in range(len(label7)):\n",
        "  if label7[i] == 0:\n",
        "    opinion[\"senti7\"][tariff_index[i]] = -1\n",
        "  if label7[i] == 1:\n",
        "    opinion[\"senti7\"][tariff_index[i]] = 1"
      ],
      "execution_count": null,
      "outputs": [
        {
          "output_type": "stream",
          "name": "stderr",
          "text": [
            "<ipython-input-106-c85d56acc4ba>:5: SettingWithCopyWarning: \n",
            "A value is trying to be set on a copy of a slice from a DataFrame\n",
            "\n",
            "See the caveats in the documentation: https://pandas.pydata.org/pandas-docs/stable/user_guide/indexing.html#returning-a-view-versus-a-copy\n",
            "  opinion[\"senti7\"][tariff_index[i]] = -1\n",
            "<ipython-input-106-c85d56acc4ba>:7: SettingWithCopyWarning: \n",
            "A value is trying to be set on a copy of a slice from a DataFrame\n",
            "\n",
            "See the caveats in the documentation: https://pandas.pydata.org/pandas-docs/stable/user_guide/indexing.html#returning-a-view-versus-a-copy\n",
            "  opinion[\"senti7\"][tariff_index[i]] = 1\n"
          ]
        }
      ]
    },
    {
      "cell_type": "code",
      "metadata": {
        "id": "-IpXrToo_b1v"
      },
      "source": [
        "# car\n",
        "car = pd.DataFrame({\"car\": opinion['car']})\n",
        "car = car[car['car'].apply(lambda x: len(x)) > 0]\n",
        "car_index = list(car.index)"
      ],
      "execution_count": null,
      "outputs": []
    },
    {
      "cell_type": "code",
      "metadata": {
        "id": "0tv_zR18_b7_"
      },
      "source": [
        "car_list = word_list(car[\"car\"])\n",
        "feature8 = get_v(car_list)\n",
        "car_list = pd.DataFrame({\"car\":car_list})\n",
        "car_list['car'] = car_list['car'].apply(lambda x: ' '.join([word for word in x]))"
      ],
      "execution_count": null,
      "outputs": []
    },
    {
      "cell_type": "code",
      "metadata": {
        "id": "K9-Q8dsP_b_k"
      },
      "source": [
        "vectorizer8 = TfidfVectorizer(vocabulary=feature8, ngram_range=(1,2))\n",
        "TF_IDF8 = vectorizer8.fit_transform(car_list['car'].values)\n",
        "kmeans8 = KMeans(n_clusters=2, random_state=0).fit(TF_IDF8)\n",
        "closest8, _ = pairwise_distances_argmin_min(kmeans8.cluster_centers_, TF_IDF8)"
      ],
      "execution_count": null,
      "outputs": []
    },
    {
      "cell_type": "code",
      "metadata": {
        "colab": {
          "base_uri": "https://localhost:8080/",
          "height": 35
        },
        "id": "nUYB_5t6_cCT",
        "outputId": "78248e33-3dac-4ed7-8fe7-ae8236834df1"
      },
      "source": [
        "business.loc[car_index[closest8[0]], 'commentBody'] # label 1 # positive"
      ],
      "execution_count": null,
      "outputs": [
        {
          "output_type": "execute_result",
          "data": {
            "text/plain": [
              "\"He is in the driver's seat.  We put him there.  We really don't have a leg to stand on.\""
            ],
            "application/vnd.google.colaboratory.intrinsic+json": {
              "type": "string"
            }
          },
          "metadata": {},
          "execution_count": 110
        }
      ]
    },
    {
      "cell_type": "code",
      "metadata": {
        "colab": {
          "base_uri": "https://localhost:8080/",
          "height": 122
        },
        "id": "Ru9XVO4X_cE_",
        "outputId": "f6886e6e-eb3e-4112-a150-ed9bf2868ff5"
      },
      "source": [
        "business.loc[car_index[2], 'commentBody']  # negative"
      ],
      "execution_count": null,
      "outputs": [
        {
          "output_type": "execute_result",
          "data": {
            "text/plain": [
              "'I am waiting for people to stand up and scream, \"ENOUGH!!\" When are the politicians, Republicans, anyone(!!) other than the W Post &amp; NYT writers/readers going to WAKE UP to this sham. From Ivanka\\'s fake woman\\'s crusade, the routine lying in the Daily Press Briefing, assorted Travel-gates with the secretaries, know-nothing secretaries that are ignorant re: their departments or want to destroy their domain,  a tax law that rewards the weathy and an infrastructure \"plan\" that will mainly benefit large corps. while we all pay for it with new road tolls. The list of other things I could mention is seemingly endless.  <br/><br/>Now we hear details of what we all thought was going on with Kushner all along.  Self dealing in office with no one to push him out.  This should have been a top shelf, Page ONE scandel and it probably only has a 1-2 day life in Trump world. Disgusting.  <br/><br/>My dream: Trump is guilty, pushed out; Pence is guilty too, pushed out; Dems win the House and Nancy Pelosi becomes USA\\'s first female President (and I dont even like Pelosi).'"
            ],
            "application/vnd.google.colaboratory.intrinsic+json": {
              "type": "string"
            }
          },
          "metadata": {},
          "execution_count": 111
        }
      ]
    },
    {
      "cell_type": "code",
      "metadata": {
        "id": "6Fgslfg3_cIW",
        "colab": {
          "base_uri": "https://localhost:8080/"
        },
        "outputId": "18fefe8d-1cfe-4be9-e946-49be321c7a24"
      },
      "source": [
        "label8 = kmeans8.labels_\n",
        "opinion[\"senti8\"] = np.zeros(len(opinion))\n",
        "for i in range(len(label8)):\n",
        "  if label8[i] == 0:\n",
        "    opinion[\"senti8\"][car_index[i]] = -1\n",
        "  if label8[i] == 1:\n",
        "    opinion[\"senti8\"][car_index[i]] = 1"
      ],
      "execution_count": null,
      "outputs": [
        {
          "output_type": "stream",
          "name": "stderr",
          "text": [
            "<ipython-input-112-2df0c7362225>:5: SettingWithCopyWarning: \n",
            "A value is trying to be set on a copy of a slice from a DataFrame\n",
            "\n",
            "See the caveats in the documentation: https://pandas.pydata.org/pandas-docs/stable/user_guide/indexing.html#returning-a-view-versus-a-copy\n",
            "  opinion[\"senti8\"][car_index[i]] = -1\n",
            "<ipython-input-112-2df0c7362225>:7: SettingWithCopyWarning: \n",
            "A value is trying to be set on a copy of a slice from a DataFrame\n",
            "\n",
            "See the caveats in the documentation: https://pandas.pydata.org/pandas-docs/stable/user_guide/indexing.html#returning-a-view-versus-a-copy\n",
            "  opinion[\"senti8\"][car_index[i]] = 1\n"
          ]
        }
      ]
    },
    {
      "cell_type": "code",
      "metadata": {
        "id": "UBq64B80C1mK"
      },
      "source": [
        "# pay\n",
        "pay = pd.DataFrame({\"pay\": opinion['pay']})\n",
        "pay = pay[pay['pay'].apply(lambda x: len(x)) > 0]\n",
        "pay_index = list(pay.index)"
      ],
      "execution_count": null,
      "outputs": []
    },
    {
      "cell_type": "code",
      "metadata": {
        "id": "TyrLRoajC1pz"
      },
      "source": [
        "pay_list = word_list(pay[\"pay\"])\n",
        "feature10 = get_v(pay_list)\n",
        "pay_list = pd.DataFrame({\"pay\":pay_list})\n",
        "pay_list['pay'] = pay_list['pay'].apply(lambda x: ' '.join([word for word in x]))"
      ],
      "execution_count": null,
      "outputs": []
    },
    {
      "cell_type": "code",
      "metadata": {
        "id": "v6REwP6KC1s7"
      },
      "source": [
        "vectorizer10 = TfidfVectorizer(vocabulary=feature10, ngram_range=(1,2))\n",
        "TF_IDF10 = vectorizer10.fit_transform(pay_list['pay'].values)\n",
        "kmeans10 = KMeans(n_clusters=2, random_state=0).fit(TF_IDF10)\n",
        "closest10, _ = pairwise_distances_argmin_min(kmeans10.cluster_centers_, TF_IDF10)"
      ],
      "execution_count": null,
      "outputs": []
    },
    {
      "cell_type": "code",
      "metadata": {
        "colab": {
          "base_uri": "https://localhost:8080/",
          "height": 35
        },
        "id": "6sJTsepLC1vx",
        "outputId": "f53a9de4-32b3-41ff-a114-05d2bb19f270"
      },
      "source": [
        "business.loc[pay_index[closest10[0]], 'commentBody'] # positive"
      ],
      "execution_count": null,
      "outputs": [
        {
          "output_type": "execute_result",
          "data": {
            "text/plain": [
              "\"Still a ripoff.  Very little goodwill in a whole foods store.  it's just an image you are paying for.  i will take a roadside vegetable stand any day of the week.\""
            ],
            "application/vnd.google.colaboratory.intrinsic+json": {
              "type": "string"
            }
          },
          "metadata": {},
          "execution_count": 116
        }
      ]
    },
    {
      "cell_type": "code",
      "source": [
        "business.loc[pay_index[closest10[1]], 'commentBody'] # negative"
      ],
      "metadata": {
        "colab": {
          "base_uri": "https://localhost:8080/",
          "height": 35
        },
        "id": "B3cMjfEoHAyf",
        "outputId": "239ebed6-93ca-4f03-fe4c-ad0d19d79f4e"
      },
      "execution_count": null,
      "outputs": [
        {
          "output_type": "execute_result",
          "data": {
            "text/plain": [
              "'  Trump paid her $130000 not to talk. Trump should demand $1.3 million payment if she wants to run her mouth about the affair. '"
            ],
            "application/vnd.google.colaboratory.intrinsic+json": {
              "type": "string"
            }
          },
          "metadata": {},
          "execution_count": 117
        }
      ]
    },
    {
      "cell_type": "code",
      "metadata": {
        "id": "6IsJYLCFC11i",
        "colab": {
          "base_uri": "https://localhost:8080/"
        },
        "outputId": "b315e47b-a519-41ae-c271-21a30b926b3e"
      },
      "source": [
        "label10 = kmeans10.labels_\n",
        "opinion[\"senti10\"] = np.zeros(len(opinion))\n",
        "for i in range(len(label10)):\n",
        "  if label10[i] == 0:\n",
        "    opinion[\"senti10\"][pay_index[i]] = 1\n",
        "  if label10[i] == 1:\n",
        "    opinion[\"senti10\"][pay_index[i]] = -1"
      ],
      "execution_count": null,
      "outputs": [
        {
          "output_type": "stream",
          "name": "stderr",
          "text": [
            "<ipython-input-118-01783cdf93d4>:5: SettingWithCopyWarning: \n",
            "A value is trying to be set on a copy of a slice from a DataFrame\n",
            "\n",
            "See the caveats in the documentation: https://pandas.pydata.org/pandas-docs/stable/user_guide/indexing.html#returning-a-view-versus-a-copy\n",
            "  opinion[\"senti10\"][pay_index[i]] = 1\n",
            "<ipython-input-118-01783cdf93d4>:7: SettingWithCopyWarning: \n",
            "A value is trying to be set on a copy of a slice from a DataFrame\n",
            "\n",
            "See the caveats in the documentation: https://pandas.pydata.org/pandas-docs/stable/user_guide/indexing.html#returning-a-view-versus-a-copy\n",
            "  opinion[\"senti10\"][pay_index[i]] = -1\n"
          ]
        }
      ]
    },
    {
      "cell_type": "code",
      "metadata": {
        "id": "iBJQ_cR4C14l"
      },
      "source": [
        "# country\n",
        "country = pd.DataFrame({\"country\": opinion['country']})\n",
        "country = country[country['country'].apply(lambda x: len(x)) > 0]\n",
        "country_index = list(country.index)"
      ],
      "execution_count": null,
      "outputs": []
    },
    {
      "cell_type": "code",
      "metadata": {
        "id": "Gn-sTc5Q_cWc"
      },
      "source": [
        "country_list = word_list(country[\"country\"])\n",
        "feature11 = get_v(country_list)\n",
        "country_list = pd.DataFrame({\"tax\":country_list})\n",
        "country_list['country'] = country_list['tax'].apply(lambda x: ' '.join([word for word in x]))"
      ],
      "execution_count": null,
      "outputs": []
    },
    {
      "cell_type": "code",
      "metadata": {
        "id": "vqMoHa0WIXii"
      },
      "source": [
        "vectorizer11 = TfidfVectorizer(vocabulary=feature11, ngram_range=(1,2))\n",
        "TF_IDF11 = vectorizer11.fit_transform(country_list['country'].values)\n",
        "kmeans11 = KMeans(n_clusters=2, random_state=0).fit(TF_IDF11)\n",
        "closest11, _ = pairwise_distances_argmin_min(kmeans11.cluster_centers_, TF_IDF11)"
      ],
      "execution_count": null,
      "outputs": []
    },
    {
      "cell_type": "code",
      "metadata": {
        "colab": {
          "base_uri": "https://localhost:8080/",
          "height": 53
        },
        "id": "4Fkf8Ul9IXmZ",
        "outputId": "287d7840-8063-4d78-870d-578f00fae687"
      },
      "source": [
        "business.loc[country_index[closest11[0]], 'commentBody']  # negative"
      ],
      "execution_count": null,
      "outputs": [
        {
          "output_type": "execute_result",
          "data": {
            "text/plain": [
              "'Mr. Trump seems not to realize that this kind of protectionism will be the start of an economic „war“ with his allies ( I.e. Germany, Canada etc.) and other trade partners. How could this man be elected to POTUS? Here in Europe we have no answer.'"
            ],
            "application/vnd.google.colaboratory.intrinsic+json": {
              "type": "string"
            }
          },
          "metadata": {},
          "execution_count": 122
        }
      ]
    },
    {
      "cell_type": "code",
      "metadata": {
        "colab": {
          "base_uri": "https://localhost:8080/",
          "height": 87
        },
        "id": "wGJvkFt4IXps",
        "outputId": "432b37fe-85b0-4101-dda2-09150fb42e1f"
      },
      "source": [
        "business.loc[country_index[closest11[1]], 'commentBody'] # positive"
      ],
      "execution_count": null,
      "outputs": [
        {
          "output_type": "execute_result",
          "data": {
            "text/plain": [
              "'We’ll see what Trump really does and whatever he told those steel guys might just turn out to be all talk.<br/><br/>This sure looks like Trump was furious at the White House burning down with scandals plus his own huge legal problems closing in and what to do? Roll out some tariffs and brag to the nation that trade wars are “good”. Hey the base might’ve slipped away a little with all this talk about gun control, time to reel back in any stragglers.<br/><br/>It’s not hard to imagine Trump screaming at Ross when the markets were tumbling and virtually every single economic expert torched him on Friday over  his half-baked ideas on trade.<br/><br/>Has Gary Cohn resigned yet?'"
            ],
            "application/vnd.google.colaboratory.intrinsic+json": {
              "type": "string"
            }
          },
          "metadata": {},
          "execution_count": 123
        }
      ]
    },
    {
      "cell_type": "code",
      "metadata": {
        "id": "CLxAQonpIXso",
        "colab": {
          "base_uri": "https://localhost:8080/"
        },
        "outputId": "2825c603-461e-4d3a-de5c-3e2a64619b76"
      },
      "source": [
        "label11 = kmeans11.labels_\n",
        "opinion[\"senti11\"] = np.zeros(len(opinion))\n",
        "for i in range(len(label11)):\n",
        "  if label11[i] == 0:\n",
        "    opinion[\"senti11\"][country_index[i]] = -1\n",
        "  if label11[i] == 1:\n",
        "    opinion[\"senti11\"][country_index[i]] = 1"
      ],
      "execution_count": null,
      "outputs": [
        {
          "output_type": "stream",
          "name": "stderr",
          "text": [
            "<ipython-input-124-d6991662f6db>:5: SettingWithCopyWarning: \n",
            "A value is trying to be set on a copy of a slice from a DataFrame\n",
            "\n",
            "See the caveats in the documentation: https://pandas.pydata.org/pandas-docs/stable/user_guide/indexing.html#returning-a-view-versus-a-copy\n",
            "  opinion[\"senti11\"][country_index[i]] = -1\n",
            "<ipython-input-124-d6991662f6db>:7: SettingWithCopyWarning: \n",
            "A value is trying to be set on a copy of a slice from a DataFrame\n",
            "\n",
            "See the caveats in the documentation: https://pandas.pydata.org/pandas-docs/stable/user_guide/indexing.html#returning-a-view-versus-a-copy\n",
            "  opinion[\"senti11\"][country_index[i]] = 1\n"
          ]
        }
      ]
    },
    {
      "cell_type": "code",
      "source": [
        "opinion.columns = ['opinion sentences', 'editor selection', 'trump', 'facebook', 'world', 'medium', 'trade', 'tariff', 'car', 'pay', 'country', 'senti1', 'senti2', 'senti3', 'senti4', 'senti5', 'senti6', 'senti7', 'senti8','senti9']"
      ],
      "metadata": {
        "id": "INmIOFU_NNk3"
      },
      "execution_count": null,
      "outputs": []
    },
    {
      "cell_type": "markdown",
      "source": [
        "# 6.Text Classification"
      ],
      "metadata": {
        "id": "tlmCrXlunVoo"
      }
    },
    {
      "cell_type": "code",
      "source": [
        "!pip install imbalanced-learn\n",
        "import imblearn\n",
        "from imblearn.over_sampling import ADASYN\n",
        "from imblearn.under_sampling import RandomUnderSampler\n",
        "from imblearn.pipeline import Pipeline\n",
        "import matplotlib.pyplot as plt  \n",
        "from sklearn.metrics import plot_confusion_matrix"
      ],
      "metadata": {
        "id": "qpSC4qUvnSFl"
      },
      "execution_count": null,
      "outputs": []
    },
    {
      "cell_type": "code",
      "source": [
        "from sklearn.model_selection import train_test_split, cross_val_score, KFold, cross_validate\n",
        "from sklearn.linear_model import LogisticRegression\n",
        "from sklearn.ensemble import RandomForestClassifier\n",
        "from sklearn import metrics\n",
        "from sklearn.metrics import classification_report, confusion_matrix, roc_auc_score, roc_curve, f1_score, accuracy_score"
      ],
      "metadata": {
        "id": "uCUNXBRxndN0"
      },
      "execution_count": null,
      "outputs": []
    },
    {
      "cell_type": "code",
      "source": [
        "y = opinion['editor selection']\n",
        "X = opinion.iloc[:, 11:]"
      ],
      "metadata": {
        "id": "1sBN3LuMndWY"
      },
      "execution_count": null,
      "outputs": []
    },
    {
      "cell_type": "code",
      "source": [
        "opinion['editor selection'].value_counts()"
      ],
      "metadata": {
        "colab": {
          "base_uri": "https://localhost:8080/"
        },
        "id": "j9wheAPVOEPd",
        "outputId": "d331204a-49d5-4c26-a90c-7588930a21bc"
      },
      "execution_count": null,
      "outputs": [
        {
          "output_type": "execute_result",
          "data": {
            "text/plain": [
              "0    12456\n",
              "1      254\n",
              "Name: editor selection, dtype: int64"
            ]
          },
          "metadata": {},
          "execution_count": 130
        }
      ]
    },
    {
      "cell_type": "code",
      "source": [
        "import seaborn as sns\n",
        "sns.set(style=\"white\")\n",
        "graph = sns.countplot(x = opinion['editor selection'], data = opinion,palette=\"hls\")\n",
        "i = 0\n",
        "for p in graph.patches:\n",
        "  height = p.get_height()  \n",
        "  graph.text(p.get_x()+p.get_width()/2., height + 0.1,\n",
        "         '{0:.0%}'.format((opinion['editor selection'].value_counts()[i])/12710),ha=\"center\")\n",
        "  i += 1\n",
        "plt.figure\n",
        "plt.savefig('label.eps', bbox_inches='tight')\n",
        "files.download(\"label.eps\")"
      ],
      "metadata": {
        "colab": {
          "base_uri": "https://localhost:8080/",
          "height": 285
        },
        "id": "kGRsjRTNOESF",
        "outputId": "cd57d6f9-074d-4f37-a1c7-ae86bf64ac74"
      },
      "execution_count": null,
      "outputs": [
        {
          "output_type": "display_data",
          "data": {
            "text/plain": [
              "<IPython.core.display.Javascript object>"
            ],
            "application/javascript": [
              "\n",
              "    async function download(id, filename, size) {\n",
              "      if (!google.colab.kernel.accessAllowed) {\n",
              "        return;\n",
              "      }\n",
              "      const div = document.createElement('div');\n",
              "      const label = document.createElement('label');\n",
              "      label.textContent = `Downloading \"${filename}\": `;\n",
              "      div.appendChild(label);\n",
              "      const progress = document.createElement('progress');\n",
              "      progress.max = size;\n",
              "      div.appendChild(progress);\n",
              "      document.body.appendChild(div);\n",
              "\n",
              "      const buffers = [];\n",
              "      let downloaded = 0;\n",
              "\n",
              "      const channel = await google.colab.kernel.comms.open(id);\n",
              "      // Send a message to notify the kernel that we're ready.\n",
              "      channel.send({})\n",
              "\n",
              "      for await (const message of channel.messages) {\n",
              "        // Send a message to notify the kernel that we're ready.\n",
              "        channel.send({})\n",
              "        if (message.buffers) {\n",
              "          for (const buffer of message.buffers) {\n",
              "            buffers.push(buffer);\n",
              "            downloaded += buffer.byteLength;\n",
              "            progress.value = downloaded;\n",
              "          }\n",
              "        }\n",
              "      }\n",
              "      const blob = new Blob(buffers, {type: 'application/binary'});\n",
              "      const a = document.createElement('a');\n",
              "      a.href = window.URL.createObjectURL(blob);\n",
              "      a.download = filename;\n",
              "      div.appendChild(a);\n",
              "      a.click();\n",
              "      div.remove();\n",
              "    }\n",
              "  "
            ]
          },
          "metadata": {}
        },
        {
          "output_type": "display_data",
          "data": {
            "text/plain": [
              "<IPython.core.display.Javascript object>"
            ],
            "application/javascript": [
              "download(\"download_3efe145c-60a2-41f3-b384-9bc4a037e2cc\", \"label.eps\", 14512)"
            ]
          },
          "metadata": {}
        },
        {
          "output_type": "display_data",
          "data": {
            "text/plain": [
              "<Figure size 432x288 with 1 Axes>"
            ],
            "image/png": "[encoded data removed]"
          },
          "metadata": {}
        }
      ]
    },
    {
      "cell_type": "code",
      "source": [
        "graph2 = sns.countplot(x=\"variable\", hue=\"value\", data=pd.melt(X))\n",
        "graph2.set_xticklabels(graph2.get_xticklabels(), rotation=40, ha=\"right\")\n",
        "plt.xlabel('Aspects')\n",
        "plt.figure\n",
        "plt.savefig('features.eps', bbox_inches='tight')\n",
        "files.download(\"features.eps\")"
      ],
      "metadata": {
        "colab": {
          "base_uri": "https://localhost:8080/",
          "height": 339
        },
        "id": "2G-7O2WhOEUe",
        "outputId": "d40b908c-8684-4398-bbb9-5eaf02995106"
      },
      "execution_count": null,
      "outputs": [
        {
          "output_type": "stream",
          "name": "stderr",
          "text": [
            "WARNING:matplotlib.backends.backend_ps:The PostScript backend does not support transparency; partially transparent artists will be rendered opaque.\n",
            "WARNING:matplotlib.backends.backend_ps:The PostScript backend does not support transparency; partially transparent artists will be rendered opaque.\n"
          ]
        },
        {
          "output_type": "display_data",
          "data": {
            "text/plain": [
              "<IPython.core.display.Javascript object>"
            ],
            "application/javascript": [
              "\n",
              "    async function download(id, filename, size) {\n",
              "      if (!google.colab.kernel.accessAllowed) {\n",
              "        return;\n",
              "      }\n",
              "      const div = document.createElement('div');\n",
              "      const label = document.createElement('label');\n",
              "      label.textContent = `Downloading \"${filename}\": `;\n",
              "      div.appendChild(label);\n",
              "      const progress = document.createElement('progress');\n",
              "      progress.max = size;\n",
              "      div.appendChild(progress);\n",
              "      document.body.appendChild(div);\n",
              "\n",
              "      const buffers = [];\n",
              "      let downloaded = 0;\n",
              "\n",
              "      const channel = await google.colab.kernel.comms.open(id);\n",
              "      // Send a message to notify the kernel that we're ready.\n",
              "      channel.send({})\n",
              "\n",
              "      for await (const message of channel.messages) {\n",
              "        // Send a message to notify the kernel that we're ready.\n",
              "        channel.send({})\n",
              "        if (message.buffers) {\n",
              "          for (const buffer of message.buffers) {\n",
              "            buffers.push(buffer);\n",
              "            downloaded += buffer.byteLength;\n",
              "            progress.value = downloaded;\n",
              "          }\n",
              "        }\n",
              "      }\n",
              "      const blob = new Blob(buffers, {type: 'application/binary'});\n",
              "      const a = document.createElement('a');\n",
              "      a.href = window.URL.createObjectURL(blob);\n",
              "      a.download = filename;\n",
              "      div.appendChild(a);\n",
              "      a.click();\n",
              "      div.remove();\n",
              "    }\n",
              "  "
            ]
          },
          "metadata": {}
        },
        {
          "output_type": "display_data",
          "data": {
            "text/plain": [
              "<IPython.core.display.Javascript object>"
            ],
            "application/javascript": [
              "download(\"download_4ede84e7-dbb1-4b39-98b6-bae8deaa6be4\", \"features.eps\", 23285)"
            ]
          },
          "metadata": {}
        },
        {
          "output_type": "display_data",
          "data": {
            "text/plain": [
              "<Figure size 432x288 with 1 Axes>"
            ],
            "image/png": "[encoded data removed]"
          },
          "metadata": {}
        }
      ]
    },
    {
      "cell_type": "code",
      "metadata": {
        "id": "w2I6RDC05Sxt"
      },
      "source": [
        "oversample = ADASYN()\n",
        "X, y = oversample.fit_resample(X, y)"
      ],
      "execution_count": null,
      "outputs": []
    },
    {
      "cell_type": "code",
      "metadata": {
        "colab": {
          "base_uri": "https://localhost:8080/"
        },
        "id": "C9WIftDv5icI",
        "outputId": "7820822b-4817-41fe-a074-501f2f323d48"
      },
      "source": [
        "Counter(y)"
      ],
      "execution_count": null,
      "outputs": [
        {
          "output_type": "execute_result",
          "data": {
            "text/plain": [
              "Counter({0: 12456, 1: 12534})"
            ]
          },
          "metadata": {},
          "execution_count": 134
        }
      ]
    },
    {
      "cell_type": "code",
      "metadata": {
        "id": "gL6-JRzBv8O8"
      },
      "source": [
        "X_train, X_test, y_train, y_test = train_test_split(X,y,test_size=0.4,random_state=11,stratify=y)"
      ],
      "execution_count": null,
      "outputs": []
    },
    {
      "cell_type": "code",
      "metadata": {
        "id": "pnWOl6fj3Jpu"
      },
      "source": [
        "cv = KFold(n_splits=10, random_state=1, shuffle=True)"
      ],
      "execution_count": null,
      "outputs": []
    },
    {
      "cell_type": "code",
      "metadata": {
        "id": "a_18y89uD0hJ"
      },
      "source": [
        "forest1 = RandomForestClassifier(oob_score = True, n_jobs = -1)"
      ],
      "execution_count": null,
      "outputs": []
    },
    {
      "cell_type": "code",
      "metadata": {
        "id": "P2pMzNDWkb0W"
      },
      "source": [
        "clf1 = LogisticRegression(random_state=0)"
      ],
      "execution_count": null,
      "outputs": []
    },
    {
      "cell_type": "code",
      "metadata": {
        "id": "3wXuKR_J7mgc"
      },
      "source": [
        "scores1 = cross_val_score(forest1, X_train, y_train, scoring='accuracy', cv=cv, n_jobs=-1)"
      ],
      "execution_count": null,
      "outputs": []
    },
    {
      "cell_type": "code",
      "metadata": {
        "id": "UqDso-TSlXS_"
      },
      "source": [
        "scores2 = cross_val_score(clf1, X_train, y_train, scoring='accuracy', cv=cv, n_jobs=-1)"
      ],
      "execution_count": null,
      "outputs": []
    },
    {
      "cell_type": "code",
      "metadata": {
        "id": "yPbXuBRT7xND"
      },
      "source": [
        "from numpy import mean, std"
      ],
      "execution_count": null,
      "outputs": []
    },
    {
      "cell_type": "code",
      "metadata": {
        "colab": {
          "base_uri": "https://localhost:8080/"
        },
        "id": "e5x9vVkL7vmZ",
        "outputId": "c022fb2f-7088-47f6-d9bf-dc71eff3d196"
      },
      "source": [
        "print('Performce of Random Forest: %.3f' % (mean(scores1)))"
      ],
      "execution_count": null,
      "outputs": [
        {
          "output_type": "stream",
          "name": "stdout",
          "text": [
            "Performce of Random Forest: 0.700\n"
          ]
        }
      ]
    },
    {
      "cell_type": "code",
      "metadata": {
        "colab": {
          "base_uri": "https://localhost:8080/"
        },
        "id": "NKcyyUYylb9t",
        "outputId": "bf6b89b3-f55c-431c-fa38-1c53d01ffd05"
      },
      "source": [
        "print('Performance of Logistic Regraression: %.3f' % (mean(scores2)))"
      ],
      "execution_count": null,
      "outputs": [
        {
          "output_type": "stream",
          "name": "stdout",
          "text": [
            "Performance of Logistic Regraression: 0.580\n"
          ]
        }
      ]
    },
    {
      "cell_type": "code",
      "metadata": {
        "id": "5eDTA7JxwvO-"
      },
      "source": [
        "y_test_pred1 = forest1.fit(X_train,y_train).predict(X_test)\n",
        "y_test_pred2 = clf1.fit(X_train,y_train).predict(X_test)"
      ],
      "execution_count": null,
      "outputs": []
    },
    {
      "cell_type": "code",
      "metadata": {
        "colab": {
          "base_uri": "https://localhost:8080/"
        },
        "id": "P8ueCtG0jRGi",
        "outputId": "cd4c9f05-ce57-49b8-d897-d8d144bbb331"
      },
      "source": [
        "print(\"Accuracy of test - Random Forest:\",metrics.accuracy_score(y_test, y_test_pred1))\n",
        "print(\"Accuracy of test - Logistic Regression:\",metrics.accuracy_score(y_test, y_test_pred2))"
      ],
      "execution_count": null,
      "outputs": [
        {
          "output_type": "stream",
          "name": "stdout",
          "text": [
            "Accuracy of test - Random Forest: 0.6888755502200881\n",
            "Accuracy of test - Logistic Regression: 0.5630252100840336\n"
          ]
        }
      ]
    },
    {
      "cell_type": "code",
      "metadata": {
        "colab": {
          "base_uri": "https://localhost:8080/"
        },
        "id": "f6n57x-Ye9HN",
        "outputId": "eec76db5-b03e-4274-b347-6283cd30f8c3"
      },
      "source": [
        "target_names = [\"0\",\"1\"]\n",
        "print(classification_report(y_test, y_test_pred1, target_names=target_names))"
      ],
      "execution_count": null,
      "outputs": [
        {
          "output_type": "stream",
          "name": "stdout",
          "text": [
            "              precision    recall  f1-score   support\n",
            "\n",
            "           0       0.65      0.82      0.72      4982\n",
            "           1       0.76      0.56      0.64      5014\n",
            "\n",
            "    accuracy                           0.69      9996\n",
            "   macro avg       0.70      0.69      0.68      9996\n",
            "weighted avg       0.70      0.69      0.68      9996\n",
            "\n"
          ]
        }
      ]
    },
    {
      "cell_type": "code",
      "metadata": {
        "colab": {
          "base_uri": "https://localhost:8080/"
        },
        "id": "LBKrUh3CzAW4",
        "outputId": "0d4ea5b9-9ef9-495e-9996-437c7d79aa74"
      },
      "source": [
        "print(classification_report(y_test, y_test_pred2, target_names=target_names))"
      ],
      "execution_count": null,
      "outputs": [
        {
          "output_type": "stream",
          "name": "stdout",
          "text": [
            "              precision    recall  f1-score   support\n",
            "\n",
            "           0       0.57      0.51      0.54      4982\n",
            "           1       0.56      0.61      0.59      5014\n",
            "\n",
            "    accuracy                           0.56      9996\n",
            "   macro avg       0.56      0.56      0.56      9996\n",
            "weighted avg       0.56      0.56      0.56      9996\n",
            "\n"
          ]
        }
      ]
    },
    {
      "cell_type": "code",
      "metadata": {
        "colab": {
          "base_uri": "https://localhost:8080/",
          "height": 356
        },
        "id": "NCOmlDT_ZPpi",
        "outputId": "5601d71e-316e-4392-eb77-e92a8143ac04"
      },
      "source": [
        "import matplotlib.pyplot as plt  \n",
        "from sklearn.metrics import plot_confusion_matrix\n",
        "cm1 = plot_confusion_matrix(forest1, X_test, y_test, display_labels = ['0','1'], cmap=plt.cm.Blues, values_format = \"d\")\n",
        "plt.title(\"Model a\",fontweight=\"bold\")\n",
        "cm1.ax_.get_images()[0].set_clim(1500, 5000)\n",
        "plt.figure\n",
        "plt.savefig('fig1.eps', bbox_inches='tight')\n",
        "files.download(\"fig1.eps\")"
      ],
      "execution_count": null,
      "outputs": [
        {
          "output_type": "stream",
          "name": "stderr",
          "text": [
            "/usr/local/lib/python3.8/dist-packages/sklearn/utils/deprecation.py:87: FutureWarning: Function plot_confusion_matrix is deprecated; Function `plot_confusion_matrix` is deprecated in 1.0 and will be removed in 1.2. Use one of the class methods: ConfusionMatrixDisplay.from_predictions or ConfusionMatrixDisplay.from_estimator.\n",
            "  warnings.warn(msg, category=FutureWarning)\n"
          ]
        },
        {
          "output_type": "display_data",
          "data": {
            "text/plain": [
              "<IPython.core.display.Javascript object>"
            ],
            "application/javascript": [
              "\n",
              "    async function download(id, filename, size) {\n",
              "      if (!google.colab.kernel.accessAllowed) {\n",
              "        return;\n",
              "      }\n",
              "      const div = document.createElement('div');\n",
              "      const label = document.createElement('label');\n",
              "      label.textContent = `Downloading \"${filename}\": `;\n",
              "      div.appendChild(label);\n",
              "      const progress = document.createElement('progress');\n",
              "      progress.max = size;\n",
              "      div.appendChild(progress);\n",
              "      document.body.appendChild(div);\n",
              "\n",
              "      const buffers = [];\n",
              "      let downloaded = 0;\n",
              "\n",
              "      const channel = await google.colab.kernel.comms.open(id);\n",
              "      // Send a message to notify the kernel that we're ready.\n",
              "      channel.send({})\n",
              "\n",
              "      for await (const message of channel.messages) {\n",
              "        // Send a message to notify the kernel that we're ready.\n",
              "        channel.send({})\n",
              "        if (message.buffers) {\n",
              "          for (const buffer of message.buffers) {\n",
              "            buffers.push(buffer);\n",
              "            downloaded += buffer.byteLength;\n",
              "            progress.value = downloaded;\n",
              "          }\n",
              "        }\n",
              "      }\n",
              "      const blob = new Blob(buffers, {type: 'application/binary'});\n",
              "      const a = document.createElement('a');\n",
              "      a.href = window.URL.createObjectURL(blob);\n",
              "      a.download = filename;\n",
              "      div.appendChild(a);\n",
              "      a.click();\n",
              "      div.remove();\n",
              "    }\n",
              "  "
            ]
          },
          "metadata": {}
        },
        {
          "output_type": "display_data",
          "data": {
            "text/plain": [
              "<IPython.core.display.Javascript object>"
            ],
            "application/javascript": [
              "download(\"download_9f939a53-28a1-4f8e-9b40-b3c08e7ad490\", \"fig1.eps\", 322100)"
            ]
          },
          "metadata": {}
        },
        {
          "output_type": "display_data",
          "data": {
            "text/plain": [
              "<Figure size 432x288 with 2 Axes>"
            ],
            "image/png": "[encoded data removed]"
          },
          "metadata": {}
        }
      ]
    },
    {
      "cell_type": "code",
      "metadata": {
        "colab": {
          "base_uri": "https://localhost:8080/",
          "height": 356
        },
        "id": "K37EljlmzT19",
        "outputId": "3e3b4f11-f412-4378-e7db-86c3da669dd3"
      },
      "source": [
        "cm2 = plot_confusion_matrix(clf1, X_test, y_test, display_labels = ['0','1'], cmap=plt.cm.Blues, values_format = \"d\")\n",
        "plt.title(\"Model b\",fontweight=\"bold\")\n",
        "cm2.ax_.get_images()[0].set_clim(1500, 5000)\n",
        "plt.figure\n",
        "plt.savefig('fig2.eps', bbox_inches='tight')\n",
        "files.download(\"fig2.eps\")"
      ],
      "execution_count": null,
      "outputs": [
        {
          "output_type": "stream",
          "name": "stderr",
          "text": [
            "/usr/local/lib/python3.8/dist-packages/sklearn/utils/deprecation.py:87: FutureWarning: Function plot_confusion_matrix is deprecated; Function `plot_confusion_matrix` is deprecated in 1.0 and will be removed in 1.2. Use one of the class methods: ConfusionMatrixDisplay.from_predictions or ConfusionMatrixDisplay.from_estimator.\n",
            "  warnings.warn(msg, category=FutureWarning)\n"
          ]
        },
        {
          "output_type": "display_data",
          "data": {
            "text/plain": [
              "<IPython.core.display.Javascript object>"
            ],
            "application/javascript": [
              "\n",
              "    async function download(id, filename, size) {\n",
              "      if (!google.colab.kernel.accessAllowed) {\n",
              "        return;\n",
              "      }\n",
              "      const div = document.createElement('div');\n",
              "      const label = document.createElement('label');\n",
              "      label.textContent = `Downloading \"${filename}\": `;\n",
              "      div.appendChild(label);\n",
              "      const progress = document.createElement('progress');\n",
              "      progress.max = size;\n",
              "      div.appendChild(progress);\n",
              "      document.body.appendChild(div);\n",
              "\n",
              "      const buffers = [];\n",
              "      let downloaded = 0;\n",
              "\n",
              "      const channel = await google.colab.kernel.comms.open(id);\n",
              "      // Send a message to notify the kernel that we're ready.\n",
              "      channel.send({})\n",
              "\n",
              "      for await (const message of channel.messages) {\n",
              "        // Send a message to notify the kernel that we're ready.\n",
              "        channel.send({})\n",
              "        if (message.buffers) {\n",
              "          for (const buffer of message.buffers) {\n",
              "            buffers.push(buffer);\n",
              "            downloaded += buffer.byteLength;\n",
              "            progress.value = downloaded;\n",
              "          }\n",
              "        }\n",
              "      }\n",
              "      const blob = new Blob(buffers, {type: 'application/binary'});\n",
              "      const a = document.createElement('a');\n",
              "      a.href = window.URL.createObjectURL(blob);\n",
              "      a.download = filename;\n",
              "      div.appendChild(a);\n",
              "      a.click();\n",
              "      div.remove();\n",
              "    }\n",
              "  "
            ]
          },
          "metadata": {}
        },
        {
          "output_type": "display_data",
          "data": {
            "text/plain": [
              "<IPython.core.display.Javascript object>"
            ],
            "application/javascript": [
              "download(\"download_e78366f0-ec56-40f1-bdb5-3a6241669b9a\", \"fig2.eps\", 322004)"
            ]
          },
          "metadata": {}
        },
        {
          "output_type": "display_data",
          "data": {
            "text/plain": [
              "<Figure size 432x288 with 2 Axes>"
            ],
            "image/png": "[encoded data removed]"
          },
          "metadata": {}
        }
      ]
    },
    {
      "cell_type": "code",
      "metadata": {
        "colab": {
          "base_uri": "https://localhost:8080/",
          "height": 336
        },
        "id": "noryVm_vnNCf",
        "outputId": "a50a6215-e172-466e-815d-36d330889bca"
      },
      "source": [
        "forest_roc_auc = roc_auc_score(y_test, forest1.predict(X_test))\n",
        "fpr, tpr, thresholds = roc_curve(y_test, forest1.predict_proba(X_test)[:,1])\n",
        "plt.figure()\n",
        "plt.plot(fpr, tpr, label='Random Forest (area = %0.2f)' % forest_roc_auc)\n",
        "plt.plot([0, 1], [0, 1],'r--')\n",
        "plt.xlim([0.0, 1.0])\n",
        "plt.ylim([0.0, 1.05])\n",
        "plt.xlabel('False Positive Rate')\n",
        "plt.ylabel('True Positive Rate')\n",
        "plt.title(\"Model a\",fontweight=\"bold\")\n",
        "plt.legend(loc=\"lower right\")\n",
        "plt.figure\n",
        "plt.savefig('fig3.eps', bbox_inches='tight')\n",
        "files.download(\"fig3.eps\")"
      ],
      "execution_count": null,
      "outputs": [
        {
          "output_type": "stream",
          "name": "stderr",
          "text": [
            "WARNING:matplotlib.backends.backend_ps:The PostScript backend does not support transparency; partially transparent artists will be rendered opaque.\n",
            "WARNING:matplotlib.backends.backend_ps:The PostScript backend does not support transparency; partially transparent artists will be rendered opaque.\n"
          ]
        },
        {
          "output_type": "display_data",
          "data": {
            "text/plain": [
              "<IPython.core.display.Javascript object>"
            ],
            "application/javascript": [
              "\n",
              "    async function download(id, filename, size) {\n",
              "      if (!google.colab.kernel.accessAllowed) {\n",
              "        return;\n",
              "      }\n",
              "      const div = document.createElement('div');\n",
              "      const label = document.createElement('label');\n",
              "      label.textContent = `Downloading \"${filename}\": `;\n",
              "      div.appendChild(label);\n",
              "      const progress = document.createElement('progress');\n",
              "      progress.max = size;\n",
              "      div.appendChild(progress);\n",
              "      document.body.appendChild(div);\n",
              "\n",
              "      const buffers = [];\n",
              "      let downloaded = 0;\n",
              "\n",
              "      const channel = await google.colab.kernel.comms.open(id);\n",
              "      // Send a message to notify the kernel that we're ready.\n",
              "      channel.send({})\n",
              "\n",
              "      for await (const message of channel.messages) {\n",
              "        // Send a message to notify the kernel that we're ready.\n",
              "        channel.send({})\n",
              "        if (message.buffers) {\n",
              "          for (const buffer of message.buffers) {\n",
              "            buffers.push(buffer);\n",
              "            downloaded += buffer.byteLength;\n",
              "            progress.value = downloaded;\n",
              "          }\n",
              "        }\n",
              "      }\n",
              "      const blob = new Blob(buffers, {type: 'application/binary'});\n",
              "      const a = document.createElement('a');\n",
              "      a.href = window.URL.createObjectURL(blob);\n",
              "      a.download = filename;\n",
              "      div.appendChild(a);\n",
              "      a.click();\n",
              "      div.remove();\n",
              "    }\n",
              "  "
            ]
          },
          "metadata": {}
        },
        {
          "output_type": "display_data",
          "data": {
            "text/plain": [
              "<IPython.core.display.Javascript object>"
            ],
            "application/javascript": [
              "download(\"download_91dbd215-d0ac-4ffa-a864-fc7cb2c02d5c\", \"fig3.eps\", 23266)"
            ]
          },
          "metadata": {}
        },
        {
          "output_type": "display_data",
          "data": {
            "text/plain": [
              "<Figure size 432x288 with 1 Axes>"
            ],
            "image/png": "[encoded data removed]"
          },
          "metadata": {}
        }
      ]
    },
    {
      "cell_type": "code",
      "metadata": {
        "colab": {
          "base_uri": "https://localhost:8080/",
          "height": 336
        },
        "id": "taGMP76cmITg",
        "outputId": "c3a81eeb-85c2-4be5-fe18-44d2b8b53a35"
      },
      "source": [
        "logit_roc_auc = roc_auc_score(y_test, clf1.predict(X_test))\n",
        "fpr, tpr, thresholds = roc_curve(y_test, clf1.predict_proba(X_test)[:,1])\n",
        "plt.figure()\n",
        "plt.plot(fpr, tpr, label='Logistic Regression (area = %0.2f)' % logit_roc_auc)\n",
        "plt.plot([0, 1], [0, 1],'r--')\n",
        "plt.xlim([0.0, 1.0])\n",
        "plt.ylim([0.0, 1.05])\n",
        "plt.xlabel('False Positive Rate')\n",
        "plt.ylabel('True Positive Rate')\n",
        "plt.title(\"Model b\",fontweight=\"bold\")\n",
        "plt.legend(loc=\"lower right\")\n",
        "plt.figure\n",
        "plt.savefig('fig4.eps', bbox_inches='tight')\n",
        "files.download(\"fig4.eps\")"
      ],
      "execution_count": null,
      "outputs": [
        {
          "output_type": "stream",
          "name": "stderr",
          "text": [
            "WARNING:matplotlib.backends.backend_ps:The PostScript backend does not support transparency; partially transparent artists will be rendered opaque.\n",
            "WARNING:matplotlib.backends.backend_ps:The PostScript backend does not support transparency; partially transparent artists will be rendered opaque.\n"
          ]
        },
        {
          "output_type": "display_data",
          "data": {
            "text/plain": [
              "<IPython.core.display.Javascript object>"
            ],
            "application/javascript": [
              "\n",
              "    async function download(id, filename, size) {\n",
              "      if (!google.colab.kernel.accessAllowed) {\n",
              "        return;\n",
              "      }\n",
              "      const div = document.createElement('div');\n",
              "      const label = document.createElement('label');\n",
              "      label.textContent = `Downloading \"${filename}\": `;\n",
              "      div.appendChild(label);\n",
              "      const progress = document.createElement('progress');\n",
              "      progress.max = size;\n",
              "      div.appendChild(progress);\n",
              "      document.body.appendChild(div);\n",
              "\n",
              "      const buffers = [];\n",
              "      let downloaded = 0;\n",
              "\n",
              "      const channel = await google.colab.kernel.comms.open(id);\n",
              "      // Send a message to notify the kernel that we're ready.\n",
              "      channel.send({})\n",
              "\n",
              "      for await (const message of channel.messages) {\n",
              "        // Send a message to notify the kernel that we're ready.\n",
              "        channel.send({})\n",
              "        if (message.buffers) {\n",
              "          for (const buffer of message.buffers) {\n",
              "            buffers.push(buffer);\n",
              "            downloaded += buffer.byteLength;\n",
              "            progress.value = downloaded;\n",
              "          }\n",
              "        }\n",
              "      }\n",
              "      const blob = new Blob(buffers, {type: 'application/binary'});\n",
              "      const a = document.createElement('a');\n",
              "      a.href = window.URL.createObjectURL(blob);\n",
              "      a.download = filename;\n",
              "      div.appendChild(a);\n",
              "      a.click();\n",
              "      div.remove();\n",
              "    }\n",
              "  "
            ]
          },
          "metadata": {}
        },
        {
          "output_type": "display_data",
          "data": {
            "text/plain": [
              "<IPython.core.display.Javascript object>"
            ],
            "application/javascript": [
              "download(\"download_a396d9a9-42bd-413e-a245-59e9c5d1cc39\", \"fig4.eps\", 29805)"
            ]
          },
          "metadata": {}
        },
        {
          "output_type": "display_data",
          "data": {
            "text/plain": [
              "<Figure size 432x288 with 1 Axes>"
            ],
            "image/png": "[encoded data removed]"
          },
          "metadata": {}
        }
      ]
    }
  ]
}